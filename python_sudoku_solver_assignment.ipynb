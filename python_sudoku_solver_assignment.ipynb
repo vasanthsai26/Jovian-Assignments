{
  "cells": [
    {
      "cell_type": "markdown",
      "id": "259e43a6",
      "metadata": {
        "id": "259e43a6"
      },
      "source": [
        "# Assignment 1 - Building a Sudoku Solver in Python\n",
        "\n",
        "This assignment is part of the [Zero to Data Science Bootcamp by Jovian](https://jovian.ai/learn/zero-to-data-analyst-bootcamp).\n"
      ]
    },
    {
      "cell_type": "markdown",
      "id": "9ae25b2b",
      "metadata": {
        "id": "9ae25b2b"
      },
      "source": [
        "## Introduction\n",
        "\n",
        "In this assignment, we'll write a Python program which can solve a Sudoku, a popular Japanese puzzle you may have seen in newspapers. Here's what a Sudoku looks like:\n",
        "\n",
        "<img src=\"https://i.imgur.com/vfArdnW.jpg\" width=\"360\">\n",
        "\n",
        "It's a 9x9 grid containing several blank spaces and some numbers (between 1 and 9). There are also nine 3x3 subgrids (indicated by the dark lines).\n",
        "\n",
        "\n",
        "> **Solving a Sudoku**: To _solve_ a Sudoku, you must fill all the blank spaces in the above 9x9 grid with digits so that each column, each row and each of the nine 3x3 subgrids (also called \"boxes\") contain all of the digits from 1 to 9, without repetition. \n",
        "\n",
        "Here's the solution to the above puzzle:\n",
        "\n",
        "<img src=\"https://i.imgur.com/0oXXRNk.png\" width=\"360\">\n",
        "\n",
        "Can you verify that this solution matches the criteria mentioned above?\n",
        "\n",
        "> **Sudoku World Record**: In 2018, China's Wang Shiyao set a new world record in Sudoku on Wednesday when she managed to solve a 9x9 sudoku grid in 54.44 seconds at the World Sudoku & Puzzle Championship held in Prague. \n",
        "\n",
        "Let's see if we can beat that record with a Python program, without solving even a single Sudoku by hand.\n",
        "\n",
        "Here are the steps we'll follow to create a Sudoku solver in Python:\n",
        "\n",
        "1. Represent a Sudoku as a list of lists in Python\n",
        "2. Create helper functions to extract rows, columns and boxes from the Sudoku\n",
        "3. Create functions to check if a Sudoku is valid or complete\n",
        "4. Use a recursive strategy to solve a Sudoku by trial & error\n",
        "5. Read 100 Sudokus from a file and solve them all together"
      ]
    },
    {
      "cell_type": "markdown",
      "id": "e94337f5",
      "metadata": {
        "id": "e94337f5"
      },
      "source": [
        "## 1. Puzzle Representation \n",
        "\n",
        "The first step for solving any real-world problem is to figure out the representation for the inputs and outputs of the problem. In this case, the input is an unsolved Sudoku puzzle and the output is the solved version of the input puzzles\n",
        "\n",
        "We'll use a list of lists of numbers to represent a Sudoku puzzle. \n",
        "\n",
        "<img src=\"https://i.imgur.com/vfArdnW.jpg\" width=\"360\">\n",
        "\n",
        "Here's how we can represent the above puzzle:"
      ]
    },
    {
      "cell_type": "code",
      "execution_count": 4,
      "id": "6a1085f3",
      "metadata": {
        "id": "6a1085f3"
      },
      "outputs": [],
      "source": [
        "puzzle1 = [[5, 3, 0, 0, 7, 0, 0, 0, 0], \n",
        "           [6, 0, 0, 1, 9, 5, 0, 0, 0], \n",
        "           [0, 9, 8, 0, 0, 0, 0, 6, 0], \n",
        "           [8, 0, 0, 0, 6, 0, 0, 0, 3],\n",
        "           [4, 0, 0, 8, 0, 3, 0, 0, 1],\n",
        "           [7, 0, 0, 0, 2, 0, 0, 0, 6],\n",
        "           [0, 6, 0, 0, 0, 0, 2, 8, 0],\n",
        "           [0, 0, 0, 4, 1, 9, 0, 0, 5],\n",
        "           [0, 0, 0, 0, 8, 0, 0, 7, 9]]"
      ]
    },
    {
      "cell_type": "code",
      "execution_count": 5,
      "id": "eb1a1226",
      "metadata": {
        "colab": {
          "base_uri": "https://localhost:8080/"
        },
        "id": "eb1a1226",
        "outputId": "8fcf86ab-2d73-4cf3-8115-742ff2c971ec"
      },
      "outputs": [
        {
          "output_type": "execute_result",
          "data": {
            "text/plain": [
              "[[5, 3, 0, 0, 7, 0, 0, 0, 0],\n",
              " [6, 0, 0, 1, 9, 5, 0, 0, 0],\n",
              " [0, 9, 8, 0, 0, 0, 0, 6, 0],\n",
              " [8, 0, 0, 0, 6, 0, 0, 0, 3],\n",
              " [4, 0, 0, 8, 0, 3, 0, 0, 1],\n",
              " [7, 0, 0, 0, 2, 0, 0, 0, 6],\n",
              " [0, 6, 0, 0, 0, 0, 2, 8, 0],\n",
              " [0, 0, 0, 4, 1, 9, 0, 0, 5],\n",
              " [0, 0, 0, 0, 8, 0, 0, 7, 9]]"
            ]
          },
          "metadata": {},
          "execution_count": 5
        }
      ],
      "source": [
        "puzzle1"
      ]
    },
    {
      "cell_type": "markdown",
      "id": "b8c5ee9d",
      "metadata": {
        "id": "b8c5ee9d"
      },
      "source": [
        "\n",
        "\n",
        "Note the following details about the above representation:\n",
        "\n",
        "- The outer list contains 9 elements, one for each row of the puzzle\n",
        "- Each element in the outer list is itself a list, containing 9 elements, one for each column\n",
        "- Blank spaces in the Sudoku are represented using `0` and filled spaces are represented using digits.\n",
        "\n",
        "We can check the number of rows and columns using the `len` function."
      ]
    },
    {
      "cell_type": "code",
      "execution_count": 6,
      "id": "4620a65c",
      "metadata": {
        "colab": {
          "base_uri": "https://localhost:8080/"
        },
        "id": "4620a65c",
        "outputId": "05971daa-9af5-41bd-e796-737637639411"
      },
      "outputs": [
        {
          "output_type": "execute_result",
          "data": {
            "text/plain": [
              "9"
            ]
          },
          "metadata": {},
          "execution_count": 6
        }
      ],
      "source": [
        "# Number of rows\n",
        "len(puzzle1)"
      ]
    },
    {
      "cell_type": "code",
      "execution_count": 7,
      "id": "64ee377e",
      "metadata": {
        "colab": {
          "base_uri": "https://localhost:8080/"
        },
        "id": "64ee377e",
        "outputId": "c935ccfc-20ce-4b19-901e-008acdd4cc09"
      },
      "outputs": [
        {
          "output_type": "execute_result",
          "data": {
            "text/plain": [
              "9"
            ]
          },
          "metadata": {},
          "execution_count": 7
        }
      ],
      "source": [
        "# Number of elements row no. 0\n",
        "len(puzzle1[0])"
      ]
    },
    {
      "cell_type": "markdown",
      "id": "3549dccf",
      "metadata": {
        "id": "3549dccf"
      },
      "source": [
        "We can access a row or a single value using the list indexing notation. Recall that list elements have indices from `0` to `n-1`, for a list of length `n`."
      ]
    },
    {
      "cell_type": "code",
      "execution_count": 8,
      "id": "ce2c05fb",
      "metadata": {
        "colab": {
          "base_uri": "https://localhost:8080/"
        },
        "id": "ce2c05fb",
        "outputId": "90464229-2f0d-489b-87d5-fbc101682efa"
      },
      "outputs": [
        {
          "output_type": "execute_result",
          "data": {
            "text/plain": [
              "[5, 3, 0, 0, 7, 0, 0, 0, 0]"
            ]
          },
          "metadata": {},
          "execution_count": 8
        }
      ],
      "source": [
        "# Row no. 0\n",
        "puzzle1[0]"
      ]
    },
    {
      "cell_type": "code",
      "execution_count": 9,
      "id": "3fc8eefb",
      "metadata": {
        "colab": {
          "base_uri": "https://localhost:8080/"
        },
        "id": "3fc8eefb",
        "outputId": "741d5bb2-c95b-4883-aec5-ef12bfc03546"
      },
      "outputs": [
        {
          "output_type": "execute_result",
          "data": {
            "text/plain": [
              "8"
            ]
          },
          "metadata": {},
          "execution_count": 9
        }
      ],
      "source": [
        "# Element at Row no. 2 and col no. 2 (counting from 0)\n",
        "puzzle1[2][2]"
      ]
    },
    {
      "cell_type": "markdown",
      "id": "b2f1cfbd",
      "metadata": {
        "id": "b2f1cfbd"
      },
      "source": [
        "Like the unsolved puzzle, the solved Sudoku can also be represented as a list of lists. Here's the solution to the above puzzle:\n",
        "\n",
        "<img src=\"https://i.imgur.com/0oXXRNk.png\" width=\"360\">\n",
        "\n",
        "> **QUESTION 1**: Represent the above solved Sudoku using a list of lists, in a similar fashion as the unsolved Sudoku.\n"
      ]
    },
    {
      "cell_type": "code",
      "execution_count": 10,
      "id": "a542d788",
      "metadata": {
        "id": "a542d788"
      },
      "outputs": [],
      "source": [
        "solution1 = [[5, 3, 4, 6, 7, 8, 9, 1, 2], \n",
        "           [6, 7, 2, 1, 9, 5, 3, 4, 8], \n",
        "           [1, 9, 8, 3, 4, 2, 5, 6, 7], \n",
        "           [8, 5, 9, 7, 6, 1, 4, 2, 3],\n",
        "           [4, 2, 6, 8, 5, 3, 7, 9, 1],\n",
        "           [7, 1, 3, 9, 2, 4, 8, 5, 6],\n",
        "           [9, 6, 1, 5, 3, 7, 2, 8, 4],\n",
        "           [2, 8, 7, 4, 1, 9, 6, 3, 5],\n",
        "           [3, 4, 5, 2, 8, 6, 1, 7, 9]]"
      ]
    },
    {
      "cell_type": "code",
      "execution_count": 11,
      "id": "4e43b90d",
      "metadata": {
        "colab": {
          "base_uri": "https://localhost:8080/"
        },
        "id": "4e43b90d",
        "outputId": "3fd2ab51-8f57-4678-cf97-689ea8032c2d"
      },
      "outputs": [
        {
          "output_type": "execute_result",
          "data": {
            "text/plain": [
              "[[5, 3, 4, 6, 7, 8, 9, 1, 2],\n",
              " [6, 7, 2, 1, 9, 5, 3, 4, 8],\n",
              " [1, 9, 8, 3, 4, 2, 5, 6, 7],\n",
              " [8, 5, 9, 7, 6, 1, 4, 2, 3],\n",
              " [4, 2, 6, 8, 5, 3, 7, 9, 1],\n",
              " [7, 1, 3, 9, 2, 4, 8, 5, 6],\n",
              " [9, 6, 1, 5, 3, 7, 2, 8, 4],\n",
              " [2, 8, 7, 4, 1, 9, 6, 3, 5],\n",
              " [3, 4, 5, 2, 8, 6, 1, 7, 9]]"
            ]
          },
          "metadata": {},
          "execution_count": 11
        }
      ],
      "source": [
        "solution1"
      ]
    },
    {
      "cell_type": "markdown",
      "id": "3beb9caa",
      "metadata": {
        "id": "3beb9caa"
      },
      "source": [
        "The following cell should output `True` if your definition of `solution1` is correct."
      ]
    },
    {
      "cell_type": "code",
      "execution_count": 12,
      "id": "e4c2252d",
      "metadata": {
        "colab": {
          "base_uri": "https://localhost:8080/"
        },
        "id": "e4c2252d",
        "outputId": "44feba46-7ed2-4b15-993e-1ce7ad29ceb6"
      },
      "outputs": [
        {
          "output_type": "execute_result",
          "data": {
            "text/plain": [
              "True"
            ]
          },
          "metadata": {},
          "execution_count": 12
        }
      ],
      "source": [
        "len(solution1) == 9 and len(solution1[0]) == 9"
      ]
    },
    {
      "cell_type": "markdown",
      "id": "bb648ad3",
      "metadata": {
        "id": "bb648ad3"
      },
      "source": [
        "\n",
        "\n",
        "> **QUESTION 2**: Retrieve row no. 3 of the solution (counting from 0) using the list indexing notation."
      ]
    },
    {
      "cell_type": "code",
      "execution_count": 13,
      "id": "7a5802c7",
      "metadata": {
        "id": "7a5802c7"
      },
      "outputs": [],
      "source": [
        "row3 = solution1[3]"
      ]
    },
    {
      "cell_type": "code",
      "execution_count": 14,
      "id": "7599496d",
      "metadata": {
        "colab": {
          "base_uri": "https://localhost:8080/"
        },
        "id": "7599496d",
        "outputId": "1b7cf202-e4ba-49b7-9a79-4eacc8a9b639"
      },
      "outputs": [
        {
          "output_type": "execute_result",
          "data": {
            "text/plain": [
              "[8, 5, 9, 7, 6, 1, 4, 2, 3]"
            ]
          },
          "metadata": {},
          "execution_count": 14
        }
      ],
      "source": [
        "row3"
      ]
    },
    {
      "cell_type": "markdown",
      "id": "fcd7c574",
      "metadata": {
        "id": "fcd7c574"
      },
      "source": [
        "The following cell should output `True` if your definition of `solution1` is correct."
      ]
    },
    {
      "cell_type": "code",
      "execution_count": 15,
      "id": "5f43edf7",
      "metadata": {
        "colab": {
          "base_uri": "https://localhost:8080/"
        },
        "id": "5f43edf7",
        "outputId": "4ecaa1d3-3e93-41dd-a81e-dc350b587f4d"
      },
      "outputs": [
        {
          "output_type": "execute_result",
          "data": {
            "text/plain": [
              "True"
            ]
          },
          "metadata": {},
          "execution_count": 15
        }
      ],
      "source": [
        "row3 == [8, 5, 9, 7, 6, 1, 4, 2, 3]"
      ]
    },
    {
      "cell_type": "markdown",
      "id": "8a784a94",
      "metadata": {
        "id": "8a784a94"
      },
      "source": [
        "\n",
        "\n",
        "> **QUESTION 3**: Retrieve the value in row no. 4 and column no. 5 of the solution (both counting from 0)."
      ]
    },
    {
      "cell_type": "code",
      "execution_count": 16,
      "id": "e680799b",
      "metadata": {
        "id": "e680799b"
      },
      "outputs": [],
      "source": [
        "val_4_5 = solution1[4][5]"
      ]
    },
    {
      "cell_type": "code",
      "execution_count": 17,
      "id": "4a40db61",
      "metadata": {
        "colab": {
          "base_uri": "https://localhost:8080/"
        },
        "id": "4a40db61",
        "outputId": "f1c6997a-937d-4721-8f2a-c0db9e8d165c"
      },
      "outputs": [
        {
          "output_type": "execute_result",
          "data": {
            "text/plain": [
              "3"
            ]
          },
          "metadata": {},
          "execution_count": 17
        }
      ],
      "source": [
        "val_4_5"
      ]
    },
    {
      "cell_type": "markdown",
      "id": "a706bd76",
      "metadata": {
        "id": "a706bd76"
      },
      "source": [
        "The following cell should output `True` if your definition of `solution1` is correct."
      ]
    },
    {
      "cell_type": "code",
      "execution_count": 18,
      "id": "bed6666b",
      "metadata": {
        "colab": {
          "base_uri": "https://localhost:8080/"
        },
        "id": "bed6666b",
        "outputId": "ab052321-e9e5-4c65-962b-112451b96108"
      },
      "outputs": [
        {
          "output_type": "execute_result",
          "data": {
            "text/plain": [
              "True"
            ]
          },
          "metadata": {},
          "execution_count": 18
        }
      ],
      "source": [
        "val_4_5 == 3"
      ]
    },
    {
      "cell_type": "markdown",
      "id": "fa8923d2",
      "metadata": {
        "id": "fa8923d2"
      },
      "source": [
        "> **QUESTION 4**: Retrieve the value in the last row and column no. 0 of the solution (counting from 0)."
      ]
    },
    {
      "cell_type": "code",
      "execution_count": 19,
      "id": "341e8ab1",
      "metadata": {
        "id": "341e8ab1"
      },
      "outputs": [],
      "source": [
        "val_last_zero = solution1[-1][0]"
      ]
    },
    {
      "cell_type": "code",
      "execution_count": 20,
      "id": "d383b027",
      "metadata": {
        "colab": {
          "base_uri": "https://localhost:8080/"
        },
        "id": "d383b027",
        "outputId": "e8d4ab76-fec6-4fcc-bbce-f8ffe36230cc"
      },
      "outputs": [
        {
          "output_type": "execute_result",
          "data": {
            "text/plain": [
              "3"
            ]
          },
          "metadata": {},
          "execution_count": 20
        }
      ],
      "source": [
        "val_last_zero"
      ]
    },
    {
      "cell_type": "markdown",
      "id": "1a5ff2e2",
      "metadata": {
        "id": "1a5ff2e2"
      },
      "source": [
        "The following cell should output `True` if your definition of `solution1` is correct."
      ]
    },
    {
      "cell_type": "code",
      "execution_count": 21,
      "id": "6e385c45",
      "metadata": {
        "colab": {
          "base_uri": "https://localhost:8080/"
        },
        "id": "6e385c45",
        "outputId": "36dc5023-0dd9-4b9a-fb66-7013c9124359"
      },
      "outputs": [
        {
          "output_type": "execute_result",
          "data": {
            "text/plain": [
              "True"
            ]
          },
          "metadata": {},
          "execution_count": 21
        }
      ],
      "source": [
        "val_last_zero == 3"
      ]
    },
    {
      "cell_type": "markdown",
      "id": "660afa72",
      "metadata": {
        "id": "660afa72"
      },
      "source": [
        "## 2. Extracting Rows, Columns and Boxes\n",
        "\n",
        "Before we can solve a Sudoku, we'll need a way to extract specific rows, columns and boxes from the Sudoku. We'll create a helper function for each of these. \n",
        "\n",
        "### Rows\n",
        "\n",
        "<img src=\"https://i.imgur.com/FR98oSb.jpg\" width=\"360\">\n",
        "\n",
        "> **QUESTION 5**: Write a function to extract row no. k (counting from 0) of a Sudoku as a list of numbers. Rows are numbered 0 to 8, starting from the top. E.g. row no. 2 above is `[0, 9, 8, 0, 0, 0, 0, 6, 0]`.\n",
        "     \n",
        "     \n"
      ]
    },
    {
      "cell_type": "code",
      "execution_count": 22,
      "id": "8ebfe014",
      "metadata": {
        "id": "8ebfe014"
      },
      "outputs": [],
      "source": [
        "def get_row(sudoku, k):\n",
        "    return sudoku[k]"
      ]
    },
    {
      "cell_type": "code",
      "execution_count": 23,
      "id": "2cacbfb7",
      "metadata": {
        "colab": {
          "base_uri": "https://localhost:8080/"
        },
        "id": "2cacbfb7",
        "outputId": "1138ff2a-2884-4166-d32e-7588feea3d1b"
      },
      "outputs": [
        {
          "output_type": "execute_result",
          "data": {
            "text/plain": [
              "[0, 9, 8, 0, 0, 0, 0, 6, 0]"
            ]
          },
          "metadata": {},
          "execution_count": 23
        }
      ],
      "source": [
        "get_row(puzzle1, 2)"
      ]
    },
    {
      "cell_type": "code",
      "execution_count": 24,
      "id": "da216a2c",
      "metadata": {
        "colab": {
          "base_uri": "https://localhost:8080/"
        },
        "id": "da216a2c",
        "outputId": "fd15c356-6c00-46c1-c099-6cc4d458185e"
      },
      "outputs": [
        {
          "output_type": "execute_result",
          "data": {
            "text/plain": [
              "[8, 5, 9, 7, 6, 1, 4, 2, 3]"
            ]
          },
          "metadata": {},
          "execution_count": 24
        }
      ],
      "source": [
        "get_row(solution1, 3)"
      ]
    },
    {
      "cell_type": "markdown",
      "id": "484d11d9",
      "metadata": {
        "id": "484d11d9"
      },
      "source": [
        "The following cell should output `True` if your definition is correct."
      ]
    },
    {
      "cell_type": "code",
      "execution_count": 25,
      "id": "56317aeb",
      "metadata": {
        "colab": {
          "base_uri": "https://localhost:8080/"
        },
        "id": "56317aeb",
        "outputId": "38d53d34-e801-4058-98ea-3f1bcb936e1b"
      },
      "outputs": [
        {
          "output_type": "execute_result",
          "data": {
            "text/plain": [
              "True"
            ]
          },
          "metadata": {},
          "execution_count": 25
        }
      ],
      "source": [
        "get_row(solution1, 3) == [8, 5, 9, 7, 6, 1, 4, 2, 3]"
      ]
    },
    {
      "cell_type": "code",
      "execution_count": 26,
      "id": "211fc0d8",
      "metadata": {
        "colab": {
          "base_uri": "https://localhost:8080/"
        },
        "id": "211fc0d8",
        "outputId": "78470d0c-7b67-4408-f765-af9de85b087f"
      },
      "outputs": [
        {
          "output_type": "execute_result",
          "data": {
            "text/plain": [
              "[3, 4, 5, 2, 8, 6, 1, 7, 9]"
            ]
          },
          "metadata": {},
          "execution_count": 26
        }
      ],
      "source": [
        "get_row(solution1, -1)"
      ]
    },
    {
      "cell_type": "markdown",
      "id": "b418190d",
      "metadata": {
        "id": "b418190d"
      },
      "source": [
        "\n",
        "### Columns\n",
        "\n",
        "<img src=\"https://i.imgur.com/FezcTVP.png\" width=\"360\">\n",
        "\n",
        "> **QUESTION 6**: Write a function to extract column no. k of a Sudoku as a list of numbers. Columns are numbered 0 to 8 starting from the left. E.g. column no. 4 above is `[7, 9, 0, 6, 0, 2, 0, 1, 8]`.\n",
        ">\n",
        "> *Hint*: Use a `for` loop or list comprehension to get the k-th element of each row.\n",
        "\n"
      ]
    },
    {
      "cell_type": "code",
      "execution_count": 27,
      "id": "aedb4f44",
      "metadata": {
        "id": "aedb4f44"
      },
      "outputs": [],
      "source": [
        "def get_col(sudoku, k):\n",
        "    #col = []\n",
        "    #for row in sudoku:\n",
        "    #    col.append(row[k])\n",
        "    #return col\n",
        "    return [row[k] for row in sudoku]"
      ]
    },
    {
      "cell_type": "code",
      "execution_count": 28,
      "id": "9385fb03",
      "metadata": {
        "colab": {
          "base_uri": "https://localhost:8080/"
        },
        "id": "9385fb03",
        "outputId": "79aa3d37-cdd2-46fa-e9c9-742633463119"
      },
      "outputs": [
        {
          "output_type": "execute_result",
          "data": {
            "text/plain": [
              "[7, 9, 0, 6, 0, 2, 0, 1, 8]"
            ]
          },
          "metadata": {},
          "execution_count": 28
        }
      ],
      "source": [
        "get_col(puzzle1, 4)"
      ]
    },
    {
      "cell_type": "code",
      "execution_count": 29,
      "id": "f7e4d0d7",
      "metadata": {
        "colab": {
          "base_uri": "https://localhost:8080/"
        },
        "id": "f7e4d0d7",
        "outputId": "23f24c11-9ec6-41d8-ae0b-703dbdad80b9"
      },
      "outputs": [
        {
          "output_type": "execute_result",
          "data": {
            "text/plain": [
              "[8, 5, 2, 1, 3, 4, 7, 9, 6]"
            ]
          },
          "metadata": {},
          "execution_count": 29
        }
      ],
      "source": [
        "get_col(solution1, 5)"
      ]
    },
    {
      "cell_type": "code",
      "execution_count": 30,
      "id": "9595adf5",
      "metadata": {
        "colab": {
          "base_uri": "https://localhost:8080/"
        },
        "id": "9595adf5",
        "outputId": "4b6410fc-1b2a-4f5c-df4c-e275bdba6535"
      },
      "outputs": [
        {
          "output_type": "execute_result",
          "data": {
            "text/plain": [
              "[[5, 3, 4, 6, 7, 8, 9, 1, 2],\n",
              " [6, 7, 2, 1, 9, 5, 3, 4, 8],\n",
              " [1, 9, 8, 3, 4, 2, 5, 6, 7],\n",
              " [8, 5, 9, 7, 6, 1, 4, 2, 3],\n",
              " [4, 2, 6, 8, 5, 3, 7, 9, 1],\n",
              " [7, 1, 3, 9, 2, 4, 8, 5, 6],\n",
              " [9, 6, 1, 5, 3, 7, 2, 8, 4],\n",
              " [2, 8, 7, 4, 1, 9, 6, 3, 5],\n",
              " [3, 4, 5, 2, 8, 6, 1, 7, 9]]"
            ]
          },
          "metadata": {},
          "execution_count": 30
        }
      ],
      "source": [
        "solution1"
      ]
    },
    {
      "cell_type": "markdown",
      "id": "4c0ab45a",
      "metadata": {
        "id": "4c0ab45a"
      },
      "source": [
        "The following cell should output `True` if your implementation is correct."
      ]
    },
    {
      "cell_type": "code",
      "execution_count": 31,
      "id": "91021bfe",
      "metadata": {
        "colab": {
          "base_uri": "https://localhost:8080/"
        },
        "id": "91021bfe",
        "outputId": "94cb383b-5b1e-4d18-9099-3db71009fc02"
      },
      "outputs": [
        {
          "output_type": "execute_result",
          "data": {
            "text/plain": [
              "True"
            ]
          },
          "metadata": {},
          "execution_count": 31
        }
      ],
      "source": [
        "get_col(solution1, 5) == [8, 5, 2, 1, 3, 4, 7, 9, 6]"
      ]
    },
    {
      "cell_type": "markdown",
      "id": "0e349068",
      "metadata": {
        "id": "0e349068"
      },
      "source": [
        "You can use the cells below to test your implementation with a few more cases."
      ]
    },
    {
      "cell_type": "code",
      "execution_count": 32,
      "id": "11282ab6",
      "metadata": {
        "colab": {
          "base_uri": "https://localhost:8080/"
        },
        "id": "11282ab6",
        "outputId": "a70ae04b-1181-44e1-ab79-fa6adf2b62e7"
      },
      "outputs": [
        {
          "output_type": "execute_result",
          "data": {
            "text/plain": [
              "[4, 2, 8, 9, 6, 3, 1, 7, 5]"
            ]
          },
          "metadata": {},
          "execution_count": 32
        }
      ],
      "source": [
        "get_col(solution1, 2)"
      ]
    },
    {
      "cell_type": "code",
      "execution_count": 33,
      "id": "92ccb015",
      "metadata": {
        "colab": {
          "base_uri": "https://localhost:8080/"
        },
        "id": "92ccb015",
        "outputId": "4fe38582-f5ff-4847-884f-cce86fa5e0e2"
      },
      "outputs": [
        {
          "output_type": "execute_result",
          "data": {
            "text/plain": [
              "[2, 8, 7, 3, 1, 6, 4, 5, 9]"
            ]
          },
          "metadata": {},
          "execution_count": 33
        }
      ],
      "source": [
        "get_col(solution1,-1)"
      ]
    },
    {
      "cell_type": "markdown",
      "id": "04c80671",
      "metadata": {
        "id": "04c80671"
      },
      "source": [
        "### Boxes\n",
        "\n",
        "<img src=\"https://i.imgur.com/n8wkXEo.jpg\" width=\"360\">\n",
        "\n",
        "> **QUESTION 7**: Each 3x3 subgrid of the Sudoku is called a box. Write a function to extract the box no. k of a Sudoku as a list of numbers. Boxes are numbered from 0 to 8 as shown above. The numbers in a box are represented as a list, going from left to right and top to bottom. E.g. box no. 0 above is `[5, 3, 0, 6, 0, 0, 0, 9, 8]`.\n",
        "> \n",
        "> *Hint*: Use `if-elif-else` statements to select the starting index of the box and list concatenation to join the 3 rows in a box into a single row."
      ]
    },
    {
      "cell_type": "code",
      "execution_count": 34,
      "id": "3422df76",
      "metadata": {
        "id": "3422df76"
      },
      "outputs": [],
      "source": [
        "def get_box(sudoku, k):\n",
        "    i,j = (k//3)*3 ,(k%3)*3\n",
        "    return sudoku[i][j:j+3] + sudoku[i+1][j:j+3] + sudoku[i+2][j:j+3]"
      ]
    },
    {
      "cell_type": "code",
      "execution_count": 35,
      "id": "7208a804",
      "metadata": {
        "colab": {
          "base_uri": "https://localhost:8080/"
        },
        "id": "7208a804",
        "outputId": "268331c3-55dd-4cf7-87a2-b3c85fe73b9e"
      },
      "outputs": [
        {
          "output_type": "execute_result",
          "data": {
            "text/plain": [
              "[5, 3, 0, 6, 0, 0, 0, 9, 8]"
            ]
          },
          "metadata": {},
          "execution_count": 35
        }
      ],
      "source": [
        "get_box(puzzle1, 0)"
      ]
    },
    {
      "cell_type": "code",
      "execution_count": 36,
      "id": "063979a4",
      "metadata": {
        "colab": {
          "base_uri": "https://localhost:8080/"
        },
        "id": "063979a4",
        "outputId": "a439913a-cd14-4290-f31a-f18af26880ab"
      },
      "outputs": [
        {
          "output_type": "execute_result",
          "data": {
            "text/plain": [
              "[5, 3, 7, 4, 1, 9, 2, 8, 6]"
            ]
          },
          "metadata": {},
          "execution_count": 36
        }
      ],
      "source": [
        "get_box(solution1, 7)"
      ]
    },
    {
      "cell_type": "markdown",
      "id": "60be2630",
      "metadata": {
        "id": "60be2630"
      },
      "source": [
        "The following cell should output `True` if your implementation is correct."
      ]
    },
    {
      "cell_type": "code",
      "execution_count": 37,
      "id": "6f0c5c01",
      "metadata": {
        "colab": {
          "base_uri": "https://localhost:8080/"
        },
        "id": "6f0c5c01",
        "outputId": "8bc7ed67-285d-4b5a-9ba0-93104fb16406"
      },
      "outputs": [
        {
          "output_type": "execute_result",
          "data": {
            "text/plain": [
              "True"
            ]
          },
          "metadata": {},
          "execution_count": 37
        }
      ],
      "source": [
        "get_box(solution1, 7) == [5, 3, 7, 4, 1, 9, 2, 8, 6]"
      ]
    },
    {
      "cell_type": "markdown",
      "id": "92f631b1",
      "metadata": {
        "id": "92f631b1"
      },
      "source": [
        "You can use the cells below to test your implementation with a few more cases."
      ]
    },
    {
      "cell_type": "code",
      "execution_count": 38,
      "id": "1a58ecac",
      "metadata": {
        "colab": {
          "base_uri": "https://localhost:8080/"
        },
        "id": "1a58ecac",
        "outputId": "3d917c0c-afa3-41d6-ec1a-531088883be3"
      },
      "outputs": [
        {
          "output_type": "execute_result",
          "data": {
            "text/plain": [
              "[2, 8, 4, 6, 3, 5, 1, 7, 9]"
            ]
          },
          "metadata": {},
          "execution_count": 38
        }
      ],
      "source": [
        "get_box(solution1,-1)"
      ]
    },
    {
      "cell_type": "code",
      "execution_count": 39,
      "id": "2dead960",
      "metadata": {
        "colab": {
          "base_uri": "https://localhost:8080/",
          "height": 170
        },
        "id": "2dead960",
        "outputId": "06c01f15-9320-4e0e-bf01-3ca7f414339f"
      },
      "outputs": [
        {
          "output_type": "error",
          "ename": "NameError",
          "evalue": "ignored",
          "traceback": [
            "\u001b[0;31m---------------------------------------------------------------------------\u001b[0m",
            "\u001b[0;31mNameError\u001b[0m                                 Traceback (most recent call last)",
            "\u001b[0;32m<ipython-input-39-7f2017c1a3df>\u001b[0m in \u001b[0;36m<module>\u001b[0;34m\u001b[0m\n\u001b[0;32m----> 1\u001b[0;31m \u001b[0mjovian\u001b[0m\u001b[0;34m.\u001b[0m\u001b[0mcommit\u001b[0m\u001b[0;34m(\u001b[0m\u001b[0;34m)\u001b[0m\u001b[0;34m\u001b[0m\u001b[0;34m\u001b[0m\u001b[0m\n\u001b[0m",
            "\u001b[0;31mNameError\u001b[0m: name 'jovian' is not defined"
          ]
        }
      ],
      "source": [
        "jovian.commit()"
      ]
    },
    {
      "cell_type": "markdown",
      "id": "f7e4b4c4",
      "metadata": {
        "id": "f7e4b4c4"
      },
      "source": [
        "### First Empty Position\n",
        "\n",
        "To start filling the Sudoku, we need to find an empty position to fill.\n",
        "\n",
        "> **QUESTION 8**: Write a function which finds the row & column index of the first empty position (indicated by 0) within a Sudoku. If the row no. i and column no. j column is the first empty position, the function should return the tuple `i, j`. If there are no empty positions, return `None, None`."
      ]
    },
    {
      "cell_type": "code",
      "execution_count": 40,
      "id": "cb05a04a",
      "metadata": {
        "id": "cb05a04a"
      },
      "outputs": [],
      "source": [
        "def first_empty_position(sudoku):\n",
        "    for i in range(9):\n",
        "        for j in range(9):\n",
        "            if sudoku[i][j] == 0:\n",
        "                return i,j\n",
        "    return None,None\n"
      ]
    },
    {
      "cell_type": "code",
      "execution_count": 41,
      "id": "a6b1ca96",
      "metadata": {
        "colab": {
          "base_uri": "https://localhost:8080/"
        },
        "id": "a6b1ca96",
        "outputId": "8ddda147-3874-4e6f-85d8-30d298174368"
      },
      "outputs": [
        {
          "output_type": "execute_result",
          "data": {
            "text/plain": [
              "(0, 2)"
            ]
          },
          "metadata": {},
          "execution_count": 41
        }
      ],
      "source": [
        "first_empty_position(puzzle1)"
      ]
    },
    {
      "cell_type": "code",
      "execution_count": 42,
      "id": "14e80c7b",
      "metadata": {
        "colab": {
          "base_uri": "https://localhost:8080/"
        },
        "id": "14e80c7b",
        "outputId": "207fe67e-1527-4f30-c33c-f08a9dc9cd13"
      },
      "outputs": [
        {
          "output_type": "execute_result",
          "data": {
            "text/plain": [
              "(None, None)"
            ]
          },
          "metadata": {},
          "execution_count": 42
        }
      ],
      "source": [
        "first_empty_position(solution1)"
      ]
    },
    {
      "cell_type": "markdown",
      "id": "21a320ec",
      "metadata": {
        "id": "21a320ec"
      },
      "source": [
        "If your implementation is correct, the following cell should return `True`."
      ]
    },
    {
      "cell_type": "code",
      "execution_count": 43,
      "id": "1aff6b8a",
      "metadata": {
        "colab": {
          "base_uri": "https://localhost:8080/"
        },
        "id": "1aff6b8a",
        "outputId": "1544a86a-3091-4bb2-b6a3-bfccb3717ce2"
      },
      "outputs": [
        {
          "output_type": "execute_result",
          "data": {
            "text/plain": [
              "True"
            ]
          },
          "metadata": {},
          "execution_count": 43
        }
      ],
      "source": [
        "first_empty_position(puzzle1) == (0, 2)"
      ]
    },
    {
      "cell_type": "code",
      "execution_count": 44,
      "id": "820a3c07",
      "metadata": {
        "colab": {
          "base_uri": "https://localhost:8080/"
        },
        "id": "820a3c07",
        "outputId": "a92c037a-0173-435e-cb93-a30d61ebe1e5"
      },
      "outputs": [
        {
          "output_type": "execute_result",
          "data": {
            "text/plain": [
              "True"
            ]
          },
          "metadata": {},
          "execution_count": 44
        }
      ],
      "source": [
        "first_empty_position(solution1) == (None, None)"
      ]
    },
    {
      "cell_type": "markdown",
      "id": "5eca8f19",
      "metadata": {
        "id": "5eca8f19"
      },
      "source": [
        "## 3. Sudoku Validations \n",
        "\n",
        "\n",
        "### Valid Sudoku\n",
        "\n",
        "A Sudoku puzzle is valid if none of the rows, columns, or boxes contains repeating digits. For example, if a row of a Sudoku contains the number 5 twice, then the Sudoku puzzle is invalid and can't be solved. The same holds true for columns and boxes.\n",
        "\n",
        "\n",
        "![](https://i.imgur.com/QfvkcsM.png)\n",
        "\n",
        "\n",
        "First, we'll create a helper function to check if a row/column/box in a Sudoku is valid.\n",
        "\n",
        "> **QUESTION 9**: Write a function to check if a list of 9 numbers (containing digits from 1 to 9 and 0s to indicate blank spaces) is a valid section (row, column or box) for a Sudoku. Only 0 can occur more than once, the numbers 1 to 9 can occur at most once. Your function should return `True` if the section is valid and `False` otherwise.\n",
        ">\n",
        "> *Hint*: You may find the `count` method of a list useful."
      ]
    },
    {
      "cell_type": "code",
      "execution_count": 46,
      "id": "325d17f8",
      "metadata": {
        "id": "325d17f8"
      },
      "outputs": [],
      "source": [
        "def is_section_valid(nums):\n",
        "    section_dict = {}\n",
        "    for num in nums:\n",
        "        if num == 0 : \n",
        "            continue\n",
        "        elif num not in section_dict:\n",
        "            section_dict[num] = nums.count(num)\n",
        "    return not (max(section_dict.values()) > 1)\n",
        "    "
      ]
    },
    {
      "cell_type": "code",
      "execution_count": 47,
      "id": "c8686a2e",
      "metadata": {
        "colab": {
          "base_uri": "https://localhost:8080/"
        },
        "id": "c8686a2e",
        "outputId": "68cea24f-1b04-4371-f557-8264646a8294"
      },
      "outputs": [
        {
          "output_type": "execute_result",
          "data": {
            "text/plain": [
              "True"
            ]
          },
          "metadata": {},
          "execution_count": 47
        }
      ],
      "source": [
        "# should return True\n",
        "is_section_valid([5, 3, 7, 4, 1, 9, 2, 8, 6])"
      ]
    },
    {
      "cell_type": "code",
      "execution_count": 48,
      "id": "b4f90027",
      "metadata": {
        "colab": {
          "base_uri": "https://localhost:8080/"
        },
        "id": "b4f90027",
        "outputId": "c3614360-3c3e-479c-870e-7f1f2907ed0c"
      },
      "outputs": [
        {
          "output_type": "execute_result",
          "data": {
            "text/plain": [
              "True"
            ]
          },
          "metadata": {},
          "execution_count": 48
        }
      ],
      "source": [
        "# should return True\n",
        "is_section_valid([5, 3, 0, 6, 0, 0, 0, 9, 8])"
      ]
    },
    {
      "cell_type": "code",
      "execution_count": 49,
      "id": "40fbce79",
      "metadata": {
        "colab": {
          "base_uri": "https://localhost:8080/"
        },
        "id": "40fbce79",
        "outputId": "32b5266e-282b-497d-b2c8-17c7998fdf0b"
      },
      "outputs": [
        {
          "output_type": "execute_result",
          "data": {
            "text/plain": [
              "False"
            ]
          },
          "metadata": {},
          "execution_count": 49
        }
      ],
      "source": [
        "# should return False\n",
        "is_section_valid([5, 3, 0, 6, 0, 8, 0, 9, 8])"
      ]
    },
    {
      "cell_type": "markdown",
      "id": "d57f11ad",
      "metadata": {
        "id": "d57f11ad"
      },
      "source": [
        "We can now use the `is_section_valid` function to check if each row, column and box is valid. Rows, columns and boxes are retrieved using the `get_row`, `get_column` and `get_box` functions defined earlier.\n",
        "\n",
        "Let's create a function `is_sudoku_valid` to bring it all together."
      ]
    },
    {
      "cell_type": "code",
      "execution_count": 50,
      "id": "2127094c",
      "metadata": {
        "id": "2127094c"
      },
      "outputs": [],
      "source": [
        "def is_sudoku_valid(sudoku):\n",
        "    rows_valid = all([is_section_valid(get_row(sudoku, i)) for i in range(0, 9)])\n",
        "    cols_valid = all([is_section_valid(get_col(sudoku, i)) for i in range(0, 9)])\n",
        "    boxes_valid = all([is_section_valid(get_box(sudoku, i)) for i in range(0, 9)])\n",
        "    return rows_valid and cols_valid and boxes_valid"
      ]
    },
    {
      "cell_type": "code",
      "execution_count": 51,
      "id": "1cca53a2",
      "metadata": {
        "id": "1cca53a2"
      },
      "outputs": [],
      "source": [
        "# Valid Puzzle\n",
        "puzzle2 = [[5, 3, 0, 0, 7, 0, 0, 0, 0], \n",
        "           [6, 0, 0, 1, 9, 5, 0, 0, 0], \n",
        "           [0, 9, 8, 0, 4, 0, 0, 6, 0], \n",
        "           [8, 0, 0, 0, 6, 0, 0, 0, 3],\n",
        "           [4, 0, 0, 8, 0, 3, 0, 0, 1],\n",
        "           [7, 0, 0, 0, 2, 0, 0, 0, 6],\n",
        "           [0, 6, 0, 0, 0, 0, 2, 8, 0],\n",
        "           [0, 0, 0, 4, 1, 9, 0, 0, 5],\n",
        "           [0, 0, 0, 0, 8, 0, 0, 7, 9]]"
      ]
    },
    {
      "cell_type": "code",
      "execution_count": 52,
      "id": "fb283f4e",
      "metadata": {
        "id": "fb283f4e"
      },
      "outputs": [],
      "source": [
        "# Invalid Puzzle\n",
        "puzzle2 = [[5, 3, 0, 0, 7, 0, 0, 0, 0], \n",
        "           [6, 0, 0, 1, 9, 5, 0, 0, 0], \n",
        "           [0, 9, 8, 0, 8, 0, 0, 6, 0], \n",
        "           [8, 0, 0, 0, 6, 0, 0, 0, 3],\n",
        "           [4, 0, 0, 8, 0, 3, 0, 0, 1],\n",
        "           [7, 0, 0, 0, 2, 0, 0, 0, 6],\n",
        "           [0, 6, 0, 0, 0, 0, 2, 8, 0],\n",
        "           [0, 0, 0, 4, 1, 9, 0, 0, 5],\n",
        "           [0, 0, 0, 0, 8, 0, 0, 7, 9]]"
      ]
    },
    {
      "cell_type": "markdown",
      "id": "fce9a7b3",
      "metadata": {
        "id": "fce9a7b3"
      },
      "source": [
        "Check your implementation by running the cells below."
      ]
    },
    {
      "cell_type": "code",
      "execution_count": 53,
      "id": "61aa513c",
      "metadata": {
        "colab": {
          "base_uri": "https://localhost:8080/"
        },
        "id": "61aa513c",
        "outputId": "cbfe673a-7523-4cf1-c7a4-f4a4e495ea9e"
      },
      "outputs": [
        {
          "output_type": "execute_result",
          "data": {
            "text/plain": [
              "True"
            ]
          },
          "metadata": {},
          "execution_count": 53
        }
      ],
      "source": [
        "# should return True\n",
        "is_sudoku_valid(puzzle1)"
      ]
    },
    {
      "cell_type": "code",
      "execution_count": 54,
      "id": "297874fb",
      "metadata": {
        "colab": {
          "base_uri": "https://localhost:8080/"
        },
        "id": "297874fb",
        "outputId": "d496d8fc-293b-4a58-f1fd-e024f5820916"
      },
      "outputs": [
        {
          "output_type": "execute_result",
          "data": {
            "text/plain": [
              "False"
            ]
          },
          "metadata": {},
          "execution_count": 54
        }
      ],
      "source": [
        "# should return False\n",
        "is_sudoku_valid(puzzle2)"
      ]
    },
    {
      "cell_type": "markdown",
      "id": "26d819ba",
      "metadata": {
        "id": "26d819ba"
      },
      "source": [
        "You can use the cells below to test `is_sudoku_valid` with a few more cases."
      ]
    },
    {
      "cell_type": "code",
      "execution_count": 55,
      "id": "93f23b47",
      "metadata": {
        "colab": {
          "base_uri": "https://localhost:8080/"
        },
        "id": "93f23b47",
        "outputId": "61b0cb66-081c-4919-e4a8-da527c343272"
      },
      "outputs": [
        {
          "output_type": "execute_result",
          "data": {
            "text/plain": [
              "True"
            ]
          },
          "metadata": {},
          "execution_count": 55
        }
      ],
      "source": [
        "is_sudoku_valid(solution1)"
      ]
    },
    {
      "cell_type": "code",
      "execution_count": 55,
      "id": "fbd0548f",
      "metadata": {
        "id": "fbd0548f"
      },
      "outputs": [],
      "source": []
    },
    {
      "cell_type": "markdown",
      "id": "6084a12f",
      "metadata": {
        "id": "6084a12f"
      },
      "source": [
        "### Complete/Solved Sudoku\n",
        "\n",
        "Next, we need a way to check if a Sudoku is completely solved. This can be done by checking that each row, each column and each box in the Sudoku contains all the numbers from 1 to 9 exactly once.\n",
        "\n",
        "![](https://i.imgur.com/uG2uDk7.png)\n",
        "\n",
        "> **QUESTION 10**: Write a function to check if a list of 9 numbers (containing digits from 1 to 9) represents a complete section (row, column or box) for a Sudoku. The list should contain all the numbers from 1 to 9 exactly once. Your function should return `True` if the section is complete and `False` otherwise.\n",
        ">\n",
        "> *Hint*: You may find the `count` method of a list useful.\n"
      ]
    },
    {
      "cell_type": "code",
      "execution_count": 56,
      "id": "c2fab66e",
      "metadata": {
        "id": "c2fab66e"
      },
      "outputs": [],
      "source": [
        "def is_section_complete(nums):\n",
        "    for num in range(1,10):\n",
        "        if nums.count(num) != 1:\n",
        "            return False\n",
        "    return True"
      ]
    },
    {
      "cell_type": "code",
      "execution_count": 57,
      "id": "7b11493e",
      "metadata": {
        "colab": {
          "base_uri": "https://localhost:8080/"
        },
        "id": "7b11493e",
        "outputId": "0075f23a-dec4-413d-94a0-41ce1d4b8aaa"
      },
      "outputs": [
        {
          "output_type": "execute_result",
          "data": {
            "text/plain": [
              "False"
            ]
          },
          "metadata": {},
          "execution_count": 57
        }
      ],
      "source": [
        "# should return False\n",
        "is_section_complete([0, 9, 8, 0, 0, 0, 0, 6, 0])"
      ]
    },
    {
      "cell_type": "code",
      "execution_count": 58,
      "id": "67292b5b",
      "metadata": {
        "colab": {
          "base_uri": "https://localhost:8080/"
        },
        "id": "67292b5b",
        "outputId": "f8af5a42-e8d3-4eee-f3b2-24954f700b5b"
      },
      "outputs": [
        {
          "output_type": "execute_result",
          "data": {
            "text/plain": [
              "True"
            ]
          },
          "metadata": {},
          "execution_count": 58
        }
      ],
      "source": [
        "# should return True\n",
        "is_section_complete([1, 9, 8, 3, 4, 2, 5, 6, 7])"
      ]
    },
    {
      "cell_type": "markdown",
      "id": "63c09f99",
      "metadata": {
        "id": "63c09f99"
      },
      "source": [
        "You can use the cells below to test your implementation with a few more cases."
      ]
    },
    {
      "cell_type": "code",
      "execution_count": 59,
      "id": "2381b435",
      "metadata": {
        "colab": {
          "base_uri": "https://localhost:8080/"
        },
        "id": "2381b435",
        "outputId": "2d2a3a43-eed7-4213-bcb0-dd91c22d0b90"
      },
      "outputs": [
        {
          "output_type": "execute_result",
          "data": {
            "text/plain": [
              "False"
            ]
          },
          "metadata": {},
          "execution_count": 59
        }
      ],
      "source": [
        "is_section_complete([5, 3, 0, 0, 7, 0, 0, 0, 0])"
      ]
    },
    {
      "cell_type": "code",
      "execution_count": 60,
      "id": "dc54c713",
      "metadata": {
        "colab": {
          "base_uri": "https://localhost:8080/"
        },
        "id": "dc54c713",
        "outputId": "f1e03c50-019e-418c-c824-e05a5a4ff8ce"
      },
      "outputs": [
        {
          "output_type": "execute_result",
          "data": {
            "text/plain": [
              "True"
            ]
          },
          "metadata": {},
          "execution_count": 60
        }
      ],
      "source": [
        "is_section_complete([5, 3, 1, 2, 7, 4, 6, 8, 9])"
      ]
    },
    {
      "cell_type": "markdown",
      "id": "36afaf78",
      "metadata": {
        "id": "36afaf78"
      },
      "source": [
        "We can now use the `is_section_complete` function to check if each row, column and box is complete. Rows, columns and boxes are retrieved using the `get_row`, `get_column` and `get_box` functions defined earlier.\n",
        "\n",
        "Let's create a function `is_sudoku_complete` to bring it all together and check if an entire Sudoku is complete/solved."
      ]
    },
    {
      "cell_type": "code",
      "execution_count": 61,
      "id": "89156e7e",
      "metadata": {
        "id": "89156e7e"
      },
      "outputs": [],
      "source": [
        "def is_sudoku_complete(sudoku):\n",
        "    rows_complete = all([is_section_complete(get_row(sudoku, i)) for i in range(0, 9)])\n",
        "    cols_complete = all([is_section_complete(get_col(sudoku, i)) for i in range(0, 9)])\n",
        "    boxes_complete = all([is_section_complete(get_box(sudoku, i)) for i in range(0, 9)])\n",
        "    return rows_complete and cols_complete and boxes_complete"
      ]
    },
    {
      "cell_type": "markdown",
      "id": "b74fc5ad",
      "metadata": {
        "id": "b74fc5ad"
      },
      "source": [
        "Check your implementation of `is_section_complete` using the cells below."
      ]
    },
    {
      "cell_type": "code",
      "execution_count": 62,
      "id": "372fab27",
      "metadata": {
        "colab": {
          "base_uri": "https://localhost:8080/"
        },
        "id": "372fab27",
        "outputId": "80852b81-00a5-4772-8110-250b6cd64846"
      },
      "outputs": [
        {
          "output_type": "execute_result",
          "data": {
            "text/plain": [
              "False"
            ]
          },
          "metadata": {},
          "execution_count": 62
        }
      ],
      "source": [
        "# should return False\n",
        "is_sudoku_complete(puzzle1)"
      ]
    },
    {
      "cell_type": "code",
      "execution_count": 63,
      "id": "42c684b2",
      "metadata": {
        "colab": {
          "base_uri": "https://localhost:8080/"
        },
        "id": "42c684b2",
        "outputId": "3453b382-bcd7-40db-e6b5-1624ad0cd4af"
      },
      "outputs": [
        {
          "output_type": "execute_result",
          "data": {
            "text/plain": [
              "True"
            ]
          },
          "metadata": {},
          "execution_count": 63
        }
      ],
      "source": [
        "# should return True\n",
        "is_sudoku_complete(solution1)"
      ]
    },
    {
      "cell_type": "markdown",
      "id": "7d3cbdd5",
      "metadata": {
        "id": "7d3cbdd5"
      },
      "source": [
        "## 4. Recursive Solution\n",
        "\n",
        "Now we have all the components to start building our Sudoku solver. Our solver will follow the simple approach of trying all possible solutions for filling the blank spaces one by one, while making sure that the Sudoku remains valid. \n",
        "\n",
        "We'll use a technique called recursion, which is best understood by working backwards. Consider the following scenarios:\n",
        "\n",
        "* **No empty spaces**: If a Sudoku has no empty spaces, then we can simply check if the Sudoku is already complete/solved using `is_sudoku_complete`. The Suduko is either already solved or invalid.\n",
        "\n",
        "* **1 empty space**: If a Sudoku has just one empty space, we can try to insert each digit from 1 to 9 into the empty space, and verify which digit, if any, leads to a completed solved Sudoku.\n",
        "\n",
        "* **2 empty spaces**: If a Sudoku has two empty spaces, we can try to insert each digit from 1 to 9 one-by-one into the first empty space, while making sure the Sudoku remains valid. For each valid attempt at inserting a number, the puzzle reduces to the previous problem of solving a Sudoku with just two empty spaces.\n",
        "\n",
        "* **3 empty spaces**: If a Sudoku has three empty spaces, we can try to insert each digit from 1 to 9 one-by-one into the first empty space, while making sure the Sudoku remains valid. For each valid attempt at inserting a number, the puzzle reduces to the previous problem of solving a Sudoku with two empty spaces.\n",
        "\n",
        "* and so on....\n",
        "\n",
        "* **n empty spaces**: If a Sudokuk has `n` empty spaces, we can try to insert each digit from 1 to 9 one-by-one into the first empty space, while making sure the Sudoku remains valid. For each valid attempt at inserting a number, the puzzle reduces to the previous problem of solving a Sudoku with `n-1` empty spaces.\n",
        "\n",
        "Here's a quick tutorial on recursion: https://youtu.be/wMNrSM5RFMc\n",
        "\n",
        "Let's define a helper function `repeat` to implement the above strategy for any number of empty spaces. The function repeat will attempt to fill the first empty space within a Sudoku and invoke itself to fill the remaining spaces *recursively* i.e. by invoking itself with a different input. The function will return `True` if it was able to fill all the spaces successfully, otherwise it will return `False`.\n"
      ]
    },
    {
      "cell_type": "code",
      "execution_count": 64,
      "id": "fb6a84c6",
      "metadata": {
        "id": "fb6a84c6"
      },
      "outputs": [],
      "source": [
        "def repeat(sudoku):\n",
        "    # Check if Sudoku is already complete\n",
        "    if is_sudoku_complete(sudoku):\n",
        "        return True\n",
        "    \n",
        "    # Find the first empty position\n",
        "    i, j = first_empty_position(sudoku)\n",
        "    \n",
        "    # Try to fill it with numbers 1 to 9\n",
        "    for digit in range(1, 10):\n",
        "        \n",
        "        # Insert the digit into the right place\n",
        "        sudoku[i][j] = digit\n",
        "        \n",
        "        # Check if the new puzzle is valid\n",
        "        if is_sudoku_valid(sudoku):\n",
        "            \n",
        "            # Try to fill the remaining spaces recursively using `repeat`\n",
        "            # Node that this will directly fill values into the sudoku\n",
        "            result = repeat(sudoku)\n",
        "            \n",
        "            # If the recursive result is true, we have found the answer and filled the sudoku\n",
        "            if result is True:\n",
        "                return True\n",
        "        \n",
        "        \n",
        "        # Remove the digit, it doesn't lead to a solution\n",
        "        sudoku[i][j] = 0\n",
        "        \n",
        "    \n",
        "    # There are no valid numbers to fill the empty slot(s)\n",
        "    return False"
      ]
    },
    {
      "cell_type": "markdown",
      "id": "49bc0ec7",
      "metadata": {
        "id": "49bc0ec7"
      },
      "source": [
        "Note that `repeat` directly makes changes inside the puzzle passed to it, so it does not need to return the puzzle itself. Do you see how repeat works? Here's a visualization of the process for a 4x4 sudoku (4 rows, columns & boxes instead of 9): \n",
        "\n",
        "![](https://i.imgur.com/Njy5BtB.jpg)\n"
      ]
    },
    {
      "cell_type": "markdown",
      "id": "f176086b",
      "metadata": {
        "id": "f176086b"
      },
      "source": [
        "Finally, we can create a `solve_sudoku` function which uses `repeat` to solve a Sudoku and returns the solved version (or `None` if the Sudoku is unsolvable)."
      ]
    },
    {
      "cell_type": "code",
      "execution_count": 65,
      "id": "86d17c7f",
      "metadata": {
        "id": "86d17c7f"
      },
      "outputs": [],
      "source": [
        "import copy\n",
        "\n",
        "def solve_sudoku(sudoku):\n",
        "    # Create a deep copy of the puzzle (list of lists),\n",
        "    # to avoid modifying the original\n",
        "    copied_sudoku = copy.deepcopy(sudoku)\n",
        "    \n",
        "    # Try to complete the Sudoku using repeat\n",
        "    result = repeat(copied_sudoku)\n",
        "    \n",
        "    # Return the solved version if successful\n",
        "    if result is True:\n",
        "        return copied_sudoku\n",
        "    \n",
        "    # Return None if unsuccessful\n",
        "    return None"
      ]
    },
    {
      "cell_type": "markdown",
      "id": "61672150",
      "metadata": {
        "id": "61672150"
      },
      "source": [
        "Let's test it out!"
      ]
    },
    {
      "cell_type": "code",
      "execution_count": 66,
      "id": "4a977bec",
      "metadata": {
        "colab": {
          "base_uri": "https://localhost:8080/"
        },
        "id": "4a977bec",
        "outputId": "91ae972a-1a62-474b-9b64-a8a055e51ed9"
      },
      "outputs": [
        {
          "output_type": "execute_result",
          "data": {
            "text/plain": [
              "[[5, 3, 0, 0, 7, 0, 0, 0, 0],\n",
              " [6, 0, 0, 1, 9, 5, 0, 0, 0],\n",
              " [0, 9, 8, 0, 0, 0, 0, 6, 0],\n",
              " [8, 0, 0, 0, 6, 0, 0, 0, 3],\n",
              " [4, 0, 0, 8, 0, 3, 0, 0, 1],\n",
              " [7, 0, 0, 0, 2, 0, 0, 0, 6],\n",
              " [0, 6, 0, 0, 0, 0, 2, 8, 0],\n",
              " [0, 0, 0, 4, 1, 9, 0, 0, 5],\n",
              " [0, 0, 0, 0, 8, 0, 0, 7, 9]]"
            ]
          },
          "metadata": {},
          "execution_count": 66
        }
      ],
      "source": [
        "puzzle1"
      ]
    },
    {
      "cell_type": "code",
      "execution_count": 67,
      "id": "a717db13",
      "metadata": {
        "colab": {
          "base_uri": "https://localhost:8080/"
        },
        "id": "a717db13",
        "outputId": "1ea602af-80e7-4f9a-cd28-b0f3528fc9c3"
      },
      "outputs": [
        {
          "output_type": "stream",
          "name": "stdout",
          "text": [
            "CPU times: user 3.91 s, sys: 16.4 ms, total: 3.93 s\n",
            "Wall time: 3.98 s\n"
          ]
        },
        {
          "output_type": "execute_result",
          "data": {
            "text/plain": [
              "[[5, 3, 4, 6, 7, 8, 9, 1, 2],\n",
              " [6, 7, 2, 1, 9, 5, 3, 4, 8],\n",
              " [1, 9, 8, 3, 4, 2, 5, 6, 7],\n",
              " [8, 5, 9, 7, 6, 1, 4, 2, 3],\n",
              " [4, 2, 6, 8, 5, 3, 7, 9, 1],\n",
              " [7, 1, 3, 9, 2, 4, 8, 5, 6],\n",
              " [9, 6, 1, 5, 3, 7, 2, 8, 4],\n",
              " [2, 8, 7, 4, 1, 9, 6, 3, 5],\n",
              " [3, 4, 5, 2, 8, 6, 1, 7, 9]]"
            ]
          },
          "metadata": {},
          "execution_count": 67
        }
      ],
      "source": [
        "%%time\n",
        "puzzle1_solved = solve_sudoku(puzzle1)\n",
        "puzzle1_solved"
      ]
    },
    {
      "cell_type": "code",
      "execution_count": 68,
      "id": "e79186ca",
      "metadata": {
        "colab": {
          "base_uri": "https://localhost:8080/"
        },
        "id": "e79186ca",
        "outputId": "b3ce06b3-180d-4e91-98c7-77f4552adfc9"
      },
      "outputs": [
        {
          "output_type": "execute_result",
          "data": {
            "text/plain": [
              "[[5, 3, 4, 6, 7, 8, 9, 1, 2],\n",
              " [6, 7, 2, 1, 9, 5, 3, 4, 8],\n",
              " [1, 9, 8, 3, 4, 2, 5, 6, 7],\n",
              " [8, 5, 9, 7, 6, 1, 4, 2, 3],\n",
              " [4, 2, 6, 8, 5, 3, 7, 9, 1],\n",
              " [7, 1, 3, 9, 2, 4, 8, 5, 6],\n",
              " [9, 6, 1, 5, 3, 7, 2, 8, 4],\n",
              " [2, 8, 7, 4, 1, 9, 6, 3, 5],\n",
              " [3, 4, 5, 2, 8, 6, 1, 7, 9]]"
            ]
          },
          "metadata": {},
          "execution_count": 68
        }
      ],
      "source": [
        "solution1"
      ]
    },
    {
      "cell_type": "code",
      "execution_count": 69,
      "id": "e4e72b03",
      "metadata": {
        "colab": {
          "base_uri": "https://localhost:8080/"
        },
        "id": "e4e72b03",
        "outputId": "eb1a9380-a50a-48e2-9916-8e88b0cb539f"
      },
      "outputs": [
        {
          "output_type": "execute_result",
          "data": {
            "text/plain": [
              "True"
            ]
          },
          "metadata": {},
          "execution_count": 69
        }
      ],
      "source": [
        "puzzle1_solved == solution1"
      ]
    },
    {
      "cell_type": "markdown",
      "id": "137e6247",
      "metadata": {
        "id": "137e6247"
      },
      "source": [
        "Do you see how the `repeat` function works, by repeatedly invoking itself with progressively easier problems? Recursion can be tricky to wrap your head around at first, but it's a very powerful concept once you understand it.\n"
      ]
    },
    {
      "cell_type": "markdown",
      "id": "7d285d0b",
      "metadata": {
        "id": "7d285d0b"
      },
      "source": [
        "## (Optional) Factorial of Numbers using Recursion\n",
        "\n",
        "\n",
        "Here's a simpler example of recursion: finding the factorial of a number. Factorial of a number `n` is defined as the product of all numbers from `1` to `n`.\n",
        "\n",
        "> **(Optional) QUESTION 11:** Write a recursive function to compute the factorial of a number `n`. The factorial of 0 is 1 and the factorial of any number `n` greater than zero is the product of `n * factorial(n-1)`."
      ]
    },
    {
      "cell_type": "code",
      "execution_count": 70,
      "id": "57a8993b",
      "metadata": {
        "id": "57a8993b"
      },
      "outputs": [],
      "source": [
        "def factorial(n):\n",
        "    if n == 0 or n == 1:\n",
        "        return 1\n",
        "    return n * factorial(n-1)"
      ]
    },
    {
      "cell_type": "code",
      "execution_count": 71,
      "id": "c12ebdba",
      "metadata": {
        "colab": {
          "base_uri": "https://localhost:8080/"
        },
        "id": "c12ebdba",
        "outputId": "414ce26f-3e96-41ad-87cf-5696dd7abc4b"
      },
      "outputs": [
        {
          "output_type": "execute_result",
          "data": {
            "text/plain": [
              "3628800"
            ]
          },
          "metadata": {},
          "execution_count": 71
        }
      ],
      "source": [
        "factorial(10)"
      ]
    },
    {
      "cell_type": "markdown",
      "id": "7ef1c170",
      "metadata": {
        "id": "7ef1c170"
      },
      "source": [
        "The factorial of 10 is computed using the factorial of 9, which itself is computed using the factorial of 8 and so on. "
      ]
    },
    {
      "cell_type": "markdown",
      "id": "dc44008c",
      "metadata": {
        "id": "dc44008c"
      },
      "source": [
        "## (Optional) Solving hundreds of Sudokus \n",
        "\n",
        "Our `solve_sudoku` function is generic enough that it can solve any Sudoku. In this optional extension to the assignment, we'll download a file containing 100 Sudoku puzzles, process the file to create Sudokus is our list-of-lists representation, solve all the puzzles and finally write the results back to a file.\n",
        "\n",
        "First, let's download the file:"
      ]
    },
    {
      "cell_type": "code",
      "execution_count": 72,
      "id": "656bfd3b",
      "metadata": {
        "id": "656bfd3b"
      },
      "outputs": [],
      "source": [
        "sudokus_url = 'https://gist.githubusercontent.com/aakashns/033af5f9f6f2ec3a2f322105dad38c01/raw/7af74a86ee7fd9ec9bbb9d3b5a2bf08e9e080532/hundred_sudokus.csv'"
      ]
    },
    {
      "cell_type": "code",
      "execution_count": 73,
      "id": "e1ce718b",
      "metadata": {
        "id": "e1ce718b"
      },
      "outputs": [],
      "source": [
        "from urllib.request import urlretrieve"
      ]
    },
    {
      "cell_type": "code",
      "execution_count": 74,
      "id": "808c7234",
      "metadata": {
        "colab": {
          "base_uri": "https://localhost:8080/"
        },
        "id": "808c7234",
        "outputId": "cf377d3c-a4e4-4a83-89c0-60f1d32cd81e"
      },
      "outputs": [
        {
          "output_type": "execute_result",
          "data": {
            "text/plain": [
              "('sudokus.csv', <http.client.HTTPMessage at 0x7fab2b976290>)"
            ]
          },
          "metadata": {},
          "execution_count": 74
        }
      ],
      "source": [
        "urlretrieve(sudokus_url, 'sudokus.csv')"
      ]
    },
    {
      "cell_type": "code",
      "execution_count": 75,
      "id": "13d46a81",
      "metadata": {
        "id": "13d46a81"
      },
      "outputs": [],
      "source": [
        "with open('sudokus.csv', 'r') as f:\n",
        "    lines = [l.strip() for l in f.readlines()]"
      ]
    },
    {
      "cell_type": "code",
      "execution_count": 76,
      "id": "e915fdac",
      "metadata": {
        "colab": {
          "base_uri": "https://localhost:8080/"
        },
        "id": "e915fdac",
        "outputId": "1f91318f-f27d-46f9-a165-bc57737376a0"
      },
      "outputs": [
        {
          "output_type": "execute_result",
          "data": {
            "text/plain": [
              "100"
            ]
          },
          "metadata": {},
          "execution_count": 76
        }
      ],
      "source": [
        "len(lines)"
      ]
    },
    {
      "cell_type": "code",
      "execution_count": 77,
      "id": "727a6498",
      "metadata": {
        "colab": {
          "base_uri": "https://localhost:8080/"
        },
        "id": "727a6498",
        "outputId": "39b87c4e-8373-4b4e-b851-2f86348c5105"
      },
      "outputs": [
        {
          "output_type": "execute_result",
          "data": {
            "text/plain": [
              "['004300209005009001070060043006002087190007400050083000600000105003508690042910300',\n",
              " '040100050107003960520008000000000017000906800803050620090060543600080700250097100',\n",
              " '600120384008459072000006005000264030070080006940003000310000050089700000502000190',\n",
              " '497200000100400005000016098620300040300900000001072600002005870000600004530097061',\n",
              " '005910308009403060027500100030000201000820007006007004000080000640150700890000420']"
            ]
          },
          "metadata": {},
          "execution_count": 77
        }
      ],
      "source": [
        "lines[:5]"
      ]
    },
    {
      "cell_type": "markdown",
      "id": "4c852ad4",
      "metadata": {
        "id": "4c852ad4"
      },
      "source": [
        "Each line of the file represents a Sudoku. Let's create a helper function to convert a line from the file into a list of lists, the representation we have been using so far.\n",
        "\n",
        "\n",
        "> **(Optional) QUESTION 12**: Write a function `parse_sudoku` to convert a Sudoku into a list of lists"
      ]
    },
    {
      "cell_type": "code",
      "execution_count": 78,
      "id": "5f505634",
      "metadata": {
        "id": "5f505634"
      },
      "outputs": [],
      "source": [
        "def parse_sudoku(sudoku_str):\n",
        "    sudoko = []\n",
        "    for i in range(9):\n",
        "        line,j = [],i*9\n",
        "        for j in range(j,j+9):\n",
        "            line.append(int(sudoku_str[j]))\n",
        "        sudoko.append(line)\n",
        "    return sudoko\n",
        "        "
      ]
    },
    {
      "cell_type": "markdown",
      "id": "6add2808",
      "metadata": {
        "id": "6add2808"
      },
      "source": [
        "The following cell should output `True` if your implementation is correct."
      ]
    },
    {
      "cell_type": "code",
      "execution_count": 79,
      "id": "91fc7744",
      "metadata": {
        "colab": {
          "base_uri": "https://localhost:8080/"
        },
        "id": "91fc7744",
        "outputId": "744df56f-b031-4cb8-82d6-68067a0a5862"
      },
      "outputs": [
        {
          "output_type": "execute_result",
          "data": {
            "text/plain": [
              "True"
            ]
          },
          "metadata": {},
          "execution_count": 79
        }
      ],
      "source": [
        "sudoku_str1 = '004300209005009001070060043006002087190007400050083000600000105003508690042910300';\n",
        "\n",
        "sudoku_parsed1 = [[0, 0, 4, 3, 0, 0, 2, 0, 9],\n",
        "                  [0, 0, 5, 0, 0, 9, 0, 0, 1],\n",
        "                  [0, 7, 0, 0, 6, 0, 0, 4, 3],\n",
        "                  [0, 0, 6, 0, 0, 2, 0, 8, 7],\n",
        "                  [1, 9, 0, 0, 0, 7, 4, 0, 0],\n",
        "                  [0, 5, 0, 0, 8, 3, 0, 0, 0],\n",
        "                  [6, 0, 0, 0, 0, 0, 1, 0, 5],\n",
        "                  [0, 0, 3, 5, 0, 8, 6, 9, 0],\n",
        "                  [0, 4, 2, 9, 1, 0, 3, 0, 0]]\n",
        "\n",
        "parse_sudoku(sudoku_str1) == sudoku_parsed1"
      ]
    },
    {
      "cell_type": "markdown",
      "id": "ee118214",
      "metadata": {
        "id": "ee118214"
      },
      "source": [
        "\n",
        "We can now use list comprehension to convert into a list of lists.\n"
      ]
    },
    {
      "cell_type": "code",
      "execution_count": 80,
      "id": "85854af9",
      "metadata": {
        "id": "85854af9"
      },
      "outputs": [],
      "source": [
        "sudokus = [parse_sudoku(line) for line in lines]    "
      ]
    },
    {
      "cell_type": "code",
      "execution_count": 81,
      "id": "502e5679",
      "metadata": {
        "colab": {
          "base_uri": "https://localhost:8080/"
        },
        "id": "502e5679",
        "outputId": "10e03eb9-ce6a-443d-c903-bc7c6733c2d2"
      },
      "outputs": [
        {
          "output_type": "execute_result",
          "data": {
            "text/plain": [
              "[[[0, 0, 4, 3, 0, 0, 2, 0, 9],\n",
              "  [0, 0, 5, 0, 0, 9, 0, 0, 1],\n",
              "  [0, 7, 0, 0, 6, 0, 0, 4, 3],\n",
              "  [0, 0, 6, 0, 0, 2, 0, 8, 7],\n",
              "  [1, 9, 0, 0, 0, 7, 4, 0, 0],\n",
              "  [0, 5, 0, 0, 8, 3, 0, 0, 0],\n",
              "  [6, 0, 0, 0, 0, 0, 1, 0, 5],\n",
              "  [0, 0, 3, 5, 0, 8, 6, 9, 0],\n",
              "  [0, 4, 2, 9, 1, 0, 3, 0, 0]],\n",
              " [[0, 4, 0, 1, 0, 0, 0, 5, 0],\n",
              "  [1, 0, 7, 0, 0, 3, 9, 6, 0],\n",
              "  [5, 2, 0, 0, 0, 8, 0, 0, 0],\n",
              "  [0, 0, 0, 0, 0, 0, 0, 1, 7],\n",
              "  [0, 0, 0, 9, 0, 6, 8, 0, 0],\n",
              "  [8, 0, 3, 0, 5, 0, 6, 2, 0],\n",
              "  [0, 9, 0, 0, 6, 0, 5, 4, 3],\n",
              "  [6, 0, 0, 0, 8, 0, 7, 0, 0],\n",
              "  [2, 5, 0, 0, 9, 7, 1, 0, 0]],\n",
              " [[6, 0, 0, 1, 2, 0, 3, 8, 4],\n",
              "  [0, 0, 8, 4, 5, 9, 0, 7, 2],\n",
              "  [0, 0, 0, 0, 0, 6, 0, 0, 5],\n",
              "  [0, 0, 0, 2, 6, 4, 0, 3, 0],\n",
              "  [0, 7, 0, 0, 8, 0, 0, 0, 6],\n",
              "  [9, 4, 0, 0, 0, 3, 0, 0, 0],\n",
              "  [3, 1, 0, 0, 0, 0, 0, 5, 0],\n",
              "  [0, 8, 9, 7, 0, 0, 0, 0, 0],\n",
              "  [5, 0, 2, 0, 0, 0, 1, 9, 0]],\n",
              " [[4, 9, 7, 2, 0, 0, 0, 0, 0],\n",
              "  [1, 0, 0, 4, 0, 0, 0, 0, 5],\n",
              "  [0, 0, 0, 0, 1, 6, 0, 9, 8],\n",
              "  [6, 2, 0, 3, 0, 0, 0, 4, 0],\n",
              "  [3, 0, 0, 9, 0, 0, 0, 0, 0],\n",
              "  [0, 0, 1, 0, 7, 2, 6, 0, 0],\n",
              "  [0, 0, 2, 0, 0, 5, 8, 7, 0],\n",
              "  [0, 0, 0, 6, 0, 0, 0, 0, 4],\n",
              "  [5, 3, 0, 0, 9, 7, 0, 6, 1]],\n",
              " [[0, 0, 5, 9, 1, 0, 3, 0, 8],\n",
              "  [0, 0, 9, 4, 0, 3, 0, 6, 0],\n",
              "  [0, 2, 7, 5, 0, 0, 1, 0, 0],\n",
              "  [0, 3, 0, 0, 0, 0, 2, 0, 1],\n",
              "  [0, 0, 0, 8, 2, 0, 0, 0, 7],\n",
              "  [0, 0, 6, 0, 0, 7, 0, 0, 4],\n",
              "  [0, 0, 0, 0, 8, 0, 0, 0, 0],\n",
              "  [6, 4, 0, 1, 5, 0, 7, 0, 0],\n",
              "  [8, 9, 0, 0, 0, 0, 4, 2, 0]]]"
            ]
          },
          "metadata": {},
          "execution_count": 81
        }
      ],
      "source": [
        "sudokus[:5]"
      ]
    },
    {
      "cell_type": "markdown",
      "id": "b4830e79",
      "metadata": {
        "id": "b4830e79"
      },
      "source": [
        "We can also use list comprehension to solve all the puzzles."
      ]
    },
    {
      "cell_type": "code",
      "execution_count": 82,
      "id": "d7529002",
      "metadata": {
        "id": "d7529002"
      },
      "outputs": [],
      "source": [
        "solved_sudokus = [solve_sudoku(sudoku) for sudoku in sudokus]"
      ]
    },
    {
      "cell_type": "code",
      "execution_count": 83,
      "id": "9b55f5da",
      "metadata": {
        "colab": {
          "base_uri": "https://localhost:8080/"
        },
        "id": "9b55f5da",
        "outputId": "7a35aece-3b9d-4b6d-da4e-75d9347e5a49"
      },
      "outputs": [
        {
          "output_type": "execute_result",
          "data": {
            "text/plain": [
              "[[[8, 6, 4, 3, 7, 1, 2, 5, 9],\n",
              "  [3, 2, 5, 8, 4, 9, 7, 6, 1],\n",
              "  [9, 7, 1, 2, 6, 5, 8, 4, 3],\n",
              "  [4, 3, 6, 1, 9, 2, 5, 8, 7],\n",
              "  [1, 9, 8, 6, 5, 7, 4, 3, 2],\n",
              "  [2, 5, 7, 4, 8, 3, 9, 1, 6],\n",
              "  [6, 8, 9, 7, 3, 4, 1, 2, 5],\n",
              "  [7, 1, 3, 5, 2, 8, 6, 9, 4],\n",
              "  [5, 4, 2, 9, 1, 6, 3, 7, 8]],\n",
              " [[3, 4, 6, 1, 7, 9, 2, 5, 8],\n",
              "  [1, 8, 7, 5, 2, 3, 9, 6, 4],\n",
              "  [5, 2, 9, 6, 4, 8, 3, 7, 1],\n",
              "  [9, 6, 5, 8, 3, 2, 4, 1, 7],\n",
              "  [4, 7, 2, 9, 1, 6, 8, 3, 5],\n",
              "  [8, 1, 3, 7, 5, 4, 6, 2, 9],\n",
              "  [7, 9, 8, 2, 6, 1, 5, 4, 3],\n",
              "  [6, 3, 1, 4, 8, 5, 7, 9, 2],\n",
              "  [2, 5, 4, 3, 9, 7, 1, 8, 6]],\n",
              " [[6, 9, 5, 1, 2, 7, 3, 8, 4],\n",
              "  [1, 3, 8, 4, 5, 9, 6, 7, 2],\n",
              "  [7, 2, 4, 8, 3, 6, 9, 1, 5],\n",
              "  [8, 5, 1, 2, 6, 4, 7, 3, 9],\n",
              "  [2, 7, 3, 9, 8, 1, 5, 4, 6],\n",
              "  [9, 4, 6, 5, 7, 3, 8, 2, 1],\n",
              "  [3, 1, 7, 6, 9, 2, 4, 5, 8],\n",
              "  [4, 8, 9, 7, 1, 5, 2, 6, 3],\n",
              "  [5, 6, 2, 3, 4, 8, 1, 9, 7]],\n",
              " [[4, 9, 7, 2, 5, 8, 3, 1, 6],\n",
              "  [1, 8, 6, 4, 3, 9, 7, 2, 5],\n",
              "  [2, 5, 3, 7, 1, 6, 4, 9, 8],\n",
              "  [6, 2, 9, 3, 8, 1, 5, 4, 7],\n",
              "  [3, 7, 5, 9, 6, 4, 1, 8, 2],\n",
              "  [8, 4, 1, 5, 7, 2, 6, 3, 9],\n",
              "  [9, 6, 2, 1, 4, 5, 8, 7, 3],\n",
              "  [7, 1, 8, 6, 2, 3, 9, 5, 4],\n",
              "  [5, 3, 4, 8, 9, 7, 2, 6, 1]],\n",
              " [[4, 6, 5, 9, 1, 2, 3, 7, 8],\n",
              "  [1, 8, 9, 4, 7, 3, 5, 6, 2],\n",
              "  [3, 2, 7, 5, 6, 8, 1, 4, 9],\n",
              "  [7, 3, 8, 6, 4, 5, 2, 9, 1],\n",
              "  [9, 5, 4, 8, 2, 1, 6, 3, 7],\n",
              "  [2, 1, 6, 3, 9, 7, 8, 5, 4],\n",
              "  [5, 7, 3, 2, 8, 4, 9, 1, 6],\n",
              "  [6, 4, 2, 1, 5, 9, 7, 8, 3],\n",
              "  [8, 9, 1, 7, 3, 6, 4, 2, 5]]]"
            ]
          },
          "metadata": {},
          "execution_count": 83
        }
      ],
      "source": [
        "solved_sudokus[:5]"
      ]
    },
    {
      "cell_type": "markdown",
      "id": "372864e9",
      "metadata": {
        "id": "372864e9"
      },
      "source": [
        "> **(Optional) QUESTION 13**: Write a function `write_results` which writes the solved sudokus to a file."
      ]
    },
    {
      "cell_type": "code",
      "execution_count": 84,
      "id": "a7c89dde",
      "metadata": {
        "id": "a7c89dde"
      },
      "outputs": [],
      "source": [
        "def write_results(solved_sudokus, filename):\n",
        "    with open(filename,\"w\") as f:\n",
        "        f.write(str(solved_sudokus))"
      ]
    },
    {
      "cell_type": "code",
      "execution_count": 85,
      "id": "aad7355e",
      "metadata": {
        "id": "aad7355e"
      },
      "outputs": [],
      "source": [
        "write_results(solved_sudokus, 'sudokus_solved.csv')"
      ]
    },
    {
      "cell_type": "markdown",
      "id": "fb40fe16",
      "metadata": {
        "id": "fb40fe16"
      },
      "source": [
        "Let's view the file to ensure that it was written properly."
      ]
    },
    {
      "cell_type": "code",
      "execution_count": 86,
      "id": "eee383bf",
      "metadata": {
        "colab": {
          "base_uri": "https://localhost:8080/"
        },
        "id": "eee383bf",
        "outputId": "f9206af1-cdf3-4895-b4c1-57885867671a"
      },
      "outputs": [
        {
          "output_type": "execute_result",
          "data": {
            "text/plain": [
              "['[[[8, 6, 4, 3, 7, 1, 2, 5, 9], [3, 2, 5, 8, 4, 9, 7, 6, 1], [9, 7, 1, 2, 6, 5, 8, 4, 3], [4, 3, 6, 1, 9, 2, 5, 8, 7], [1, 9, 8, 6, 5, 7, 4, 3, 2], [2, 5, 7, 4, 8, 3, 9, 1, 6], [6, 8, 9, 7, 3, 4, 1, 2, 5], [7, 1, 3, 5, 2, 8, 6, 9, 4], [5, 4, 2, 9, 1, 6, 3, 7, 8]], [[3, 4, 6, 1, 7, 9, 2, 5, 8], [1, 8, 7, 5, 2, 3, 9, 6, 4], [5, 2, 9, 6, 4, 8, 3, 7, 1], [9, 6, 5, 8, 3, 2, 4, 1, 7], [4, 7, 2, 9, 1, 6, 8, 3, 5], [8, 1, 3, 7, 5, 4, 6, 2, 9], [7, 9, 8, 2, 6, 1, 5, 4, 3], [6, 3, 1, 4, 8, 5, 7, 9, 2], [2, 5, 4, 3, 9, 7, 1, 8, 6]], [[6, 9, 5, 1, 2, 7, 3, 8, 4], [1, 3, 8, 4, 5, 9, 6, 7, 2], [7, 2, 4, 8, 3, 6, 9, 1, 5], [8, 5, 1, 2, 6, 4, 7, 3, 9], [2, 7, 3, 9, 8, 1, 5, 4, 6], [9, 4, 6, 5, 7, 3, 8, 2, 1], [3, 1, 7, 6, 9, 2, 4, 5, 8], [4, 8, 9, 7, 1, 5, 2, 6, 3], [5, 6, 2, 3, 4, 8, 1, 9, 7]], [[4, 9, 7, 2, 5, 8, 3, 1, 6], [1, 8, 6, 4, 3, 9, 7, 2, 5], [2, 5, 3, 7, 1, 6, 4, 9, 8], [6, 2, 9, 3, 8, 1, 5, 4, 7], [3, 7, 5, 9, 6, 4, 1, 8, 2], [8, 4, 1, 5, 7, 2, 6, 3, 9], [9, 6, 2, 1, 4, 5, 8, 7, 3], [7, 1, 8, 6, 2, 3, 9, 5, 4], [5, 3, 4, 8, 9, 7, 2, 6, 1]], [[4, 6, 5, 9, 1, 2, 3, 7, 8], [1, 8, 9, 4, 7, 3, 5, 6, 2], [3, 2, 7, 5, 6, 8, 1, 4, 9], [7, 3, 8, 6, 4, 5, 2, 9, 1], [9, 5, 4, 8, 2, 1, 6, 3, 7], [2, 1, 6, 3, 9, 7, 8, 5, 4], [5, 7, 3, 2, 8, 4, 9, 1, 6], [6, 4, 2, 1, 5, 9, 7, 8, 3], [8, 9, 1, 7, 3, 6, 4, 2, 5]], [[1, 9, 4, 6, 8, 5, 2, 3, 7], [3, 8, 2, 9, 7, 4, 5, 1, 6], [6, 5, 7, 2, 1, 3, 4, 8, 9], [8, 2, 3, 4, 9, 1, 6, 7, 5], [5, 4, 1, 7, 6, 8, 9, 2, 3], [7, 6, 9, 3, 5, 2, 8, 4, 1], [2, 1, 5, 8, 3, 9, 7, 6, 4], [4, 3, 6, 5, 2, 7, 1, 9, 8], [9, 7, 8, 1, 4, 6, 3, 5, 2]], [[2, 8, 9, 7, 6, 5, 4, 3, 1], [3, 1, 7, 9, 2, 4, 8, 5, 6], [6, 4, 5, 1, 3, 8, 7, 2, 9], [7, 6, 3, 8, 9, 1, 5, 4, 2], [5, 2, 1, 4, 7, 3, 9, 6, 8], [8, 9, 4, 6, 5, 2, 1, 7, 3], [4, 3, 2, 5, 1, 9, 6, 8, 7], [9, 5, 6, 3, 8, 7, 2, 1, 4], [1, 7, 8, 2, 4, 6, 3, 9, 5]], [[8, 9, 4, 2, 3, 1, 6, 5, 7], [7, 6, 2, 4, 9, 5, 1, 8, 3], [3, 5, 1, 8, 7, 6, 9, 4, 2], [5, 8, 3, 6, 2, 4, 7, 1, 9], [2, 1, 9, 3, 8, 7, 5, 6, 4], [6, 4, 7, 1, 5, 9, 3, 2, 8], [1, 2, 8, 7, 6, 3, 4, 9, 5], [9, 7, 6, 5, 4, 2, 8, 3, 1], [4, 3, 5, 9, 1, 8, 2, 7, 6]], [[5, 6, 3, 4, 7, 2, 1, 9, 8], [2, 1, 9, 3, 8, 6, 7, 5, 4], [8, 4, 7, 1, 9, 5, 6, 2, 3], [4, 7, 2, 6, 3, 8, 5, 1, 9], [9, 5, 1, 2, 4, 7, 3, 8, 6], [6, 3, 8, 5, 1, 9, 4, 7, 2], [7, 9, 5, 8, 6, 4, 2, 3, 1], [3, 2, 4, 9, 5, 1, 8, 6, 7], [1, 8, 6, 7, 2, 3, 9, 4, 5]], [[1, 6, 3, 7, 2, 5, 9, 4, 8], [5, 8, 4, 6, 9, 3, 2, 7, 1], [7, 2, 9, 1, 8, 4, 3, 6, 5], [9, 4, 6, 3, 5, 8, 1, 2, 7], [3, 7, 1, 4, 6, 2, 5, 8, 9], [8, 5, 2, 9, 1, 7, 6, 3, 4], [4, 9, 8, 2, 3, 1, 7, 5, 6], [6, 3, 7, 5, 4, 9, 8, 1, 2], [2, 1, 5, 8, 7, 6, 4, 9, 3]], [[9, 7, 4, 1, 8, 3, 6, 5, 2], [6, 5, 1, 2, 7, 4, 3, 8, 9], [2, 8, 3, 5, 9, 6, 7, 1, 4], [1, 2, 9, 8, 3, 5, 4, 7, 6], [7, 4, 6, 9, 1, 2, 5, 3, 8], [8, 3, 5, 6, 4, 7, 9, 2, 1], [5, 6, 8, 3, 2, 9, 1, 4, 7], [3, 1, 7, 4, 6, 8, 2, 9, 5], [4, 9, 2, 7, 5, 1, 8, 6, 3]], [[4, 3, 1, 5, 6, 7, 2, 8, 9], [7, 2, 9, 4, 8, 1, 6, 5, 3], [8, 6, 5, 3, 2, 9, 1, 7, 4], [9, 8, 6, 2, 4, 3, 5, 1, 7], [2, 5, 7, 1, 9, 8, 3, 4, 6], [1, 4, 3, 7, 5, 6, 8, 9, 2], [6, 1, 2, 9, 7, 5, 4, 3, 8], [3, 7, 4, 8, 1, 2, 9, 6, 5], [5, 9, 8, 6, 3, 4, 7, 2, 1]], [[2, 5, 4, 3, 6, 7, 8, 9, 1], [8, 9, 3, 2, 1, 5, 6, 7, 4], [7, 1, 6, 9, 8, 4, 2, 5, 3], [5, 3, 2, 6, 9, 8, 1, 4, 7], [1, 7, 8, 4, 3, 2, 5, 6, 9], [6, 4, 9, 5, 7, 1, 3, 2, 8], [4, 2, 1, 7, 5, 3, 9, 8, 6], [3, 6, 5, 8, 4, 9, 7, 1, 2], [9, 8, 7, 1, 2, 6, 4, 3, 5]], [[9, 5, 8, 2, 7, 4, 1, 6, 3], [1, 2, 3, 6, 9, 8, 7, 5, 4], [7, 4, 6, 1, 5, 3, 9, 2, 8], [6, 7, 4, 3, 1, 5, 2, 8, 9], [5, 3, 2, 7, 8, 9, 4, 1, 6], [8, 1, 9, 4, 6, 2, 3, 7, 5], [2, 8, 5, 9, 4, 1, 6, 3, 7], [3, 9, 7, 5, 2, 6, 8, 4, 1], [4, 6, 1, 8, 3, 7, 5, 9, 2]], [[8, 6, 5, 3, 7, 9, 4, 1, 2], [9, 2, 4, 5, 8, 1, 3, 7, 6], [7, 1, 3, 6, 4, 2, 8, 9, 5], [3, 9, 7, 1, 6, 4, 5, 2, 8], [4, 8, 2, 7, 9, 5, 6, 3, 1], [1, 5, 6, 8, 2, 3, 9, 4, 7], [5, 4, 1, 2, 3, 6, 7, 8, 9], [6, 7, 9, 4, 1, 8, 2, 5, 3], [2, 3, 8, 9, 5, 7, 1, 6, 4]], [[8, 6, 5, 7, 1, 4, 3, 2, 9], [9, 1, 7, 3, 6, 2, 8, 4, 5], [2, 3, 4, 5, 9, 8, 7, 6, 1], [1, 4, 2, 6, 5, 7, 9, 8, 3], [7, 8, 3, 9, 4, 1, 2, 5, 6], [5, 9, 6, 2, 8, 3, 1, 7, 4], [3, 5, 8, 1, 7, 6, 4, 9, 2], [4, 2, 9, 8, 3, 5, 6, 1, 7], [6, 7, 1, 4, 2, 9, 5, 3, 8]], [[2, 6, 8, 4, 9, 5, 3, 1, 7], [1, 9, 4, 6, 7, 3, 8, 5, 2], [7, 3, 5, 1, 2, 8, 9, 6, 4], [8, 7, 2, 5, 4, 9, 6, 3, 1], [6, 5, 1, 3, 8, 7, 2, 4, 9], [9, 4, 3, 2, 1, 6, 7, 8, 5], [3, 2, 6, 9, 5, 1, 4, 7, 8], [5, 8, 9, 7, 6, 4, 1, 2, 3], [4, 1, 7, 8, 3, 2, 5, 9, 6]], [[9, 4, 7, 8, 1, 2, 5, 6, 3], [5, 8, 3, 7, 6, 4, 1, 9, 2], [2, 6, 1, 9, 3, 5, 4, 7, 8], [1, 5, 6, 3, 4, 9, 2, 8, 7], [8, 7, 9, 6, 2, 1, 3, 5, 4], [3, 2, 4, 5, 8, 7, 6, 1, 9], [6, 9, 8, 2, 5, 3, 7, 4, 1], [7, 1, 2, 4, 9, 6, 8, 3, 5], [4, 3, 5, 1, 7, 8, 9, 2, 6]], [[6, 5, 2, 4, 8, 3, 9, 1, 7], [9, 7, 8, 1, 6, 2, 4, 3, 5], [3, 1, 4, 9, 7, 5, 6, 2, 8], [8, 2, 5, 7, 3, 6, 1, 4, 9], [7, 9, 1, 8, 2, 4, 5, 6, 3], [4, 3, 6, 5, 1, 9, 8, 7, 2], [2, 6, 9, 3, 4, 8, 7, 5, 1], [5, 4, 7, 2, 9, 1, 3, 8, 6], [1, 8, 3, 6, 5, 7, 2, 9, 4]], [[7, 1, 2, 9, 8, 4, 3, 6, 5], [3, 4, 6, 7, 5, 1, 8, 2, 9], [5, 8, 9, 2, 6, 3, 4, 7, 1], [6, 2, 4, 1, 7, 9, 5, 3, 8], [8, 5, 3, 6, 4, 2, 9, 1, 7], [1, 9, 7, 5, 3, 8, 6, 4, 2], [9, 7, 8, 3, 1, 6, 2, 5, 4], [4, 6, 1, 8, 2, 5, 7, 9, 3], [2, 3, 5, 4, 9, 7, 1, 8, 6]], [[9, 6, 7, 2, 5, 4, 3, 1, 8], [1, 8, 4, 3, 7, 9, 5, 6, 2], [2, 5, 3, 1, 8, 6, 9, 4, 7], [6, 9, 1, 7, 4, 8, 2, 3, 5], [8, 3, 5, 6, 2, 1, 7, 9, 4], [7, 4, 2, 5, 9, 3, 6, 8, 1], [3, 7, 6, 4, 1, 5, 8, 2, 9], [4, 2, 8, 9, 6, 7, 1, 5, 3], [5, 1, 9, 8, 3, 2, 4, 7, 6]], [[2, 5, 1, 4, 7, 9, 6, 3, 8], [9, 4, 8, 3, 1, 6, 7, 5, 2], [6, 3, 7, 2, 5, 8, 1, 9, 4], [3, 6, 5, 1, 2, 4, 8, 7, 9], [7, 1, 2, 9, 8, 3, 4, 6, 5], [8, 9, 4, 5, 6, 7, 2, 1, 3], [4, 2, 3, 6, 9, 1, 5, 8, 7], [1, 7, 9, 8, 4, 5, 3, 2, 6], [5, 8, 6, 7, 3, 2, 9, 4, 1]], [[2, 5, 6, 7, 3, 4, 1, 9, 8], [8, 9, 1, 2, 6, 5, 3, 7, 4], [3, 4, 7, 1, 9, 8, 6, 5, 2], [5, 1, 4, 6, 8, 3, 7, 2, 9], [7, 2, 8, 5, 1, 9, 4, 3, 6], [9, 6, 3, 4, 2, 7, 5, 8, 1], [1, 3, 5, 9, 4, 2, 8, 6, 7], [6, 8, 9, 3, 7, 1, 2, 4, 5], [4, 7, 2, 8, 5, 6, 9, 1, 3]], [[9, 6, 4, 5, 3, 2, 1, 7, 8], [1, 8, 7, 6, 9, 4, 2, 3, 5], [2, 3, 5, 8, 1, 7, 9, 6, 4], [6, 2, 9, 4, 5, 1, 7, 8, 3], [5, 7, 3, 9, 8, 6, 4, 1, 2], [8, 4, 1, 2, 7, 3, 5, 9, 6], [4, 1, 6, 7, 2, 8, 3, 5, 9], [3, 5, 2, 1, 6, 9, 8, 4, 7], [7, 9, 8, 3, 4, 5, 6, 2, 1]], [[1, 4, 2, 5, 6, 9, 8, 7, 3], [3, 8, 5, 2, 1, 7, 9, 4, 6], [9, 6, 7, 4, 3, 8, 2, 5, 1], [5, 3, 6, 8, 7, 1, 4, 2, 9], [2, 1, 9, 6, 5, 4, 3, 8, 7], [4, 7, 8, 9, 2, 3, 1, 6, 5], [8, 9, 3, 7, 4, 6, 5, 1, 2], [6, 2, 1, 3, 8, 5, 7, 9, 4], [7, 5, 4, 1, 9, 2, 6, 3, 8]], [[5, 9, 8, 3, 2, 6, 1, 4, 7], [3, 1, 4, 9, 5, 7, 6, 2, 8], [6, 7, 2, 4, 8, 1, 9, 3, 5], [7, 5, 3, 6, 4, 8, 2, 9, 1], [4, 2, 1, 5, 3, 9, 8, 7, 6], [8, 6, 9, 1, 7, 2, 4, 5, 3], [2, 8, 5, 7, 6, 4, 3, 1, 9], [9, 3, 6, 2, 1, 5, 7, 8, 4], [1, 4, 7, 8, 9, 3, 5, 6, 2]], [[1, 5, 7, 4, 6, 8, 2, 9, 3], [2, 3, 8, 9, 7, 1, 6, 4, 5], [4, 6, 9, 5, 3, 2, 7, 8, 1], [9, 2, 6, 1, 5, 3, 4, 7, 8], [7, 4, 1, 8, 9, 6, 5, 3, 2], [5, 8, 3, 7, 2, 4, 9, 1, 6], [6, 7, 4, 3, 8, 5, 1, 2, 9], [8, 9, 2, 6, 1, 7, 3, 5, 4], [3, 1, 5, 2, 4, 9, 8, 6, 7]], [[9, 2, 7, 3, 8, 4, 1, 6, 5], [6, 8, 4, 9, 1, 5, 2, 3, 7], [5, 3, 1, 6, 7, 2, 4, 8, 9], [7, 6, 9, 2, 3, 1, 5, 4, 8], [4, 5, 3, 7, 6, 8, 9, 2, 1], [2, 1, 8, 4, 5, 9, 6, 7, 3], [1, 7, 5, 8, 2, 6, 3, 9, 4], [3, 9, 2, 1, 4, 7, 8, 5, 6], [8, 4, 6, 5, 9, 3, 7, 1, 2]], [[3, 9, 8, 2, 5, 6, 4, 1, 7], [4, 7, 6, 9, 1, 8, 2, 5, 3], [5, 1, 2, 7, 4, 3, 6, 9, 8], [1, 8, 5, 6, 7, 4, 3, 2, 9], [9, 2, 4, 8, 3, 5, 7, 6, 1], [7, 6, 3, 1, 2, 9, 8, 4, 5], [2, 5, 7, 3, 6, 1, 9, 8, 4], [8, 3, 1, 4, 9, 2, 5, 7, 6], [6, 4, 9, 5, 8, 7, 1, 3, 2]], [[1, 7, 6, 3, 2, 8, 4, 5, 9], [5, 3, 8, 1, 4, 9, 6, 7, 2], [4, 9, 2, 7, 6, 5, 1, 3, 8], [6, 5, 7, 8, 3, 4, 9, 2, 1], [9, 2, 4, 6, 5, 1, 3, 8, 7], [3, 8, 1, 9, 7, 2, 5, 6, 4], [8, 1, 3, 2, 9, 6, 7, 4, 5], [7, 4, 9, 5, 8, 3, 2, 1, 6], [2, 6, 5, 4, 1, 7, 8, 9, 3]], [[9, 5, 4, 7, 3, 8, 6, 2, 1], [2, 7, 6, 4, 1, 5, 3, 8, 9], [3, 8, 1, 6, 9, 2, 5, 7, 4], [8, 3, 7, 5, 6, 4, 9, 1, 2], [6, 9, 2, 1, 8, 3, 4, 5, 7], [4, 1, 5, 9, 2, 7, 8, 6, 3], [1, 2, 3, 8, 4, 6, 7, 9, 5], [5, 6, 9, 3, 7, 1, 2, 4, 8], [7, 4, 8, 2, 5, 9, 1, 3, 6]], [[1, 8, 3, 2, 4, 7, 5, 9, 6], [2, 9, 5, 6, 3, 8, 7, 1, 4], [6, 4, 7, 9, 1, 5, 8, 3, 2], [4, 5, 2, 3, 9, 6, 1, 7, 8], [7, 1, 8, 5, 2, 4, 3, 6, 9], [3, 6, 9, 8, 7, 1, 4, 2, 5], [9, 2, 1, 4, 8, 3, 6, 5, 7], [5, 3, 4, 7, 6, 9, 2, 8, 1], [8, 7, 6, 1, 5, 2, 9, 4, 3]], [[8, 6, 3, 9, 1, 5, 2, 7, 4], [4, 2, 9, 6, 7, 8, 3, 5, 1], [7, 1, 5, 3, 2, 4, 8, 9, 6], [2, 8, 7, 4, 3, 6, 9, 1, 5], [5, 4, 1, 8, 9, 2, 6, 3, 7], [9, 3, 6, 7, 5, 1, 4, 8, 2], [1, 5, 4, 2, 8, 3, 7, 6, 9], [6, 9, 8, 1, 4, 7, 5, 2, 3], [3, 7, 2, 5, 6, 9, 1, 4, 8]], [[2, 7, 6, 4, 9, 5, 1, 8, 3], [8, 4, 3, 2, 7, 1, 5, 9, 6], [9, 5, 1, 8, 6, 3, 2, 4, 7], [3, 9, 7, 5, 2, 8, 4, 6, 1], [1, 6, 8, 7, 4, 9, 3, 2, 5], [5, 2, 4, 3, 1, 6, 9, 7, 8], [6, 3, 5, 9, 8, 2, 7, 1, 4], [7, 1, 2, 6, 5, 4, 8, 3, 9], [4, 8, 9, 1, 3, 7, 6, 5, 2]], [[8, 3, 1, 2, 4, 5, 7, 9, 6], [7, 2, 6, 3, 1, 9, 5, 4, 8], [9, 5, 4, 7, 6, 8, 2, 3, 1], [4, 1, 9, 8, 7, 2, 3, 6, 5], [3, 6, 8, 4, 5, 1, 9, 7, 2], [2, 7, 5, 6, 9, 3, 8, 1, 4], [5, 8, 7, 1, 3, 4, 6, 2, 9], [1, 9, 3, 5, 2, 6, 4, 8, 7], [6, 4, 2, 9, 8, 7, 1, 5, 3]], [[1, 6, 8, 2, 5, 7, 4, 3, 9], [7, 9, 2, 4, 3, 6, 1, 5, 8], [5, 4, 3, 9, 8, 1, 6, 7, 2], [6, 3, 9, 8, 7, 4, 5, 2, 1], [4, 1, 5, 6, 2, 9, 7, 8, 3], [2, 8, 7, 3, 1, 5, 9, 6, 4], [9, 2, 4, 7, 6, 3, 8, 1, 5], [3, 7, 1, 5, 4, 8, 2, 9, 6], [8, 5, 6, 1, 9, 2, 3, 4, 7]], [[7, 5, 1, 4, 3, 2, 6, 8, 9], [2, 9, 3, 1, 6, 8, 5, 7, 4], [4, 6, 8, 7, 5, 9, 3, 1, 2], [5, 8, 7, 2, 4, 3, 9, 6, 1], [3, 1, 9, 6, 7, 5, 2, 4, 8], [6, 2, 4, 9, 8, 1, 7, 3, 5], [8, 3, 6, 5, 2, 4, 1, 9, 7], [1, 4, 5, 3, 9, 7, 8, 2, 6], [9, 7, 2, 8, 1, 6, 4, 5, 3]], [[3, 1, 8, 6, 9, 2, 5, 4, 7], [2, 5, 4, 7, 8, 1, 6, 3, 9], [6, 9, 7, 5, 4, 3, 1, 2, 8], [5, 6, 3, 9, 7, 4, 8, 1, 2], [7, 2, 1, 3, 6, 8, 9, 5, 4], [8, 4, 9, 1, 2, 5, 3, 7, 6], [1, 7, 6, 4, 5, 9, 2, 8, 3], [4, 8, 5, 2, 3, 6, 7, 9, 1], [9, 3, 2, 8, 1, 7, 4, 6, 5]], [[5, 7, 8, 2, 1, 3, 6, 4, 9], [2, 6, 3, 5, 4, 9, 1, 7, 8], [4, 1, 9, 8, 6, 7, 3, 5, 2], [7, 2, 4, 1, 9, 6, 8, 3, 5], [3, 5, 6, 4, 8, 2, 7, 9, 1], [8, 9, 1, 3, 7, 5, 2, 6, 4], [9, 3, 2, 6, 5, 1, 4, 8, 7], [6, 8, 5, 7, 2, 4, 9, 1, 3], [1, 4, 7, 9, 3, 8, 5, 2, 6]], [[9, 5, 6, 4, 1, 7, 8, 3, 2], [2, 8, 7, 5, 3, 6, 1, 4, 9], [3, 4, 1, 2, 9, 8, 7, 6, 5], [7, 9, 4, 1, 5, 3, 6, 2, 8], [8, 1, 5, 7, 6, 2, 3, 9, 4], [6, 3, 2, 9, 8, 4, 5, 7, 1], [1, 7, 8, 6, 4, 9, 2, 5, 3], [5, 2, 9, 3, 7, 1, 4, 8, 6], [4, 6, 3, 8, 2, 5, 9, 1, 7]], [[6, 3, 2, 9, 5, 1, 8, 4, 7], [8, 1, 4, 6, 7, 2, 9, 5, 3], [7, 5, 9, 3, 4, 8, 1, 2, 6], [3, 9, 1, 7, 2, 5, 6, 8, 4], [4, 7, 6, 1, 8, 9, 5, 3, 2], [2, 8, 5, 4, 3, 6, 7, 9, 1], [5, 4, 8, 2, 1, 7, 3, 6, 9], [9, 2, 7, 8, 6, 3, 4, 1, 5], [1, 6, 3, 5, 9, 4, 2, 7, 8]], [[2, 8, 5, 7, 4, 6, 9, 1, 3], [7, 3, 1, 8, 5, 9, 6, 2, 4], [9, 4, 6, 2, 3, 1, 5, 8, 7], [3, 5, 4, 6, 8, 7, 1, 9, 2], [8, 1, 2, 3, 9, 4, 7, 5, 6], [6, 9, 7, 1, 2, 5, 3, 4, 8], [1, 7, 9, 4, 6, 8, 2, 3, 5], [4, 6, 3, 5, 1, 2, 8, 7, 9], [5, 2, 8, 9, 7, 3, 4, 6, 1]], [[1, 2, 3, 8, 9, 7, 5, 4, 6], [9, 5, 6, 4, 1, 3, 8, 7, 2], [8, 4, 7, 2, 6, 5, 1, 9, 3], [6, 9, 1, 3, 7, 8, 2, 5, 4], [5, 8, 4, 9, 2, 1, 3, 6, 7], [7, 3, 2, 5, 4, 6, 9, 1, 8], [2, 1, 9, 6, 3, 4, 7, 8, 5], [3, 6, 8, 7, 5, 9, 4, 2, 1], [4, 7, 5, 1, 8, 2, 6, 3, 9]], [[8, 5, 1, 4, 2, 9, 3, 7, 6], [9, 7, 3, 6, 5, 8, 2, 1, 4], [2, 6, 4, 1, 7, 3, 5, 8, 9], [4, 3, 8, 5, 1, 7, 6, 9, 2], [6, 2, 9, 3, 8, 4, 7, 5, 1], [5, 1, 7, 9, 6, 2, 4, 3, 8], [3, 4, 6, 7, 9, 1, 8, 2, 5], [1, 8, 5, 2, 3, 6, 9, 4, 7], [7, 9, 2, 8, 4, 5, 1, 6, 3]], [[7, 6, 1, 4, 9, 5, 8, 2, 3], [2, 8, 4, 3, 6, 7, 1, 5, 9], [9, 5, 3, 1, 2, 8, 4, 6, 7], [6, 2, 5, 7, 8, 4, 9, 3, 1], [1, 3, 8, 2, 5, 9, 6, 7, 4], [4, 9, 7, 6, 3, 1, 5, 8, 2], [3, 4, 6, 5, 1, 2, 7, 9, 8], [5, 7, 9, 8, 4, 3, 2, 1, 6], [8, 1, 2, 9, 7, 6, 3, 4, 5]], [[6, 3, 8, 9, 1, 7, 4, 5, 2], [7, 5, 4, 3, 2, 6, 1, 9, 8], [2, 1, 9, 5, 8, 4, 3, 7, 6], [4, 9, 2, 8, 7, 3, 6, 1, 5], [5, 7, 1, 2, 6, 9, 8, 4, 3], [8, 6, 3, 1, 4, 5, 7, 2, 9], [1, 8, 5, 7, 3, 2, 9, 6, 4], [3, 2, 6, 4, 9, 1, 5, 8, 7], [9, 4, 7, 6, 5, 8, 2, 3, 1]], [[5, 3, 8, 7, 4, 2, 9, 1, 6], [6, 9, 4, 3, 1, 8, 5, 2, 7], [2, 1, 7, 9, 5, 6, 3, 8, 4], [8, 7, 1, 2, 9, 4, 6, 5, 3], [3, 4, 5, 6, 7, 1, 2, 9, 8], [9, 6, 2, 5, 8, 3, 4, 7, 1], [1, 2, 3, 8, 6, 9, 7, 4, 5], [7, 8, 6, 4, 2, 5, 1, 3, 9], [4, 5, 9, 1, 3, 7, 8, 6, 2]], [[6, 8, 7, 9, 3, 5, 2, 4, 1], [9, 1, 3, 2, 4, 7, 5, 6, 8], [4, 5, 2, 1, 6, 8, 7, 9, 3], [3, 9, 6, 7, 2, 1, 8, 5, 4], [2, 7, 8, 4, 5, 9, 3, 1, 6], [1, 4, 5, 3, 8, 6, 9, 2, 7], [5, 6, 9, 8, 7, 4, 1, 3, 2], [8, 3, 1, 6, 9, 2, 4, 7, 5], [7, 2, 4, 5, 1, 3, 6, 8, 9]], [[6, 5, 4, 8, 3, 7, 2, 9, 1], [3, 8, 9, 2, 1, 4, 7, 5, 6], [1, 7, 2, 9, 6, 5, 4, 8, 3], [8, 9, 6, 4, 5, 1, 3, 2, 7], [2, 3, 7, 6, 8, 9, 1, 4, 5], [5, 4, 1, 7, 2, 3, 8, 6, 9], [9, 1, 8, 3, 4, 6, 5, 7, 2], [7, 2, 3, 5, 9, 8, 6, 1, 4], [4, 6, 5, 1, 7, 2, 9, 3, 8]], [[1, 9, 2, 5, 6, 7, 4, 3, 8], [8, 7, 3, 4, 2, 9, 1, 5, 6], [5, 6, 4, 1, 8, 3, 2, 7, 9], [3, 8, 7, 9, 4, 2, 6, 1, 5], [2, 5, 1, 8, 7, 6, 3, 9, 4], [9, 4, 6, 3, 5, 1, 8, 2, 7], [7, 3, 9, 6, 1, 4, 5, 8, 2], [6, 1, 8, 2, 9, 5, 7, 4, 3], [4, 2, 5, 7, 3, 8, 9, 6, 1]], [[9, 6, 3, 7, 5, 2, 4, 8, 1], [4, 5, 1, 3, 6, 8, 9, 7, 2], [7, 2, 8, 4, 9, 1, 3, 5, 6], [8, 9, 2, 1, 7, 6, 5, 3, 4], [1, 7, 4, 5, 3, 9, 2, 6, 8], [6, 3, 5, 8, 2, 4, 1, 9, 7], [5, 1, 9, 6, 4, 7, 8, 2, 3], [3, 8, 7, 2, 1, 5, 6, 4, 9], [2, 4, 6, 9, 8, 3, 7, 1, 5]], [[8, 5, 1, 3, 4, 7, 6, 9, 2], [4, 9, 6, 5, 8, 2, 1, 7, 3], [7, 2, 3, 1, 6, 9, 4, 5, 8], [3, 8, 2, 6, 7, 5, 9, 1, 4], [5, 1, 4, 2, 9, 8, 3, 6, 7], [6, 7, 9, 4, 1, 3, 2, 8, 5], [1, 4, 8, 7, 2, 6, 5, 3, 9], [9, 6, 5, 8, 3, 4, 7, 2, 1], [2, 3, 7, 9, 5, 1, 8, 4, 6]], [[1, 5, 8, 4, 7, 9, 6, 3, 2], [9, 6, 3, 2, 8, 1, 4, 7, 5], [4, 7, 2, 5, 6, 3, 9, 1, 8], [2, 1, 5, 8, 3, 6, 7, 9, 4], [6, 8, 4, 7, 9, 2, 1, 5, 3], [3, 9, 7, 1, 5, 4, 8, 2, 6], [5, 2, 1, 9, 4, 8, 3, 6, 7], [8, 3, 9, 6, 2, 7, 5, 4, 1], [7, 4, 6, 3, 1, 5, 2, 8, 9]], [[1, 8, 7, 2, 3, 5, 4, 9, 6], [2, 6, 4, 8, 9, 1, 7, 3, 5], [3, 9, 5, 6, 7, 4, 1, 8, 2], [4, 2, 6, 3, 8, 9, 5, 7, 1], [7, 1, 9, 5, 4, 2, 8, 6, 3], [8, 5, 3, 7, 1, 6, 2, 4, 9], [9, 3, 8, 1, 5, 7, 6, 2, 4], [5, 4, 2, 9, 6, 8, 3, 1, 7], [6, 7, 1, 4, 2, 3, 9, 5, 8]], [[1, 2, 7, 3, 9, 8, 5, 4, 6], [6, 5, 4, 1, 7, 2, 3, 9, 8], [3, 9, 8, 5, 6, 4, 1, 7, 2], [7, 6, 9, 8, 3, 1, 2, 5, 4], [4, 8, 2, 6, 5, 9, 7, 3, 1], [5, 3, 1, 4, 2, 7, 6, 8, 9], [9, 1, 6, 7, 4, 5, 8, 2, 3], [2, 7, 3, 9, 8, 6, 4, 1, 5], [8, 4, 5, 2, 1, 3, 9, 6, 7]], [[9, 2, 5, 7, 8, 4, 6, 1, 3], [8, 4, 3, 6, 2, 1, 9, 5, 7], [7, 1, 6, 5, 9, 3, 8, 2, 4], [3, 7, 2, 1, 5, 9, 4, 8, 6], [5, 9, 8, 4, 6, 7, 1, 3, 2], [4, 6, 1, 2, 3, 8, 5, 7, 9], [6, 3, 4, 8, 7, 5, 2, 9, 1], [1, 8, 7, 9, 4, 2, 3, 6, 5], [2, 5, 9, 3, 1, 6, 7, 4, 8]], [[5, 4, 9, 6, 3, 8, 7, 2, 1], [7, 2, 6, 9, 1, 4, 8, 5, 3], [3, 1, 8, 5, 7, 2, 9, 4, 6], [6, 5, 4, 1, 8, 7, 3, 9, 2], [8, 9, 2, 4, 5, 3, 6, 1, 7], [1, 3, 7, 2, 6, 9, 5, 8, 4], [2, 7, 3, 8, 4, 5, 1, 6, 9], [9, 6, 5, 7, 2, 1, 4, 3, 8], [4, 8, 1, 3, 9, 6, 2, 7, 5]], [[6, 1, 2, 4, 5, 3, 7, 9, 8], [9, 7, 3, 6, 1, 8, 4, 2, 5], [8, 5, 4, 9, 2, 7, 1, 6, 3], [2, 9, 1, 7, 8, 4, 5, 3, 6], [4, 3, 5, 2, 6, 9, 8, 1, 7], [7, 8, 6, 1, 3, 5, 9, 4, 2], [5, 2, 7, 3, 9, 1, 6, 8, 4], [1, 6, 8, 5, 4, 2, 3, 7, 9], [3, 4, 9, 8, 7, 6, 2, 5, 1]], [[5, 3, 8, 9, 7, 2, 4, 1, 6], [7, 6, 1, 8, 4, 3, 9, 5, 2], [2, 4, 9, 5, 6, 1, 3, 7, 8], [4, 1, 2, 3, 8, 5, 7, 6, 9], [3, 7, 6, 2, 9, 4, 1, 8, 5], [9, 8, 5, 7, 1, 6, 2, 3, 4], [6, 5, 4, 1, 2, 7, 8, 9, 3], [1, 9, 3, 4, 5, 8, 6, 2, 7], [8, 2, 7, 6, 3, 9, 5, 4, 1]], [[2, 8, 7, 5, 1, 3, 9, 6, 4], [9, 6, 4, 7, 8, 2, 3, 1, 5], [3, 5, 1, 6, 4, 9, 7, 8, 2], [8, 9, 5, 2, 3, 6, 4, 7, 1], [7, 1, 6, 8, 5, 4, 2, 9, 3], [4, 3, 2, 1, 9, 7, 8, 5, 6], [5, 4, 3, 9, 6, 8, 1, 2, 7], [6, 2, 9, 4, 7, 1, 5, 3, 8], [1, 7, 8, 3, 2, 5, 6, 4, 9]], [[2, 9, 1, 8, 4, 5, 7, 3, 6], [6, 3, 8, 9, 2, 7, 1, 5, 4], [4, 7, 5, 1, 3, 6, 2, 9, 8], [3, 2, 7, 4, 9, 8, 5, 6, 1], [8, 6, 9, 7, 5, 1, 4, 2, 3], [1, 5, 4, 3, 6, 2, 8, 7, 9], [9, 8, 3, 5, 7, 4, 6, 1, 2], [7, 1, 2, 6, 8, 9, 3, 4, 5], [5, 4, 6, 2, 1, 3, 9, 8, 7]], [[5, 3, 7, 1, 6, 8, 9, 4, 2], [2, 8, 6, 9, 4, 3, 1, 5, 7], [9, 1, 4, 5, 2, 7, 8, 3, 6], [8, 7, 3, 6, 5, 9, 2, 1, 4], [1, 4, 5, 8, 3, 2, 7, 6, 9], [6, 9, 2, 7, 1, 4, 3, 8, 5], [3, 2, 8, 4, 9, 5, 6, 7, 1], [7, 5, 1, 2, 8, 6, 4, 9, 3], [4, 6, 9, 3, 7, 1, 5, 2, 8]], [[8, 2, 7, 3, 1, 4, 9, 6, 5], [6, 1, 9, 7, 8, 5, 4, 3, 2], [4, 3, 5, 6, 9, 2, 1, 8, 7], [1, 4, 2, 8, 3, 6, 7, 5, 9], [5, 6, 3, 9, 4, 7, 8, 2, 1], [9, 7, 8, 2, 5, 1, 3, 4, 6], [3, 8, 1, 5, 2, 9, 6, 7, 4], [7, 5, 4, 1, 6, 8, 2, 9, 3], [2, 9, 6, 4, 7, 3, 5, 1, 8]], [[6, 4, 3, 5, 8, 7, 2, 1, 9], [7, 1, 2, 9, 3, 6, 4, 5, 8], [9, 5, 8, 4, 2, 1, 7, 6, 3], [3, 8, 5, 2, 6, 9, 1, 7, 4], [4, 7, 6, 8, 1, 3, 9, 2, 5], [1, 2, 9, 7, 4, 5, 8, 3, 6], [8, 3, 1, 6, 7, 4, 5, 9, 2], [2, 9, 7, 3, 5, 8, 6, 4, 1], [5, 6, 4, 1, 9, 2, 3, 8, 7]], [[5, 6, 2, 8, 3, 4, 7, 1, 9], [3, 1, 4, 9, 6, 7, 2, 8, 5], [7, 9, 8, 2, 1, 5, 4, 3, 6], [9, 7, 3, 6, 5, 8, 1, 4, 2], [1, 2, 6, 3, 4, 9, 8, 5, 7], [4, 8, 5, 1, 7, 2, 9, 6, 3], [6, 3, 9, 7, 8, 1, 5, 2, 4], [2, 5, 1, 4, 9, 6, 3, 7, 8], [8, 4, 7, 5, 2, 3, 6, 9, 1]], [[4, 3, 1, 8, 2, 5, 7, 9, 6], [2, 5, 6, 3, 9, 7, 4, 1, 8], [9, 7, 8, 4, 1, 6, 2, 3, 5], [6, 8, 9, 1, 3, 4, 5, 7, 2], [7, 2, 5, 9, 6, 8, 3, 4, 1], [3, 1, 4, 5, 7, 2, 6, 8, 9], [1, 4, 3, 6, 5, 9, 8, 2, 7], [5, 9, 2, 7, 8, 3, 1, 6, 4], [8, 6, 7, 2, 4, 1, 9, 5, 3]], [[3, 2, 4, 8, 5, 7, 1, 9, 6], [6, 1, 7, 2, 3, 9, 5, 4, 8], [9, 5, 8, 6, 1, 4, 3, 2, 7], [1, 4, 3, 5, 2, 8, 7, 6, 9], [5, 7, 9, 4, 6, 3, 2, 8, 1], [8, 6, 2, 7, 9, 1, 4, 3, 5], [7, 9, 5, 3, 4, 6, 8, 1, 2], [2, 3, 6, 1, 8, 5, 9, 7, 4], [4, 8, 1, 9, 7, 2, 6, 5, 3]], [[7, 4, 3, 8, 6, 9, 1, 5, 2], [6, 2, 8, 7, 5, 1, 3, 4, 9], [9, 5, 1, 3, 4, 2, 8, 6, 7], [1, 8, 2, 6, 7, 4, 5, 9, 3], [5, 7, 9, 1, 2, 3, 4, 8, 6], [4, 3, 6, 9, 8, 5, 2, 7, 1], [8, 6, 5, 2, 3, 7, 9, 1, 4], [3, 1, 7, 4, 9, 8, 6, 2, 5], [2, 9, 4, 5, 1, 6, 7, 3, 8]], [[4, 1, 6, 8, 5, 3, 2, 7, 9], [5, 2, 9, 6, 1, 7, 8, 4, 3], [3, 7, 8, 9, 2, 4, 6, 1, 5], [1, 4, 5, 2, 3, 9, 7, 8, 6], [9, 6, 7, 5, 4, 8, 3, 2, 1], [8, 3, 2, 7, 6, 1, 5, 9, 4], [6, 9, 1, 3, 8, 2, 4, 5, 7], [2, 5, 4, 1, 7, 6, 9, 3, 8], [7, 8, 3, 4, 9, 5, 1, 6, 2]], [[7, 8, 4, 2, 3, 5, 6, 1, 9], [5, 2, 6, 9, 7, 1, 3, 8, 4], [3, 1, 9, 8, 6, 4, 2, 5, 7], [4, 5, 2, 3, 9, 8, 7, 6, 1], [1, 3, 7, 4, 2, 6, 8, 9, 5], [6, 9, 8, 5, 1, 7, 4, 2, 3], [9, 4, 1, 6, 8, 3, 5, 7, 2], [8, 7, 3, 1, 5, 2, 9, 4, 6], [2, 6, 5, 7, 4, 9, 1, 3, 8]], [[8, 2, 3, 9, 5, 7, 4, 6, 1], [4, 1, 5, 2, 6, 8, 3, 9, 7], [6, 7, 9, 3, 1, 4, 2, 5, 8], [9, 5, 8, 7, 4, 6, 1, 2, 3], [2, 3, 7, 5, 9, 1, 6, 8, 4], [1, 4, 6, 8, 2, 3, 5, 7, 9], [5, 8, 2, 4, 3, 9, 7, 1, 6], [7, 6, 4, 1, 8, 5, 9, 3, 2], [3, 9, 1, 6, 7, 2, 8, 4, 5]], [[8, 3, 1, 5, 2, 9, 4, 6, 7], [9, 2, 5, 6, 7, 4, 1, 8, 3], [4, 7, 6, 8, 3, 1, 5, 2, 9], [7, 5, 9, 4, 1, 6, 2, 3, 8], [1, 8, 3, 2, 9, 5, 7, 4, 6], [2, 6, 4, 7, 8, 3, 9, 5, 1], [6, 9, 8, 1, 4, 2, 3, 7, 5], [5, 1, 2, 3, 6, 7, 8, 9, 4], [3, 4, 7, 9, 5, 8, 6, 1, 2]], [[8, 1, 5, 9, 4, 7, 3, 6, 2], [7, 2, 4, 5, 6, 3, 1, 9, 8], [3, 6, 9, 2, 1, 8, 5, 4, 7], [2, 8, 7, 3, 5, 4, 6, 1, 9], [9, 4, 6, 7, 2, 1, 8, 3, 5], [5, 3, 1, 6, 8, 9, 7, 2, 4], [4, 5, 8, 1, 9, 6, 2, 7, 3], [1, 9, 3, 8, 7, 2, 4, 5, 6], [6, 7, 2, 4, 3, 5, 9, 8, 1]], [[6, 5, 4, 3, 7, 2, 9, 8, 1], [7, 8, 1, 9, 4, 6, 3, 5, 2], [9, 3, 2, 5, 1, 8, 4, 6, 7], [1, 6, 3, 2, 9, 4, 5, 7, 8], [4, 2, 8, 7, 3, 5, 1, 9, 6], [5, 7, 9, 6, 8, 1, 2, 3, 4], [2, 9, 6, 1, 5, 7, 8, 4, 3], [3, 4, 7, 8, 2, 9, 6, 1, 5], [8, 1, 5, 4, 6, 3, 7, 2, 9]], [[2, 6, 5, 7, 4, 8, 9, 1, 3], [9, 4, 3, 6, 5, 1, 7, 2, 8], [7, 1, 8, 2, 3, 9, 4, 5, 6], [4, 5, 1, 8, 2, 6, 3, 7, 9], [3, 9, 2, 4, 7, 5, 6, 8, 1], [8, 7, 6, 9, 1, 3, 2, 4, 5], [6, 8, 7, 5, 9, 4, 1, 3, 2], [1, 2, 9, 3, 8, 7, 5, 6, 4], [5, 3, 4, 1, 6, 2, 8, 9, 7]], [[9, 1, 8, 7, 4, 3, 6, 5, 2], [2, 4, 6, 9, 5, 1, 7, 8, 3], [3, 7, 5, 6, 8, 2, 1, 9, 4], [6, 2, 4, 1, 7, 8, 5, 3, 9], [5, 9, 1, 2, 3, 4, 8, 6, 7], [7, 8, 3, 5, 9, 6, 4, 2, 1], [8, 5, 9, 4, 2, 7, 3, 1, 6], [4, 6, 2, 3, 1, 5, 9, 7, 8], [1, 3, 7, 8, 6, 9, 2, 4, 5]], [[1, 4, 2, 9, 7, 8, 6, 3, 5], [3, 7, 6, 4, 1, 5, 9, 2, 8], [9, 8, 5, 6, 3, 2, 1, 4, 7], [4, 2, 1, 7, 8, 9, 5, 6, 3], [6, 3, 9, 2, 5, 4, 8, 7, 1], [8, 5, 7, 3, 6, 1, 2, 9, 4], [5, 9, 4, 1, 2, 7, 3, 8, 6], [2, 6, 8, 5, 4, 3, 7, 1, 9], [7, 1, 3, 8, 9, 6, 4, 5, 2]], [[1, 4, 3, 9, 2, 7, 6, 8, 5], [2, 5, 6, 1, 8, 4, 9, 7, 3], [8, 9, 7, 5, 3, 6, 1, 4, 2], [4, 2, 8, 3, 5, 9, 7, 1, 6], [7, 3, 1, 4, 6, 2, 8, 5, 9], [9, 6, 5, 8, 7, 1, 2, 3, 4], [3, 7, 9, 2, 1, 5, 4, 6, 8], [6, 8, 2, 7, 4, 3, 5, 9, 1], [5, 1, 4, 6, 9, 8, 3, 2, 7]], [[2, 1, 6, 5, 9, 7, 4, 8, 3], [9, 8, 4, 1, 2, 3, 7, 5, 6], [5, 3, 7, 6, 4, 8, 1, 2, 9], [6, 7, 3, 9, 5, 4, 2, 1, 8], [1, 2, 8, 7, 3, 6, 5, 9, 4], [4, 5, 9, 8, 1, 2, 3, 6, 7], [7, 9, 2, 3, 6, 5, 8, 4, 1], [8, 4, 1, 2, 7, 9, 6, 3, 5], [3, 6, 5, 4, 8, 1, 9, 7, 2]], [[2, 7, 8, 6, 3, 4, 9, 5, 1], [9, 3, 5, 2, 7, 1, 4, 8, 6], [4, 1, 6, 8, 5, 9, 2, 3, 7], [7, 4, 3, 9, 1, 5, 6, 2, 8], [6, 8, 1, 7, 2, 3, 5, 4, 9], [5, 2, 9, 4, 8, 6, 1, 7, 3], [3, 9, 4, 5, 6, 8, 7, 1, 2], [1, 5, 2, 3, 9, 7, 8, 6, 4], [8, 6, 7, 1, 4, 2, 3, 9, 5]], [[4, 1, 6, 9, 5, 7, 2, 3, 8], [7, 3, 2, 1, 8, 6, 9, 5, 4], [9, 5, 8, 3, 4, 2, 6, 1, 7], [6, 9, 5, 8, 3, 1, 7, 4, 2], [2, 7, 3, 4, 6, 9, 5, 8, 1], [8, 4, 1, 7, 2, 5, 3, 6, 9], [1, 8, 7, 5, 9, 3, 4, 2, 6], [3, 2, 4, 6, 7, 8, 1, 9, 5], [5, 6, 9, 2, 1, 4, 8, 7, 3]], [[2, 9, 8, 5, 4, 1, 3, 6, 7], [4, 7, 6, 3, 8, 2, 9, 5, 1], [3, 5, 1, 7, 6, 9, 2, 4, 8], [7, 3, 9, 4, 2, 6, 8, 1, 5], [1, 6, 2, 8, 3, 5, 4, 7, 9], [5, 8, 4, 1, 9, 7, 6, 2, 3], [6, 1, 3, 2, 5, 8, 7, 9, 4], [9, 4, 7, 6, 1, 3, 5, 8, 2], [8, 2, 5, 9, 7, 4, 1, 3, 6]], [[1, 8, 7, 6, 2, 3, 5, 9, 4], [4, 5, 3, 1, 9, 7, 8, 6, 2], [9, 6, 2, 8, 4, 5, 7, 1, 3], [3, 7, 6, 9, 1, 2, 4, 5, 8], [8, 9, 5, 3, 7, 4, 1, 2, 6], [2, 1, 4, 5, 8, 6, 9, 3, 7], [6, 3, 9, 7, 5, 8, 2, 4, 1], [5, 4, 8, 2, 3, 1, 6, 7, 9], [7, 2, 1, 4, 6, 9, 3, 8, 5]], [[1, 9, 4, 2, 5, 3, 6, 8, 7], [3, 5, 6, 8, 7, 4, 9, 2, 1], [8, 2, 7, 1, 6, 9, 4, 3, 5], [9, 4, 1, 5, 2, 8, 7, 6, 3], [5, 3, 8, 7, 4, 6, 1, 9, 2], [6, 7, 2, 3, 9, 1, 5, 4, 8], [4, 8, 3, 6, 1, 7, 2, 5, 9], [7, 6, 5, 9, 8, 2, 3, 1, 4], [2, 1, 9, 4, 3, 5, 8, 7, 6]], [[3, 8, 1, 4, 5, 7, 6, 9, 2], [9, 4, 2, 8, 6, 1, 3, 7, 5], [6, 7, 5, 9, 3, 2, 1, 8, 4], [1, 6, 3, 5, 7, 9, 4, 2, 8], [7, 5, 4, 2, 8, 6, 9, 3, 1], [8, 2, 9, 1, 4, 3, 5, 6, 7], [4, 3, 7, 6, 1, 8, 2, 5, 9], [5, 9, 6, 7, 2, 4, 8, 1, 3], [2, 1, 8, 3, 9, 5, 7, 4, 6]], [[9, 5, 8, 7, 2, 3, 6, 4, 1], [4, 2, 3, 6, 5, 1, 8, 9, 7], [1, 7, 6, 4, 9, 8, 5, 3, 2], [7, 3, 9, 2, 4, 5, 1, 6, 8], [6, 8, 4, 1, 7, 9, 3, 2, 5], [2, 1, 5, 3, 8, 6, 4, 7, 9], [8, 4, 7, 5, 3, 2, 9, 1, 6], [3, 9, 1, 8, 6, 7, 2, 5, 4], [5, 6, 2, 9, 1, 4, 7, 8, 3]], [[9, 4, 1, 2, 3, 8, 6, 5, 7], [6, 7, 3, 4, 9, 5, 8, 2, 1], [8, 2, 5, 1, 6, 7, 9, 3, 4], [3, 1, 9, 7, 8, 2, 5, 4, 6], [5, 6, 4, 3, 1, 9, 2, 7, 8], [7, 8, 2, 5, 4, 6, 3, 1, 9], [2, 5, 8, 9, 7, 4, 1, 6, 3], [4, 3, 6, 8, 5, 1, 7, 9, 2], [1, 9, 7, 6, 2, 3, 4, 8, 5]], [[9, 8, 3, 7, 4, 6, 1, 2, 5], [4, 5, 1, 2, 9, 8, 7, 6, 3], [7, 6, 2, 3, 5, 1, 8, 9, 4], [6, 7, 8, 4, 2, 3, 5, 1, 9], [1, 4, 5, 6, 7, 9, 2, 3, 8], [2, 3, 9, 1, 8, 5, 4, 7, 6], [3, 1, 4, 8, 6, 7, 9, 5, 2], [5, 2, 6, 9, 1, 4, 3, 8, 7], [8, 9, 7, 5, 3, 2, 6, 4, 1]], [[2, 9, 4, 7, 8, 5, 6, 3, 1], [5, 1, 3, 4, 6, 9, 7, 2, 8], [8, 6, 7, 2, 3, 1, 9, 4, 5], [3, 8, 2, 5, 1, 6, 4, 7, 9], [4, 7, 9, 8, 2, 3, 1, 5, 6], [1, 5, 6, 9, 4, 7, 3, 8, 2], [9, 3, 8, 6, 7, 2, 5, 1, 4], [7, 4, 5, 1, 9, 8, 2, 6, 3], [6, 2, 1, 3, 5, 4, 8, 9, 7]], [[1, 8, 4, 2, 3, 6, 9, 5, 7], [2, 7, 5, 4, 1, 9, 3, 8, 6], [9, 6, 3, 8, 7, 5, 1, 2, 4], [5, 3, 2, 6, 4, 8, 7, 1, 9], [8, 9, 1, 7, 2, 3, 6, 4, 5], [6, 4, 7, 5, 9, 1, 8, 3, 2], [7, 2, 8, 1, 6, 4, 5, 9, 3], [3, 5, 6, 9, 8, 2, 4, 7, 1], [4, 1, 9, 3, 5, 7, 2, 6, 8]], [[1, 9, 7, 6, 8, 4, 3, 2, 5], [6, 2, 8, 5, 3, 1, 9, 7, 4], [5, 4, 3, 7, 9, 2, 1, 8, 6], [3, 7, 2, 4, 5, 9, 8, 6, 1], [8, 1, 4, 3, 6, 7, 5, 9, 2], [9, 5, 6, 2, 1, 8, 4, 3, 7], [2, 8, 5, 1, 7, 3, 6, 4, 9], [4, 6, 9, 8, 2, 5, 7, 1, 3], [7, 3, 1, 9, 4, 6, 2, 5, 8]], [[9, 3, 2, 7, 5, 4, 6, 8, 1], [7, 6, 1, 9, 8, 2, 5, 3, 4], [4, 8, 5, 6, 3, 1, 7, 2, 9], [2, 5, 9, 1, 7, 6, 8, 4, 3], [8, 7, 3, 4, 9, 5, 2, 1, 6], [1, 4, 6, 8, 2, 3, 9, 7, 5], [5, 9, 4, 2, 1, 8, 3, 6, 7], [3, 1, 8, 5, 6, 7, 4, 9, 2], [6, 2, 7, 3, 4, 9, 1, 5, 8]], [[6, 1, 7, 8, 2, 3, 9, 4, 5], [2, 4, 5, 6, 1, 9, 8, 7, 3], [3, 8, 9, 5, 4, 7, 6, 2, 1], [8, 5, 1, 4, 7, 2, 3, 6, 9], [7, 9, 2, 3, 6, 8, 1, 5, 4], [4, 6, 3, 9, 5, 1, 2, 8, 7], [1, 7, 6, 2, 3, 5, 4, 9, 8], [5, 2, 8, 1, 9, 4, 7, 3, 6], [9, 3, 4, 7, 8, 6, 5, 1, 2]], [[6, 2, 7, 9, 8, 1, 5, 4, 3], [5, 3, 8, 2, 4, 7, 6, 9, 1], [4, 1, 9, 3, 5, 6, 7, 8, 2], [7, 6, 3, 4, 9, 8, 2, 1, 5], [8, 4, 5, 1, 2, 3, 9, 6, 7], [1, 9, 2, 6, 7, 5, 4, 3, 8], [9, 7, 4, 8, 3, 2, 1, 5, 6], [2, 8, 1, 5, 6, 9, 3, 7, 4], [3, 5, 6, 7, 1, 4, 8, 2, 9]], [[2, 9, 8, 3, 6, 1, 7, 4, 5], [5, 3, 4, 8, 7, 9, 6, 1, 2], [6, 1, 7, 2, 4, 5, 9, 3, 8], [3, 6, 1, 7, 8, 2, 5, 9, 4], [9, 7, 5, 6, 1, 4, 8, 2, 3], [8, 4, 2, 9, 5, 3, 1, 7, 6], [1, 2, 6, 5, 3, 7, 4, 8, 9], [4, 5, 9, 1, 2, 8, 3, 6, 7], [7, 8, 3, 4, 9, 6, 2, 5, 1]], [[6, 8, 7, 3, 2, 1, 5, 4, 9], [5, 4, 2, 8, 6, 9, 3, 7, 1], [9, 1, 3, 7, 5, 4, 8, 6, 2], [7, 3, 1, 2, 4, 6, 9, 8, 5], [8, 5, 4, 9, 3, 7, 1, 2, 6], [2, 6, 9, 5, 1, 8, 7, 3, 4], [3, 9, 5, 6, 7, 2, 4, 1, 8], [1, 7, 6, 4, 8, 5, 2, 9, 3], [4, 2, 8, 1, 9, 3, 6, 5, 7]], [[6, 1, 8, 7, 3, 2, 9, 5, 4], [9, 2, 5, 1, 4, 8, 7, 6, 3], [3, 4, 7, 9, 5, 6, 1, 2, 8], [8, 3, 9, 2, 6, 7, 4, 1, 5], [5, 7, 1, 4, 9, 3, 6, 8, 2], [4, 6, 2, 8, 1, 5, 3, 7, 9], [7, 8, 4, 3, 2, 1, 5, 9, 6], [1, 5, 3, 6, 8, 9, 2, 4, 7], [2, 9, 6, 5, 7, 4, 8, 3, 1]], [[3, 9, 2, 1, 8, 4, 5, 7, 6], [6, 5, 8, 3, 7, 9, 1, 4, 2], [7, 1, 4, 5, 2, 6, 8, 3, 9], [8, 4, 5, 9, 6, 2, 7, 1, 3], [1, 7, 9, 8, 5, 3, 2, 6, 4], [2, 3, 6, 4, 1, 7, 9, 5, 8], [4, 8, 7, 2, 3, 1, 6, 9, 5], [9, 2, 1, 6, 4, 5, 3, 8, 7], [5, 6, 3, 7, 9, 8, 4, 2, 1]], [[9, 2, 6, 4, 3, 7, 5, 1, 8], [7, 8, 5, 2, 1, 6, 9, 4, 3], [1, 3, 4, 8, 5, 9, 6, 2, 7], [3, 4, 2, 9, 6, 8, 1, 7, 5], [8, 5, 9, 7, 2, 1, 4, 3, 6], [6, 1, 7, 5, 4, 3, 8, 9, 2], [2, 6, 1, 3, 9, 5, 7, 8, 4], [5, 7, 3, 1, 8, 4, 2, 6, 9], [4, 9, 8, 6, 7, 2, 3, 5, 1]], [[6, 4, 7, 2, 3, 8, 5, 1, 9], [9, 1, 5, 4, 7, 6, 2, 3, 8], [3, 2, 8, 5, 1, 9, 4, 6, 7], [7, 9, 1, 6, 5, 2, 8, 4, 3], [5, 6, 3, 7, 8, 4, 9, 2, 1], [4, 8, 2, 3, 9, 1, 7, 5, 6], [8, 3, 9, 1, 2, 5, 6, 7, 4], [2, 7, 6, 8, 4, 3, 1, 9, 5], [1, 5, 4, 9, 6, 7, 3, 8, 2]]]']"
            ]
          },
          "metadata": {},
          "execution_count": 86
        }
      ],
      "source": [
        "with open('sudokus_solved.csv', 'r') as f:\n",
        "    lines2 = [l.strip() for l in f.readlines()]\n",
        "    \n",
        "lines2[:5]"
      ]
    }
  ],
  "metadata": {
    "kernelspec": {
      "display_name": "Python 3 (ipykernel)",
      "language": "python",
      "name": "python3"
    },
    "language_info": {
      "codemirror_mode": {
        "name": "ipython",
        "version": 3
      },
      "file_extension": ".py",
      "mimetype": "text/x-python",
      "name": "python",
      "nbconvert_exporter": "python",
      "pygments_lexer": "ipython3",
      "version": "3.9.6"
    },
    "colab": {
      "provenance": []
    }
  },
  "nbformat": 4,
  "nbformat_minor": 5
}