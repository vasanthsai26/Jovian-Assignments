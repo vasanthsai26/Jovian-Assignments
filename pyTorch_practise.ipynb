{
  "nbformat": 4,
  "nbformat_minor": 0,
  "metadata": {
    "colab": {
      "provenance": [],
      "authorship_tag": "ABX9TyMQiHu6YmBm/nvYSveDAvv5",
      "include_colab_link": true
    },
    "kernelspec": {
      "name": "python3",
      "display_name": "Python 3"
    },
    "language_info": {
      "name": "python"
    },
    "accelerator": "GPU",
    "gpuClass": "standard"
  },
  "cells": [
    {
      "cell_type": "markdown",
      "metadata": {
        "id": "view-in-github",
        "colab_type": "text"
      },
      "source": [
        "<a href=\"https://colab.research.google.com/github/vasanthsai26/Jovian-Assignments/blob/main/pyTorch_practise.ipynb\" target=\"_parent\"><img src=\"https://colab.research.google.com/assets/colab-badge.svg\" alt=\"Open In Colab\"/></a>"
      ]
    },
    {
      "cell_type": "code",
      "execution_count": null,
      "metadata": {
        "colab": {
          "base_uri": "https://localhost:8080/",
          "height": 36
        },
        "id": "9ndaLkdAS14G",
        "outputId": "90475591-cd0a-41a7-8880-f9178c1091d8"
      },
      "outputs": [
        {
          "output_type": "execute_result",
          "data": {
            "text/plain": [
              "'1.13.0+cu116'"
            ],
            "application/vnd.google.colaboratory.intrinsic+json": {
              "type": "string"
            }
          },
          "metadata": {},
          "execution_count": 1
        }
      ],
      "source": [
        "import torch\n",
        "from torch import nn\n",
        "import matplotlib.pyplot as plt\n",
        "import numpy as np\n",
        "\n",
        "torch.__version__"
      ]
    },
    {
      "cell_type": "code",
      "source": [
        "### Sample data\n",
        "\n",
        "weight = 0.7\n",
        "bias = 0.3\n",
        "\n",
        "X = torch.arange(0,1,0.02).unsqueeze(dim=1)\n",
        "y = weight * X + bias\n",
        "X[:10],y[:10]"
      ],
      "metadata": {
        "colab": {
          "base_uri": "https://localhost:8080/"
        },
        "id": "GvumyCFXTIun",
        "outputId": "a3c214a6-ac71-41c3-c017-05f7bf805c8c"
      },
      "execution_count": null,
      "outputs": [
        {
          "output_type": "execute_result",
          "data": {
            "text/plain": [
              "(tensor([[0.0000],\n",
              "         [0.0200],\n",
              "         [0.0400],\n",
              "         [0.0600],\n",
              "         [0.0800],\n",
              "         [0.1000],\n",
              "         [0.1200],\n",
              "         [0.1400],\n",
              "         [0.1600],\n",
              "         [0.1800]]), tensor([[0.3000],\n",
              "         [0.3140],\n",
              "         [0.3280],\n",
              "         [0.3420],\n",
              "         [0.3560],\n",
              "         [0.3700],\n",
              "         [0.3840],\n",
              "         [0.3980],\n",
              "         [0.4120],\n",
              "         [0.4260]]))"
            ]
          },
          "metadata": {},
          "execution_count": 2
        }
      ]
    },
    {
      "cell_type": "code",
      "source": [
        "### train test splilt\n",
        "\n",
        "train_split = int(len(X)*0.8)\n",
        "\n",
        "X_train , y_train = X[:train_split],y[:train_split]\n",
        "X_test,y_test = X[train_split:],y[train_split:]\n",
        "len(X_train),len(y_train),len(X_test),len(y_test)"
      ],
      "metadata": {
        "colab": {
          "base_uri": "https://localhost:8080/"
        },
        "id": "3EwPKma5Uhwd",
        "outputId": "fd465106-17ea-4814-9eb4-836be034da6a"
      },
      "execution_count": null,
      "outputs": [
        {
          "output_type": "execute_result",
          "data": {
            "text/plain": [
              "(40, 40, 10, 10)"
            ]
          },
          "metadata": {},
          "execution_count": 3
        }
      ]
    },
    {
      "cell_type": "code",
      "source": [
        "## visilize function\n",
        "def plot_data(train_data=X_train,\n",
        "              train_labels=y_train,\n",
        "              test_data=X_test,\n",
        "              test_labels=y_test,\n",
        "              predictions=None):\n",
        "    \n",
        "    plt.figure(figsize=(10, 7))\n",
        "    # Plot training data in blue\n",
        "    plt.scatter(train_data, \n",
        "                train_labels, \n",
        "                c=\"b\", \n",
        "                s=6, \n",
        "                label=\"Training data\")\n",
        "    \n",
        "    # Plot test data in green\n",
        "    plt.scatter(test_data, \n",
        "                test_labels, \n",
        "                c=\"g\", \n",
        "                s=6, \n",
        "                label=\"Testing data\")\n",
        "\n",
        "    if predictions is not None:\n",
        "        # Plot the predictions in red (predictions were made on the test data)\n",
        "        plt.scatter(test_data, \n",
        "                    predictions, \n",
        "                    c=\"r\", \n",
        "                    s=6, \n",
        "                    label=\"Predictions\")\n",
        "\n",
        "    # Show the legend\n",
        "    plt.legend(prop={\"size\": 14});"
      ],
      "metadata": {
        "id": "ni6l57utVuv0"
      },
      "execution_count": null,
      "outputs": []
    },
    {
      "cell_type": "code",
      "source": [
        "plot_data()"
      ],
      "metadata": {
        "colab": {
          "base_uri": "https://localhost:8080/",
          "height": 428
        },
        "id": "5rtb_EPIW_UU",
        "outputId": "43f44d7d-b7c3-4e95-eca6-823a7d8a814b"
      },
      "execution_count": null,
      "outputs": [
        {
          "output_type": "display_data",
          "data": {
            "text/plain": [
              "<Figure size 720x504 with 1 Axes>"
            ],
            "image/png": "[encoded data removed]"
          },
          "metadata": {
            "needs_background": "light"
          }
        }
      ]
    },
    {
      "cell_type": "code",
      "source": [
        "### Linear model using Linearregression\n",
        "class LinearRegressionModel(nn.Module):\n",
        "    def __init__(self) -> None:\n",
        "        super().__init__()\n",
        "        self.weights = nn.Parameter(torch.randn(1,\n",
        "                                                dtype=torch.float32,\n",
        "                                                requires_grad=True)\n",
        "        )\n",
        "        self.bias =nn.Parameter(torch.randn(1,\n",
        "                                                dtype=torch.float32,\n",
        "                                               requires_grad=True)\n",
        "        )\n",
        "    def forward(self,X: torch.Tensor) -> torch.Tensor:\n",
        "        return self.weights * X + self.bias"
      ],
      "metadata": {
        "id": "B3SwERkXXCjq"
      },
      "execution_count": null,
      "outputs": []
    },
    {
      "cell_type": "code",
      "source": [
        "torch.manual_seed(42)\n",
        "model_0 = LinearRegressionModel()\n",
        "list(model_0.parameters())"
      ],
      "metadata": {
        "colab": {
          "base_uri": "https://localhost:8080/"
        },
        "id": "G6Qcss2KtaKX",
        "outputId": "d7a8de11-1315-415d-e736-e7289e8d8f38"
      },
      "execution_count": null,
      "outputs": [
        {
          "output_type": "execute_result",
          "data": {
            "text/plain": [
              "[Parameter containing:\n",
              " tensor([0.3367], requires_grad=True), Parameter containing:\n",
              " tensor([0.1288], requires_grad=True)]"
            ]
          },
          "metadata": {},
          "execution_count": 29
        }
      ]
    },
    {
      "cell_type": "code",
      "source": [
        "model_0.state_dict()"
      ],
      "metadata": {
        "colab": {
          "base_uri": "https://localhost:8080/"
        },
        "id": "Vqb0S_fACbYN",
        "outputId": "35d1c2ff-3280-4346-9ed2-d3bc571f119d"
      },
      "execution_count": null,
      "outputs": [
        {
          "output_type": "execute_result",
          "data": {
            "text/plain": [
              "OrderedDict([('weights', tensor([0.3367])), ('bias', tensor([0.1288]))])"
            ]
          },
          "metadata": {},
          "execution_count": 30
        }
      ]
    },
    {
      "cell_type": "code",
      "source": [
        "## foreard pass\n",
        "with torch.inference_mode():\n",
        "    y_preds = model_0(X_test)\n"
      ],
      "metadata": {
        "id": "1V0naok1Itnr"
      },
      "execution_count": null,
      "outputs": []
    },
    {
      "cell_type": "code",
      "source": [
        "plot_data(predictions=y_preds)"
      ],
      "metadata": {
        "colab": {
          "base_uri": "https://localhost:8080/",
          "height": 428
        },
        "id": "RkOUTAwnNnKz",
        "outputId": "63fb8438-abd8-4890-dec6-b35102315bbf"
      },
      "execution_count": null,
      "outputs": [
        {
          "output_type": "display_data",
          "data": {
            "text/plain": [
              "<Figure size 720x504 with 1 Axes>"
            ],
            "image/png": "[encoded data removed]"
          },
          "metadata": {
            "needs_background": "light"
          }
        }
      ]
    },
    {
      "cell_type": "code",
      "source": [
        "### Creatng loss and optimiser\n",
        "loss_fn = nn.L1Loss()\n",
        "optimiser = torch.optim.SGD(params=model_0.parameters(),\n",
        "                            lr=0.01)"
      ],
      "metadata": {
        "id": "dmRJ7gNeaGsm"
      },
      "execution_count": null,
      "outputs": []
    },
    {
      "cell_type": "code",
      "source": [
        "### Training and Testring loop\n",
        "epochs = 200\n",
        "\n",
        "epoch_count = []\n",
        "train_loss_list = []\n",
        "test_loss_list = []\n",
        "\n",
        "for epoch in range(epochs):\n",
        "\n",
        "    ### Training\n",
        "    model_0.train() ## set the model in train mode so that the model starts learning\n",
        "    y_pred = model_0(X_train) ### make a forward pass with the current paramters\n",
        "    loss = loss_fn(y_pred,y_train) ## calculate the loss\n",
        "    optimiser.zero_grad() ### to reset the gradients for this epoch\n",
        "    loss.backward() ### computes gradients backwardsa wrt to loss\n",
        "    optimiser.step() ### Compute the new paramaters with the gradients\n",
        "\n",
        "    ### Testing\n",
        "    model_0.eval() ## set the model in test mode so that all bacground gradient calculations are paused\n",
        "\n",
        "    with torch.inference_mode():\n",
        "        test_pred = model_0(X_test) ## forward pass with test data\n",
        "        test_loss = loss_fn(test_pred,y_test)\n",
        "        if epoch % 10 == 0:\n",
        "            epoch_count.append(epoch)\n",
        "            train_loss_list.append(loss.detach().numpy())\n",
        "            test_loss_list.append(test_loss.detach().numpy())\n",
        "            print(f\"Epoch: {epoch} | MAE Train Loss: {loss} | MAE Test Loss: {test_loss} \")"
      ],
      "metadata": {
        "colab": {
          "base_uri": "https://localhost:8080/"
        },
        "id": "5fwni2D0OMv9",
        "outputId": "c20a9eda-a291-48ce-b47a-2519c3e1eb95"
      },
      "execution_count": null,
      "outputs": [
        {
          "output_type": "stream",
          "name": "stdout",
          "text": [
            "Epoch: 0 | MAE Train Loss: 0.008932482451200485 | MAE Test Loss: 0.005023092031478882 \n",
            "Epoch: 10 | MAE Train Loss: 0.008932482451200485 | MAE Test Loss: 0.005023092031478882 \n",
            "Epoch: 20 | MAE Train Loss: 0.008932482451200485 | MAE Test Loss: 0.005023092031478882 \n",
            "Epoch: 30 | MAE Train Loss: 0.008932482451200485 | MAE Test Loss: 0.005023092031478882 \n",
            "Epoch: 40 | MAE Train Loss: 0.008932482451200485 | MAE Test Loss: 0.005023092031478882 \n",
            "Epoch: 50 | MAE Train Loss: 0.008932482451200485 | MAE Test Loss: 0.005023092031478882 \n",
            "Epoch: 60 | MAE Train Loss: 0.008932482451200485 | MAE Test Loss: 0.005023092031478882 \n",
            "Epoch: 70 | MAE Train Loss: 0.008932482451200485 | MAE Test Loss: 0.005023092031478882 \n",
            "Epoch: 80 | MAE Train Loss: 0.008932482451200485 | MAE Test Loss: 0.005023092031478882 \n",
            "Epoch: 90 | MAE Train Loss: 0.008932482451200485 | MAE Test Loss: 0.005023092031478882 \n",
            "Epoch: 100 | MAE Train Loss: 0.008932482451200485 | MAE Test Loss: 0.005023092031478882 \n",
            "Epoch: 110 | MAE Train Loss: 0.008932482451200485 | MAE Test Loss: 0.005023092031478882 \n",
            "Epoch: 120 | MAE Train Loss: 0.008932482451200485 | MAE Test Loss: 0.005023092031478882 \n",
            "Epoch: 130 | MAE Train Loss: 0.008932482451200485 | MAE Test Loss: 0.005023092031478882 \n",
            "Epoch: 140 | MAE Train Loss: 0.008932482451200485 | MAE Test Loss: 0.005023092031478882 \n",
            "Epoch: 150 | MAE Train Loss: 0.008932482451200485 | MAE Test Loss: 0.005023092031478882 \n",
            "Epoch: 160 | MAE Train Loss: 0.008932482451200485 | MAE Test Loss: 0.005023092031478882 \n",
            "Epoch: 170 | MAE Train Loss: 0.008932482451200485 | MAE Test Loss: 0.005023092031478882 \n",
            "Epoch: 180 | MAE Train Loss: 0.008932482451200485 | MAE Test Loss: 0.005023092031478882 \n",
            "Epoch: 190 | MAE Train Loss: 0.008932482451200485 | MAE Test Loss: 0.005023092031478882 \n"
          ]
        }
      ]
    },
    {
      "cell_type": "code",
      "source": [
        "### Model is trained lets predcict \n",
        "print(\"new parameters:- \")\n",
        "print(model_0.state_dict())"
      ],
      "metadata": {
        "colab": {
          "base_uri": "https://localhost:8080/"
        },
        "id": "id_lHgo_V1OI",
        "outputId": "d4d5ebb6-ee3e-46ec-e080-1f990c68e4ca"
      },
      "execution_count": null,
      "outputs": [
        {
          "output_type": "stream",
          "name": "stdout",
          "text": [
            "new parameters:- \n",
            "OrderedDict([('weights', tensor([0.6990])), ('bias', tensor([0.3093]))])\n"
          ]
        }
      ]
    },
    {
      "cell_type": "code",
      "source": [
        "# for first 200 epochs\n",
        "with torch.inference_mode():\n",
        "    test_preds = model_0(X_test)\n",
        "plot_data(predictions=test_preds)    "
      ],
      "metadata": {
        "colab": {
          "base_uri": "https://localhost:8080/",
          "height": 428
        },
        "id": "BqvI6We-Wnje",
        "outputId": "e595fc29-adc0-47f5-eea8-7320ced48a6c"
      },
      "execution_count": null,
      "outputs": [
        {
          "output_type": "display_data",
          "data": {
            "text/plain": [
              "<Figure size 720x504 with 1 Axes>"
            ],
            "image/png": "[encoded data removed]"
          },
          "metadata": {
            "needs_background": "light"
          }
        }
      ]
    },
    {
      "cell_type": "code",
      "source": [
        "### Model is trained lets predcict \n",
        "print(\"new parameters:- \")\n",
        "print(model_0.state_dict())"
      ],
      "metadata": {
        "colab": {
          "base_uri": "https://localhost:8080/"
        },
        "id": "UQw7F2_1XL8p",
        "outputId": "3023b691-3830-4cf3-800d-79941716bb03"
      },
      "execution_count": null,
      "outputs": [
        {
          "output_type": "stream",
          "name": "stdout",
          "text": [
            "new parameters:- \n",
            "OrderedDict([('weights', tensor([0.6990])), ('bias', tensor([0.3093]))])\n"
          ]
        }
      ]
    },
    {
      "cell_type": "code",
      "source": [
        "with torch.inference_mode():\n",
        "    test_preds = model_0(X_test)\n",
        "plot_data(predictions=test_preds)"
      ],
      "metadata": {
        "colab": {
          "base_uri": "https://localhost:8080/",
          "height": 428
        },
        "id": "v26XSGFpXnD6",
        "outputId": "3d4bb832-6a0b-450d-f1f4-a17a1a3ddad4"
      },
      "execution_count": null,
      "outputs": [
        {
          "output_type": "display_data",
          "data": {
            "text/plain": [
              "<Figure size 720x504 with 1 Axes>"
            ],
            "image/png": "[encoded data removed]"
          },
          "metadata": {
            "needs_background": "light"
          }
        }
      ]
    },
    {
      "cell_type": "markdown",
      "source": [
        "LinearRegression Model"
      ],
      "metadata": {
        "id": "iLe24-fvqWX9"
      }
    },
    {
      "cell_type": "code",
      "source": [
        "import torch\n",
        "from torch import nn\n",
        "import matplotlib.pyplot as plt\n",
        "import numpy as np"
      ],
      "metadata": {
        "id": "9OKuB5xyrEXv"
      },
      "execution_count": null,
      "outputs": []
    },
    {
      "cell_type": "code",
      "source": [
        "### Device agnostcic code\n",
        "device = \"cuda\" if torch.cuda.is_available() else \"cpu\""
      ],
      "metadata": {
        "id": "f9Ms-rqirOwf"
      },
      "execution_count": null,
      "outputs": []
    },
    {
      "cell_type": "code",
      "source": [
        "torch.cuda.is_available()"
      ],
      "metadata": {
        "colab": {
          "base_uri": "https://localhost:8080/"
        },
        "id": "KWXxl5Xsrktj",
        "outputId": "a68241d4-5eb7-4bb8-809b-5150b5a2a502"
      },
      "execution_count": null,
      "outputs": [
        {
          "output_type": "execute_result",
          "data": {
            "text/plain": [
              "True"
            ]
          },
          "metadata": {},
          "execution_count": 36
        }
      ]
    },
    {
      "cell_type": "code",
      "source": [
        "### Sample data\n",
        "\n",
        "weight = 0.7\n",
        "bias = 0.3\n",
        "\n",
        "X = torch.arange(0,1,0.02).unsqueeze(dim=1)\n",
        "y = weight * X + bias\n",
        "X[:10],y[:10]"
      ],
      "metadata": {
        "colab": {
          "base_uri": "https://localhost:8080/"
        },
        "id": "hVXhbfUMqV7v",
        "outputId": "30e63315-2ec2-4771-f555-3f3aec4e3c6d"
      },
      "execution_count": null,
      "outputs": [
        {
          "output_type": "execute_result",
          "data": {
            "text/plain": [
              "(tensor([[0.0000],\n",
              "         [0.0200],\n",
              "         [0.0400],\n",
              "         [0.0600],\n",
              "         [0.0800],\n",
              "         [0.1000],\n",
              "         [0.1200],\n",
              "         [0.1400],\n",
              "         [0.1600],\n",
              "         [0.1800]]), tensor([[0.3000],\n",
              "         [0.3140],\n",
              "         [0.3280],\n",
              "         [0.3420],\n",
              "         [0.3560],\n",
              "         [0.3700],\n",
              "         [0.3840],\n",
              "         [0.3980],\n",
              "         [0.4120],\n",
              "         [0.4260]]))"
            ]
          },
          "metadata": {},
          "execution_count": 37
        }
      ]
    },
    {
      "cell_type": "code",
      "source": [
        "train_split = int(len(X)*0.80)\n",
        "train_split"
      ],
      "metadata": {
        "colab": {
          "base_uri": "https://localhost:8080/"
        },
        "id": "Qrn7YDDuXpUo",
        "outputId": "5f7303ce-a111-404f-851f-99abfb7ff796"
      },
      "execution_count": null,
      "outputs": [
        {
          "output_type": "execute_result",
          "data": {
            "text/plain": [
              "40"
            ]
          },
          "metadata": {},
          "execution_count": 38
        }
      ]
    },
    {
      "cell_type": "code",
      "source": [
        "# Train test split\n",
        "X_train,y_train = X[:train_split],y[:train_split]\n",
        "X_test,y_test = X[train_split:],y[train_split:]\n",
        "len(X_train),len(y_train),len(X_test),len(y_test)"
      ],
      "metadata": {
        "colab": {
          "base_uri": "https://localhost:8080/"
        },
        "id": "tJAmZ0iPcZ4_",
        "outputId": "69c29164-fc23-483c-f657-b363e13e5c05"
      },
      "execution_count": null,
      "outputs": [
        {
          "output_type": "execute_result",
          "data": {
            "text/plain": [
              "(40, 40, 10, 10)"
            ]
          },
          "metadata": {},
          "execution_count": 39
        }
      ]
    },
    {
      "cell_type": "code",
      "source": [
        "X_train = X_train.to(device)\n",
        "y_train = y_train.to(device)\n",
        "X_test = X_test.to(device)\n",
        "y_test = y_test.to(device)"
      ],
      "metadata": {
        "id": "mCMiPE4gdvE0"
      },
      "execution_count": null,
      "outputs": []
    },
    {
      "cell_type": "code",
      "source": [
        "plot_data(X_train.cpu().numpy(),y_train.cpu().numpy(),X_test.cpu().numpy(),y_test.cpu().numpy())"
      ],
      "metadata": {
        "colab": {
          "base_uri": "https://localhost:8080/",
          "height": 428
        },
        "id": "6itJFq_beLKn",
        "outputId": "261c2627-dbf6-4530-d979-1b014b1933db"
      },
      "execution_count": null,
      "outputs": [
        {
          "output_type": "display_data",
          "data": {
            "text/plain": [
              "<Figure size 720x504 with 1 Axes>"
            ],
            "image/png": "[encoded data removed]"
          },
          "metadata": {
            "needs_background": "light"
          }
        }
      ]
    },
    {
      "cell_type": "code",
      "source": [
        "class LinearRegressionModelV2(nn.Module):\n",
        "    def __init__(self) -> None:\n",
        "        super().__init__()\n",
        "        self.linear_layer = nn.Linear(in_features=1,\n",
        "                                      out_features=1)\n",
        "    def forward(self, x : torch.Tensor) -> torch.Tensor:\n",
        "        return self.linear_layer(x)\n",
        "\n",
        "torch.manual_seed(42)\n",
        "model_1 = LinearRegressionModelV2()\n",
        "model_1.state_dict()"
      ],
      "metadata": {
        "colab": {
          "base_uri": "https://localhost:8080/"
        },
        "id": "QwfMMeaZfvfi",
        "outputId": "68a1d707-3323-4fc7-e445-34abcbbb3726"
      },
      "execution_count": null,
      "outputs": [
        {
          "output_type": "execute_result",
          "data": {
            "text/plain": [
              "OrderedDict([('linear_layer.weight', tensor([[0.7645]])),\n",
              "             ('linear_layer.bias', tensor([0.8300]))])"
            ]
          },
          "metadata": {},
          "execution_count": 42
        }
      ]
    },
    {
      "cell_type": "code",
      "source": [
        "next(model_1.parameters()).device"
      ],
      "metadata": {
        "colab": {
          "base_uri": "https://localhost:8080/"
        },
        "id": "bmgF4y2wmM1e",
        "outputId": "66a2828a-91a0-418f-afe2-91a5a0220f9a"
      },
      "execution_count": null,
      "outputs": [
        {
          "output_type": "execute_result",
          "data": {
            "text/plain": [
              "device(type='cpu')"
            ]
          },
          "metadata": {},
          "execution_count": 43
        }
      ]
    },
    {
      "cell_type": "code",
      "source": [
        "model_1.to(device) # the device variable was set above to be \"cuda\" if available or \"cpu\" if not\n",
        "next(model_1.parameters()).device"
      ],
      "metadata": {
        "colab": {
          "base_uri": "https://localhost:8080/"
        },
        "id": "9eVZ5J8LmTw_",
        "outputId": "7bce2223-a6c2-48ee-a33c-317a27f9eba6"
      },
      "execution_count": null,
      "outputs": [
        {
          "output_type": "execute_result",
          "data": {
            "text/plain": [
              "device(type='cuda', index=0)"
            ]
          },
          "metadata": {},
          "execution_count": 44
        }
      ]
    },
    {
      "cell_type": "code",
      "source": [
        "### define loss function and optimiser\n",
        "loss_fn = nn.L1Loss()\n",
        "optimiser = torch.optim.SGD(params=model_1.parameters(),\n",
        "                            lr=0.01)"
      ],
      "metadata": {
        "id": "BOLL2WzagRPi"
      },
      "execution_count": null,
      "outputs": []
    },
    {
      "cell_type": "code",
      "source": [
        "### Training\n",
        "epochs = 200 \n",
        "\n",
        "for epoch in range(epochs):\n",
        "    model_1.train() ## set the model to training mode\n",
        "    y_pred = model_1(X_train)\n",
        "    loss = loss_fn(y_pred,y_train)\n",
        "    optimiser.zero_grad()\n",
        "    loss.backward()\n",
        "    optimiser.step()\n",
        "\n",
        "    model_1.eval()\n",
        "    with torch.inference_mode():\n",
        "        preds = model_1(X_test)\n",
        "        test_loss = loss_fn(preds,y_test)\n",
        "\n",
        "        if epoch % 10 == 0:\n",
        "            print(f\"Epoch: {epoch} | Train loss: {loss} | Test loss: {test_loss}\")\n",
        "model_1.state_dict()"
      ],
      "metadata": {
        "colab": {
          "base_uri": "https://localhost:8080/"
        },
        "id": "hETgpZG6mrzF",
        "outputId": "f0595267-8a4f-484b-b469-e728e8b5cc6e"
      },
      "execution_count": null,
      "outputs": [
        {
          "output_type": "stream",
          "name": "stdout",
          "text": [
            "Epoch: 0 | Train loss: 0.5551779866218567 | Test loss: 0.5739762187004089\n",
            "Epoch: 10 | Train loss: 0.439968079328537 | Test loss: 0.4392664134502411\n",
            "Epoch: 20 | Train loss: 0.3247582018375397 | Test loss: 0.30455657839775085\n",
            "Epoch: 30 | Train loss: 0.20954833924770355 | Test loss: 0.16984669864177704\n",
            "Epoch: 40 | Train loss: 0.09433845430612564 | Test loss: 0.03513690456748009\n",
            "Epoch: 50 | Train loss: 0.023886388167738914 | Test loss: 0.04784907028079033\n",
            "Epoch: 60 | Train loss: 0.019956795498728752 | Test loss: 0.045803118497133255\n",
            "Epoch: 70 | Train loss: 0.016517987474799156 | Test loss: 0.037530567497015\n",
            "Epoch: 80 | Train loss: 0.013089174404740334 | Test loss: 0.02994490973651409\n",
            "Epoch: 90 | Train loss: 0.009653178043663502 | Test loss: 0.02167237363755703\n",
            "Epoch: 100 | Train loss: 0.006215683650225401 | Test loss: 0.014086711220443249\n",
            "Epoch: 110 | Train loss: 0.00278724217787385 | Test loss: 0.005814164876937866\n",
            "Epoch: 120 | Train loss: 0.0012645035749301314 | Test loss: 0.013801801018416882\n",
            "Epoch: 130 | Train loss: 0.0012645035749301314 | Test loss: 0.013801801018416882\n",
            "Epoch: 140 | Train loss: 0.0012645035749301314 | Test loss: 0.013801801018416882\n",
            "Epoch: 150 | Train loss: 0.0012645035749301314 | Test loss: 0.013801801018416882\n",
            "Epoch: 160 | Train loss: 0.0012645035749301314 | Test loss: 0.013801801018416882\n",
            "Epoch: 170 | Train loss: 0.0012645035749301314 | Test loss: 0.013801801018416882\n",
            "Epoch: 180 | Train loss: 0.0012645035749301314 | Test loss: 0.013801801018416882\n",
            "Epoch: 190 | Train loss: 0.0012645035749301314 | Test loss: 0.013801801018416882\n"
          ]
        },
        {
          "output_type": "execute_result",
          "data": {
            "text/plain": [
              "OrderedDict([('linear_layer.weight', tensor([[0.6968]], device='cuda:0')),\n",
              "             ('linear_layer.bias', tensor([0.3025], device='cuda:0'))])"
            ]
          },
          "metadata": {},
          "execution_count": 47
        }
      ]
    },
    {
      "cell_type": "code",
      "source": [
        "with torch.inference_mode():\n",
        "    test_preds = model_1(X_test)\n",
        "test_preds"
      ],
      "metadata": {
        "colab": {
          "base_uri": "https://localhost:8080/"
        },
        "id": "tnjuGkQOypYB",
        "outputId": "53e068de-0004-449c-e905-b0dbe590efab"
      },
      "execution_count": null,
      "outputs": [
        {
          "output_type": "execute_result",
          "data": {
            "text/plain": [
              "tensor([[0.8600],\n",
              "        [0.8739],\n",
              "        [0.8878],\n",
              "        [0.9018],\n",
              "        [0.9157],\n",
              "        [0.9296],\n",
              "        [0.9436],\n",
              "        [0.9575],\n",
              "        [0.9714],\n",
              "        [0.9854]], device='cuda:0')"
            ]
          },
          "metadata": {},
          "execution_count": 49
        }
      ]
    },
    {
      "cell_type": "code",
      "source": [
        "abs(test_preds  - y_test).mean()"
      ],
      "metadata": {
        "colab": {
          "base_uri": "https://localhost:8080/"
        },
        "id": "NY7rOO6e8Xb7",
        "outputId": "36b1dd0c-d3e1-4ee3-83e4-ce916f32edf1"
      },
      "execution_count": null,
      "outputs": [
        {
          "output_type": "execute_result",
          "data": {
            "text/plain": [
              "tensor(0.0003, device='cuda:0')"
            ]
          },
          "metadata": {},
          "execution_count": 55
        }
      ]
    },
    {
      "cell_type": "code",
      "source": [
        "plot_data(X_train.cpu().numpy(),y_train.cpu().numpy(),X_test.cpu().numpy(),y_test.cpu().numpy(),predictions=test_preds.cpu().numpy())"
      ],
      "metadata": {
        "colab": {
          "base_uri": "https://localhost:8080/",
          "height": 428
        },
        "id": "8QTAHMOr8F7o",
        "outputId": "eaaf0235-9988-48a4-9b9e-dfbf87344629"
      },
      "execution_count": null,
      "outputs": [
        {
          "output_type": "display_data",
          "data": {
            "text/plain": [
              "<Figure size 720x504 with 1 Axes>"
            ],
            "image/png": "[encoded data removed]"
          },
          "metadata": {
            "needs_background": "light"
          }
        }
      ]
    },
    {
      "cell_type": "markdown",
      "source": [
        "## classifiaction"
      ],
      "metadata": {
        "id": "vcJ5d1RPKoU5"
      }
    },
    {
      "cell_type": "code",
      "source": [
        "from sklearn.datasets import make_circles\n",
        "n_samples = 2000\n",
        "\n",
        "X,y = make_circles(n_samples=n_samples,\n",
        "                   noise=0.03,\n",
        "                   random_state=42)\n",
        "len(X),len(y)"
      ],
      "metadata": {
        "colab": {
          "base_uri": "https://localhost:8080/"
        },
        "id": "s7fWPs9FKnxf",
        "outputId": "3bc392c7-0273-4379-ee88-08310a6b6c8f"
      },
      "execution_count": null,
      "outputs": [
        {
          "output_type": "execute_result",
          "data": {
            "text/plain": [
              "(2000, 2000)"
            ]
          },
          "metadata": {},
          "execution_count": 224
        }
      ]
    },
    {
      "cell_type": "code",
      "source": [
        "X[0:3,0]"
      ],
      "metadata": {
        "colab": {
          "base_uri": "https://localhost:8080/"
        },
        "id": "XZSaaMzI3Lfh",
        "outputId": "dc9049aa-cde7-45b0-b91d-f418882e7874"
      },
      "execution_count": null,
      "outputs": [
        {
          "output_type": "execute_result",
          "data": {
            "text/plain": [
              "array([ 0.47109875, -0.61696058, -0.3999557 ])"
            ]
          },
          "metadata": {},
          "execution_count": 225
        }
      ]
    },
    {
      "cell_type": "code",
      "source": [
        "X[:5,],y[:5]"
      ],
      "metadata": {
        "colab": {
          "base_uri": "https://localhost:8080/"
        },
        "id": "px4Aeg-CLe7P",
        "outputId": "f19eb00e-527f-4b91-ced0-732cca138d7d"
      },
      "execution_count": null,
      "outputs": [
        {
          "output_type": "execute_result",
          "data": {
            "text/plain": [
              "(array([[ 0.47109875, -0.58158579],\n",
              "        [-0.61696058,  0.80818956],\n",
              "        [-0.3999557 ,  0.70796779],\n",
              "        [ 0.82938523, -0.60057314],\n",
              "        [-0.16419138,  0.76128858]]), array([1, 0, 1, 0, 1]))"
            ]
          },
          "metadata": {},
          "execution_count": 226
        }
      ]
    },
    {
      "cell_type": "code",
      "source": [
        "import pandas as pd\n",
        "circles_data = pd.DataFrame({\"X1\":X[:,0],\n",
        "                             \"X2\":X[:,1],\n",
        "                             \"label\":y})\n",
        "circles_data"
      ],
      "metadata": {
        "colab": {
          "base_uri": "https://localhost:8080/",
          "height": 424
        },
        "id": "6pQZspO9MptY",
        "outputId": "b6bcc085-515b-43fd-e244-155093d56e11"
      },
      "execution_count": null,
      "outputs": [
        {
          "output_type": "execute_result",
          "data": {
            "text/plain": [
              "            X1        X2  label\n",
              "0     0.471099 -0.581586      1\n",
              "1    -0.616961  0.808190      0\n",
              "2    -0.399956  0.707968      1\n",
              "3     0.829385 -0.600573      0\n",
              "4    -0.164191  0.761289      1\n",
              "...        ...       ...    ...\n",
              "1995  0.568918  0.583759      1\n",
              "1996 -0.222517  0.756905      1\n",
              "1997  0.628268 -0.739106      0\n",
              "1998 -0.783659  0.163585      1\n",
              "1999  0.584430  0.563082      1\n",
              "\n",
              "[2000 rows x 3 columns]"
            ],
            "text/html": [
              "\n",
              "  <div id=\"df-bd406d30-c44a-440b-82a5-b90d5080bee8\">\n",
              "    <div class=\"colab-df-container\">\n",
              "      <div>\n",
              "<style scoped>\n",
              "    .dataframe tbody tr th:only-of-type {\n",
              "        vertical-align: middle;\n",
              "    }\n",
              "\n",
              "    .dataframe tbody tr th {\n",
              "        vertical-align: top;\n",
              "    }\n",
              "\n",
              "    .dataframe thead th {\n",
              "        text-align: right;\n",
              "    }\n",
              "</style>\n",
              "<table border=\"1\" class=\"dataframe\">\n",
              "  <thead>\n",
              "    <tr style=\"text-align: right;\">\n",
              "      <th></th>\n",
              "      <th>X1</th>\n",
              "      <th>X2</th>\n",
              "      <th>label</th>\n",
              "    </tr>\n",
              "  </thead>\n",
              "  <tbody>\n",
              "    <tr>\n",
              "      <th>0</th>\n",
              "      <td>0.471099</td>\n",
              "      <td>-0.581586</td>\n",
              "      <td>1</td>\n",
              "    </tr>\n",
              "    <tr>\n",
              "      <th>1</th>\n",
              "      <td>-0.616961</td>\n",
              "      <td>0.808190</td>\n",
              "      <td>0</td>\n",
              "    </tr>\n",
              "    <tr>\n",
              "      <th>2</th>\n",
              "      <td>-0.399956</td>\n",
              "      <td>0.707968</td>\n",
              "      <td>1</td>\n",
              "    </tr>\n",
              "    <tr>\n",
              "      <th>3</th>\n",
              "      <td>0.829385</td>\n",
              "      <td>-0.600573</td>\n",
              "      <td>0</td>\n",
              "    </tr>\n",
              "    <tr>\n",
              "      <th>4</th>\n",
              "      <td>-0.164191</td>\n",
              "      <td>0.761289</td>\n",
              "      <td>1</td>\n",
              "    </tr>\n",
              "    <tr>\n",
              "      <th>...</th>\n",
              "      <td>...</td>\n",
              "      <td>...</td>\n",
              "      <td>...</td>\n",
              "    </tr>\n",
              "    <tr>\n",
              "      <th>1995</th>\n",
              "      <td>0.568918</td>\n",
              "      <td>0.583759</td>\n",
              "      <td>1</td>\n",
              "    </tr>\n",
              "    <tr>\n",
              "      <th>1996</th>\n",
              "      <td>-0.222517</td>\n",
              "      <td>0.756905</td>\n",
              "      <td>1</td>\n",
              "    </tr>\n",
              "    <tr>\n",
              "      <th>1997</th>\n",
              "      <td>0.628268</td>\n",
              "      <td>-0.739106</td>\n",
              "      <td>0</td>\n",
              "    </tr>\n",
              "    <tr>\n",
              "      <th>1998</th>\n",
              "      <td>-0.783659</td>\n",
              "      <td>0.163585</td>\n",
              "      <td>1</td>\n",
              "    </tr>\n",
              "    <tr>\n",
              "      <th>1999</th>\n",
              "      <td>0.584430</td>\n",
              "      <td>0.563082</td>\n",
              "      <td>1</td>\n",
              "    </tr>\n",
              "  </tbody>\n",
              "</table>\n",
              "<p>2000 rows × 3 columns</p>\n",
              "</div>\n",
              "      <button class=\"colab-df-convert\" onclick=\"convertToInteractive('df-bd406d30-c44a-440b-82a5-b90d5080bee8')\"\n",
              "              title=\"Convert this dataframe to an interactive table.\"\n",
              "              style=\"display:none;\">\n",
              "        \n",
              "  <svg xmlns=\"http://www.w3.org/2000/svg\" height=\"24px\"viewBox=\"0 0 24 24\"\n",
              "       width=\"24px\">\n",
              "    <path d=\"M0 0h24v24H0V0z\" fill=\"none\"/>\n",
              "    <path d=\"M18.56 5.44l.94 2.06.94-2.06 2.06-.94-2.06-.94-.94-2.06-.94 2.06-2.06.94zm-11 1L8.5 8.5l.94-2.06 2.06-.94-2.06-.94L8.5 2.5l-.94 2.06-2.06.94zm10 10l.94 2.06.94-2.06 2.06-.94-2.06-.94-.94-2.06-.94 2.06-2.06.94z\"/><path d=\"M17.41 7.96l-1.37-1.37c-.4-.4-.92-.59-1.43-.59-.52 0-1.04.2-1.43.59L10.3 9.45l-7.72 7.72c-.78.78-.78 2.05 0 2.83L4 21.41c.39.39.9.59 1.41.59.51 0 1.02-.2 1.41-.59l7.78-7.78 2.81-2.81c.8-.78.8-2.07 0-2.86zM5.41 20L4 18.59l7.72-7.72 1.47 1.35L5.41 20z\"/>\n",
              "  </svg>\n",
              "      </button>\n",
              "      \n",
              "  <style>\n",
              "    .colab-df-container {\n",
              "      display:flex;\n",
              "      flex-wrap:wrap;\n",
              "      gap: 12px;\n",
              "    }\n",
              "\n",
              "    .colab-df-convert {\n",
              "      background-color: #E8F0FE;\n",
              "      border: none;\n",
              "      border-radius: 50%;\n",
              "      cursor: pointer;\n",
              "      display: none;\n",
              "      fill: #1967D2;\n",
              "      height: 32px;\n",
              "      padding: 0 0 0 0;\n",
              "      width: 32px;\n",
              "    }\n",
              "\n",
              "    .colab-df-convert:hover {\n",
              "      background-color: #E2EBFA;\n",
              "      box-shadow: 0px 1px 2px rgba(60, 64, 67, 0.3), 0px 1px 3px 1px rgba(60, 64, 67, 0.15);\n",
              "      fill: #174EA6;\n",
              "    }\n",
              "\n",
              "    [theme=dark] .colab-df-convert {\n",
              "      background-color: #3B4455;\n",
              "      fill: #D2E3FC;\n",
              "    }\n",
              "\n",
              "    [theme=dark] .colab-df-convert:hover {\n",
              "      background-color: #434B5C;\n",
              "      box-shadow: 0px 1px 3px 1px rgba(0, 0, 0, 0.15);\n",
              "      filter: drop-shadow(0px 1px 2px rgba(0, 0, 0, 0.3));\n",
              "      fill: #FFFFFF;\n",
              "    }\n",
              "  </style>\n",
              "\n",
              "      <script>\n",
              "        const buttonEl =\n",
              "          document.querySelector('#df-bd406d30-c44a-440b-82a5-b90d5080bee8 button.colab-df-convert');\n",
              "        buttonEl.style.display =\n",
              "          google.colab.kernel.accessAllowed ? 'block' : 'none';\n",
              "\n",
              "        async function convertToInteractive(key) {\n",
              "          const element = document.querySelector('#df-bd406d30-c44a-440b-82a5-b90d5080bee8');\n",
              "          const dataTable =\n",
              "            await google.colab.kernel.invokeFunction('convertToInteractive',\n",
              "                                                     [key], {});\n",
              "          if (!dataTable) return;\n",
              "\n",
              "          const docLinkHtml = 'Like what you see? Visit the ' +\n",
              "            '<a target=\"_blank\" href=https://colab.research.google.com/notebooks/data_table.ipynb>data table notebook</a>'\n",
              "            + ' to learn more about interactive tables.';\n",
              "          element.innerHTML = '';\n",
              "          dataTable['output_type'] = 'display_data';\n",
              "          await google.colab.output.renderOutput(dataTable, element);\n",
              "          const docLink = document.createElement('div');\n",
              "          docLink.innerHTML = docLinkHtml;\n",
              "          element.appendChild(docLink);\n",
              "        }\n",
              "      </script>\n",
              "    </div>\n",
              "  </div>\n",
              "  "
            ]
          },
          "metadata": {},
          "execution_count": 227
        }
      ]
    },
    {
      "cell_type": "code",
      "source": [
        "import matplotlib.pyplot as plt\n",
        "\n",
        "plt.scatter(x=X[:,0],\n",
        "            y=X[:,1],\n",
        "            c=y,\n",
        "            cmap=plt.cm.RdYlBu)"
      ],
      "metadata": {
        "colab": {
          "base_uri": "https://localhost:8080/",
          "height": 282
        },
        "id": "OjthhcTJLkh0",
        "outputId": "6aeb04bc-2a36-4ee6-ce0e-0a1af4933781"
      },
      "execution_count": null,
      "outputs": [
        {
          "output_type": "execute_result",
          "data": {
            "text/plain": [
              "<matplotlib.collections.PathCollection at 0x7f43101c70d0>"
            ]
          },
          "metadata": {},
          "execution_count": 228
        },
        {
          "output_type": "display_data",
          "data": {
            "text/plain": [
              "<Figure size 432x288 with 1 Axes>"
            ],
            "image/png": "[encoded data removed]"
          },
          "metadata": {
            "needs_background": "light"
          }
        }
      ]
    },
    {
      "cell_type": "code",
      "source": [
        "import torch\n",
        "from torch import nn"
      ],
      "metadata": {
        "id": "c7IqeTVPNlPI"
      },
      "execution_count": null,
      "outputs": []
    },
    {
      "cell_type": "code",
      "source": [
        "X.shape,y.shape"
      ],
      "metadata": {
        "colab": {
          "base_uri": "https://localhost:8080/"
        },
        "id": "-E3tX7JLQQV1",
        "outputId": "f82657e0-9da8-40da-cd13-e22c15cc2335"
      },
      "execution_count": null,
      "outputs": [
        {
          "output_type": "execute_result",
          "data": {
            "text/plain": [
              "((2000, 2), (2000,))"
            ]
          },
          "metadata": {},
          "execution_count": 230
        }
      ]
    },
    {
      "cell_type": "code",
      "source": [
        "## Tensors\n",
        "X = torch.from_numpy(X).type(torch.float)\n",
        "y = torch.from_numpy(y).type(torch.float)\n",
        "X[:5],y[:5]"
      ],
      "metadata": {
        "colab": {
          "base_uri": "https://localhost:8080/"
        },
        "id": "PRitNbo2NnKv",
        "outputId": "023911d4-b140-4f89-ed97-88ea7a500214"
      },
      "execution_count": null,
      "outputs": [
        {
          "output_type": "execute_result",
          "data": {
            "text/plain": [
              "(tensor([[ 0.4711, -0.5816],\n",
              "         [-0.6170,  0.8082],\n",
              "         [-0.4000,  0.7080],\n",
              "         [ 0.8294, -0.6006],\n",
              "         [-0.1642,  0.7613]]), tensor([1., 0., 1., 0., 1.]))"
            ]
          },
          "metadata": {},
          "execution_count": 231
        }
      ]
    },
    {
      "cell_type": "code",
      "source": [
        "device = \"cuda\" if torch.cuda.is_available() else \"cpu\"\n",
        "device"
      ],
      "metadata": {
        "colab": {
          "base_uri": "https://localhost:8080/",
          "height": 36
        },
        "id": "gcnspJ3KNqlI",
        "outputId": "68defea3-0681-47f7-86c5-b6f2dda90d4e"
      },
      "execution_count": null,
      "outputs": [
        {
          "output_type": "execute_result",
          "data": {
            "text/plain": [
              "'cuda'"
            ],
            "application/vnd.google.colaboratory.intrinsic+json": {
              "type": "string"
            }
          },
          "metadata": {},
          "execution_count": 232
        }
      ]
    },
    {
      "cell_type": "code",
      "source": [
        "## train test split\n",
        "from sklearn.model_selection import train_test_split\n",
        "X_train,X_test,y_train,y_test = train_test_split(X,y,\n",
        "                                                 test_size=0.2,\n",
        "                                                 random_state=42)\n",
        "len(X_train),len(y_train),len(X_test),len(y_test)"
      ],
      "metadata": {
        "colab": {
          "base_uri": "https://localhost:8080/"
        },
        "id": "W-I2xulyR7Mk",
        "outputId": "86dbef61-05e2-4da4-fec1-159b9baec317"
      },
      "execution_count": null,
      "outputs": [
        {
          "output_type": "execute_result",
          "data": {
            "text/plain": [
              "(1600, 1600, 400, 400)"
            ]
          },
          "metadata": {},
          "execution_count": 233
        }
      ]
    },
    {
      "cell_type": "code",
      "source": [
        "# Create a classifiactrion model\n",
        "\n",
        "class BinaryClassModelV2(nn.Module):\n",
        "    def __init__(self):\n",
        "        super().__init__()\n",
        "        self.sequential_layer = nn.Sequential(\n",
        "            nn.Linear(in_features=2,out_features=10),\n",
        "            nn.ReLU(),\n",
        "            nn.Linear(in_features=10,out_features=10),\n",
        "            nn.ReLU(),\n",
        "            nn.Linear(in_features=10,out_features=1),\n",
        "            # nn.ReLU(),\n",
        "            # nn.Linear(in_features=8,out_features=1)\n",
        "        )\n",
        "\n",
        "    def forward(self, x: torch.Tensor) -> torch.Tensor:\n",
        "        return self.sequential_layer(x)\n",
        "\n",
        "torch.manual_seed(42)\n",
        "model2 = BinaryClassModelV2().to(device)\n",
        "model2"
      ],
      "metadata": {
        "colab": {
          "base_uri": "https://localhost:8080/"
        },
        "id": "WNk22YCpSPI3",
        "outputId": "85e3d720-c989-4c76-eb3e-0663103a35cd"
      },
      "execution_count": null,
      "outputs": [
        {
          "output_type": "execute_result",
          "data": {
            "text/plain": [
              "BinaryClassModelV2(\n",
              "  (sequential_layer): Sequential(\n",
              "    (0): Linear(in_features=2, out_features=10, bias=True)\n",
              "    (1): ReLU()\n",
              "    (2): Linear(in_features=10, out_features=10, bias=True)\n",
              "    (3): ReLU()\n",
              "    (4): Linear(in_features=10, out_features=1, bias=True)\n",
              "  )\n",
              ")"
            ]
          },
          "metadata": {},
          "execution_count": 234
        }
      ]
    },
    {
      "cell_type": "code",
      "source": [
        "list(model2.parameters())"
      ],
      "metadata": {
        "colab": {
          "base_uri": "https://localhost:8080/"
        },
        "id": "BNizFs-DpeY2",
        "outputId": "f264d26b-4e11-45ce-c901-a7d0a8e96e0d"
      },
      "execution_count": null,
      "outputs": [
        {
          "output_type": "execute_result",
          "data": {
            "text/plain": [
              "[Parameter containing:\n",
              " tensor([[ 0.5406,  0.5869],\n",
              "         [-0.1657,  0.6496],\n",
              "         [-0.1549,  0.1427],\n",
              "         [-0.3443,  0.4153],\n",
              "         [ 0.6233, -0.5188],\n",
              "         [ 0.6146,  0.1323],\n",
              "         [ 0.5224,  0.0958],\n",
              "         [ 0.3410, -0.0998],\n",
              "         [ 0.5451,  0.1045],\n",
              "         [-0.3301,  0.1802]], device='cuda:0', requires_grad=True),\n",
              " Parameter containing:\n",
              " tensor([-0.3258, -0.0829, -0.2872,  0.4691, -0.5582, -0.3260, -0.1997, -0.4252,\n",
              "          0.0667, -0.6984], device='cuda:0', requires_grad=True),\n",
              " Parameter containing:\n",
              " tensor([[ 0.2856, -0.2686,  0.2441,  0.0526, -0.1027,  0.1954,  0.0493,  0.2555,\n",
              "           0.0346, -0.0997],\n",
              "         [ 0.0850, -0.0858,  0.1331,  0.2823,  0.1828, -0.1382,  0.1825,  0.0566,\n",
              "           0.1606, -0.1927],\n",
              "         [-0.3130, -0.1222, -0.2426,  0.2595,  0.0911,  0.1310,  0.1000, -0.0055,\n",
              "           0.2475, -0.2247],\n",
              "         [ 0.0199, -0.2158,  0.0975, -0.1089,  0.0969, -0.0659,  0.2623, -0.1874,\n",
              "          -0.1886, -0.1886],\n",
              "         [ 0.2844,  0.1054,  0.3043, -0.2610, -0.3137, -0.2474, -0.2127,  0.1281,\n",
              "           0.1132,  0.2628],\n",
              "         [-0.1633, -0.2156,  0.1678, -0.1278,  0.1919, -0.0750,  0.1809, -0.2457,\n",
              "          -0.1596,  0.0964],\n",
              "         [ 0.0669, -0.0806,  0.1885,  0.2150, -0.2293, -0.1688,  0.2896, -0.1067,\n",
              "          -0.1121, -0.3060],\n",
              "         [-0.1811,  0.0790, -0.0417, -0.2295,  0.0074, -0.2160, -0.2683, -0.1741,\n",
              "          -0.2768, -0.2014],\n",
              "         [ 0.3161,  0.0597,  0.0974, -0.2949, -0.2077, -0.1053,  0.0494, -0.2783,\n",
              "          -0.1363, -0.1893],\n",
              "         [ 0.0009, -0.1177, -0.0219, -0.2143, -0.2171, -0.1845, -0.1082, -0.2496,\n",
              "           0.2651, -0.0628]], device='cuda:0', requires_grad=True),\n",
              " Parameter containing:\n",
              " tensor([ 0.2721,  0.0985, -0.2678,  0.2188, -0.0870, -0.1212, -0.2625, -0.3144,\n",
              "          0.0905, -0.0691], device='cuda:0', requires_grad=True),\n",
              " Parameter containing:\n",
              " tensor([[ 0.1231, -0.2595,  0.2348, -0.2321, -0.0546,  0.0661,  0.1633,  0.2553,\n",
              "           0.2881, -0.2507]], device='cuda:0', requires_grad=True),\n",
              " Parameter containing:\n",
              " tensor([0.0796], device='cuda:0', requires_grad=True)]"
            ]
          },
          "metadata": {},
          "execution_count": 235
        }
      ]
    },
    {
      "cell_type": "code",
      "source": [
        "model2.state_dict()"
      ],
      "metadata": {
        "colab": {
          "base_uri": "https://localhost:8080/"
        },
        "id": "RC5bOTipZf2k",
        "outputId": "9c220ec0-56eb-4033-a54f-96f523a1a2c5"
      },
      "execution_count": null,
      "outputs": [
        {
          "output_type": "execute_result",
          "data": {
            "text/plain": [
              "OrderedDict([('sequential_layer.0.weight', tensor([[ 0.5406,  0.5869],\n",
              "                      [-0.1657,  0.6496],\n",
              "                      [-0.1549,  0.1427],\n",
              "                      [-0.3443,  0.4153],\n",
              "                      [ 0.6233, -0.5188],\n",
              "                      [ 0.6146,  0.1323],\n",
              "                      [ 0.5224,  0.0958],\n",
              "                      [ 0.3410, -0.0998],\n",
              "                      [ 0.5451,  0.1045],\n",
              "                      [-0.3301,  0.1802]], device='cuda:0')),\n",
              "             ('sequential_layer.0.bias',\n",
              "              tensor([-0.3258, -0.0829, -0.2872,  0.4691, -0.5582, -0.3260, -0.1997, -0.4252,\n",
              "                       0.0667, -0.6984], device='cuda:0')),\n",
              "             ('sequential_layer.2.weight',\n",
              "              tensor([[ 0.2856, -0.2686,  0.2441,  0.0526, -0.1027,  0.1954,  0.0493,  0.2555,\n",
              "                        0.0346, -0.0997],\n",
              "                      [ 0.0850, -0.0858,  0.1331,  0.2823,  0.1828, -0.1382,  0.1825,  0.0566,\n",
              "                        0.1606, -0.1927],\n",
              "                      [-0.3130, -0.1222, -0.2426,  0.2595,  0.0911,  0.1310,  0.1000, -0.0055,\n",
              "                        0.2475, -0.2247],\n",
              "                      [ 0.0199, -0.2158,  0.0975, -0.1089,  0.0969, -0.0659,  0.2623, -0.1874,\n",
              "                       -0.1886, -0.1886],\n",
              "                      [ 0.2844,  0.1054,  0.3043, -0.2610, -0.3137, -0.2474, -0.2127,  0.1281,\n",
              "                        0.1132,  0.2628],\n",
              "                      [-0.1633, -0.2156,  0.1678, -0.1278,  0.1919, -0.0750,  0.1809, -0.2457,\n",
              "                       -0.1596,  0.0964],\n",
              "                      [ 0.0669, -0.0806,  0.1885,  0.2150, -0.2293, -0.1688,  0.2896, -0.1067,\n",
              "                       -0.1121, -0.3060],\n",
              "                      [-0.1811,  0.0790, -0.0417, -0.2295,  0.0074, -0.2160, -0.2683, -0.1741,\n",
              "                       -0.2768, -0.2014],\n",
              "                      [ 0.3161,  0.0597,  0.0974, -0.2949, -0.2077, -0.1053,  0.0494, -0.2783,\n",
              "                       -0.1363, -0.1893],\n",
              "                      [ 0.0009, -0.1177, -0.0219, -0.2143, -0.2171, -0.1845, -0.1082, -0.2496,\n",
              "                        0.2651, -0.0628]], device='cuda:0')),\n",
              "             ('sequential_layer.2.bias',\n",
              "              tensor([ 0.2721,  0.0985, -0.2678,  0.2188, -0.0870, -0.1212, -0.2625, -0.3144,\n",
              "                       0.0905, -0.0691], device='cuda:0')),\n",
              "             ('sequential_layer.4.weight',\n",
              "              tensor([[ 0.1231, -0.2595,  0.2348, -0.2321, -0.0546,  0.0661,  0.1633,  0.2553,\n",
              "                        0.2881, -0.2507]], device='cuda:0')),\n",
              "             ('sequential_layer.4.bias', tensor([0.0796], device='cuda:0'))])"
            ]
          },
          "metadata": {},
          "execution_count": 236
        }
      ]
    },
    {
      "cell_type": "code",
      "source": [
        "with torch.inference_mode():\n",
        "    preds = model2(X_test.to(device))\n",
        "preds[:10]"
      ],
      "metadata": {
        "colab": {
          "base_uri": "https://localhost:8080/"
        },
        "id": "tldg_5aOliAg",
        "outputId": "97ea33bc-da1e-41c7-d1e9-c08ef457d224"
      },
      "execution_count": null,
      "outputs": [
        {
          "output_type": "execute_result",
          "data": {
            "text/plain": [
              "tensor([[0.0085],\n",
              "        [0.0169],\n",
              "        [0.0104],\n",
              "        [0.0506],\n",
              "        [0.0279],\n",
              "        [0.0478],\n",
              "        [0.0153],\n",
              "        [0.0226],\n",
              "        [0.0404],\n",
              "        [0.0209]], device='cuda:0')"
            ]
          },
          "metadata": {},
          "execution_count": 237
        }
      ]
    },
    {
      "cell_type": "code",
      "source": [
        "y_test[:10]"
      ],
      "metadata": {
        "colab": {
          "base_uri": "https://localhost:8080/"
        },
        "id": "iqTaQKnroyPs",
        "outputId": "e2d8438c-12c4-4ea3-c51d-b0aa3902731d"
      },
      "execution_count": null,
      "outputs": [
        {
          "output_type": "execute_result",
          "data": {
            "text/plain": [
              "tensor([1., 1., 0., 1., 0., 1., 0., 0., 1., 1.])"
            ]
          },
          "metadata": {},
          "execution_count": 238
        }
      ]
    },
    {
      "cell_type": "code",
      "source": [
        "loss_fn = nn.BCEWithLogitsLoss()\n",
        "optimiser = torch.optim.SGD(params=model2.parameters(),\n",
        "                            lr=0.1)"
      ],
      "metadata": {
        "id": "lglmAnr2pqB0"
      },
      "execution_count": null,
      "outputs": []
    },
    {
      "cell_type": "code",
      "source": [
        "def accuracy_fn(y_true,y_pred):\n",
        "    correct = torch.eq(y_true,y_pred).sum().item()\n",
        "    acc = (correct/len(y_pred)) * 100\n",
        "    return acc"
      ],
      "metadata": {
        "id": "w_xTnWcGwtg-"
      },
      "execution_count": null,
      "outputs": []
    },
    {
      "cell_type": "code",
      "source": [
        "### Training a model\n",
        "# converting the output to 0 or 1 using sigmoid activation \n",
        "with torch.inference_mode():\n",
        "    preds = model2(X_test.to(device)[:10])\n",
        "torch.round(torch.sigmoid(preds))"
      ],
      "metadata": {
        "colab": {
          "base_uri": "https://localhost:8080/"
        },
        "id": "uZ_3GmSOx97a",
        "outputId": "a50ba9ad-7e75-4687-a4e8-45c75aec23d5"
      },
      "execution_count": null,
      "outputs": [
        {
          "output_type": "execute_result",
          "data": {
            "text/plain": [
              "tensor([[1.],\n",
              "        [1.],\n",
              "        [1.],\n",
              "        [1.],\n",
              "        [1.],\n",
              "        [1.],\n",
              "        [1.],\n",
              "        [1.],\n",
              "        [1.],\n",
              "        [1.]], device='cuda:0')"
            ]
          },
          "metadata": {},
          "execution_count": 241
        }
      ]
    },
    {
      "cell_type": "code",
      "source": [
        "torch.eq(y_test[:10],torch.round(torch.sigmoid(preds)).squeeze().cpu())"
      ],
      "metadata": {
        "colab": {
          "base_uri": "https://localhost:8080/"
        },
        "id": "eGmA3s9vkvZp",
        "outputId": "f64ec228-9db9-46a7-eea7-877e66702945"
      },
      "execution_count": null,
      "outputs": [
        {
          "output_type": "execute_result",
          "data": {
            "text/plain": [
              "tensor([ True,  True, False,  True, False,  True, False, False,  True,  True])"
            ]
          },
          "metadata": {},
          "execution_count": 242
        }
      ]
    },
    {
      "cell_type": "code",
      "source": [
        "torch.round(torch.sigmoid(preds)).squeeze().cpu()"
      ],
      "metadata": {
        "colab": {
          "base_uri": "https://localhost:8080/"
        },
        "id": "zb-_GYxdlbux",
        "outputId": "c7ebba45-0617-4a65-dffd-dfa13567ce0a"
      },
      "execution_count": null,
      "outputs": [
        {
          "output_type": "execute_result",
          "data": {
            "text/plain": [
              "tensor([1., 1., 1., 1., 1., 1., 1., 1., 1., 1.])"
            ]
          },
          "metadata": {},
          "execution_count": 243
        }
      ]
    },
    {
      "cell_type": "code",
      "source": [
        "y_test[:10]"
      ],
      "metadata": {
        "colab": {
          "base_uri": "https://localhost:8080/"
        },
        "id": "XZlHTq4RlfEX",
        "outputId": "d6a1881f-3263-4f79-d292-4b64286971a0"
      },
      "execution_count": null,
      "outputs": [
        {
          "output_type": "execute_result",
          "data": {
            "text/plain": [
              "tensor([1., 1., 0., 1., 0., 1., 0., 0., 1., 1.])"
            ]
          },
          "metadata": {},
          "execution_count": 244
        }
      ]
    },
    {
      "cell_type": "markdown",
      "source": [
        "Training "
      ],
      "metadata": {
        "id": "gUIvq7jolmBP"
      }
    },
    {
      "cell_type": "code",
      "source": [
        "device"
      ],
      "metadata": {
        "colab": {
          "base_uri": "https://localhost:8080/",
          "height": 36
        },
        "id": "CzBbu_MFllRX",
        "outputId": "03c7a167-b94d-4a60-ce15-98ec36168fdc"
      },
      "execution_count": null,
      "outputs": [
        {
          "output_type": "execute_result",
          "data": {
            "text/plain": [
              "'cuda'"
            ],
            "application/vnd.google.colaboratory.intrinsic+json": {
              "type": "string"
            }
          },
          "metadata": {},
          "execution_count": 245
        }
      ]
    },
    {
      "cell_type": "code",
      "source": [
        "!nvidia-smi"
      ],
      "metadata": {
        "colab": {
          "base_uri": "https://localhost:8080/"
        },
        "id": "vtVd4f9tlogA",
        "outputId": "95523c8b-712a-4656-dcb4-459705cd534a"
      },
      "execution_count": null,
      "outputs": [
        {
          "output_type": "stream",
          "name": "stdout",
          "text": [
            "Thu Dec 15 09:44:04 2022       \n",
            "+-----------------------------------------------------------------------------+\n",
            "| NVIDIA-SMI 460.32.03    Driver Version: 460.32.03    CUDA Version: 11.2     |\n",
            "|-------------------------------+----------------------+----------------------+\n",
            "| GPU  Name        Persistence-M| Bus-Id        Disp.A | Volatile Uncorr. ECC |\n",
            "| Fan  Temp  Perf  Pwr:Usage/Cap|         Memory-Usage | GPU-Util  Compute M. |\n",
            "|                               |                      |               MIG M. |\n",
            "|===============================+======================+======================|\n",
            "|   0  Tesla T4            Off  | 00000000:00:04.0 Off |                    0 |\n",
            "| N/A   77C    P0    34W /  70W |    804MiB / 15109MiB |      0%      Default |\n",
            "|                               |                      |                  N/A |\n",
            "+-------------------------------+----------------------+----------------------+\n",
            "                                                                               \n",
            "+-----------------------------------------------------------------------------+\n",
            "| Processes:                                                                  |\n",
            "|  GPU   GI   CI        PID   Type   Process name                  GPU Memory |\n",
            "|        ID   ID                                                   Usage      |\n",
            "|=============================================================================|\n",
            "+-----------------------------------------------------------------------------+\n"
          ]
        }
      ]
    },
    {
      "cell_type": "code",
      "source": [
        "torch.manual_seed(42)\n",
        "torch.cuda.manual_seed(42)\n",
        "\n",
        "### convert that data to device type\n",
        "\n",
        "X_train,y_train = X_train.to(device),y_train.to(device)\n",
        "X_test,y_test = X_test.to(device),y_test.to(device)\n",
        "\n",
        "\n",
        "### Training ang testing loop \n",
        "\n",
        "epochs = 2500 \n",
        "\n",
        "\n",
        "for epoch in range(epochs):\n",
        "    ### training mode\n",
        "    model2.train()\n",
        "\n",
        "\n",
        "    #### forward pass and calculate preds\n",
        "    train_preds_logits = model2(X_train).squeeze()\n",
        "    train_preds = torch.round(torch.sigmoid(train_preds_logits))\n",
        "\n",
        "    ### calculate loss\n",
        "\n",
        "    train_loss = loss_fn(train_preds_logits,y_train)\n",
        "    train_acc = accuracy_fn(y_train,train_preds) \n",
        "\n",
        "\n",
        "    ### optimiser \n",
        "    optimiser.zero_grad()\n",
        "\n",
        "    ## backprp\n",
        "    train_loss.backward()\n",
        "\n",
        "    ### step _incrememnt \n",
        "\n",
        "    optimiser.step()\n",
        "\n",
        "\n",
        "    ### evaluation mode\n",
        "    model2.eval()\n",
        "\n",
        "    with torch.inference_mode():\n",
        "        test_pred_logits = model2(X_test).squeeze()\n",
        "        test_preds = torch.round(torch.sigmoid(test_pred_logits))\n",
        "\n",
        "        test_loss = loss_fn(test_pred_logits,y_test)\n",
        "        test_acc = accuracy_fn(y_test,test_preds)\n",
        "\n",
        "        if epoch % 100 == 0 :\n",
        "            print(f\"Epoch : {epoch} | Train loss : {train_loss : 4f} , Train accuracy : {train_acc:2f} | Test loss : {test_loss : 4f} , Test accuracy : {test_acc : 2f}\")\n"
      ],
      "metadata": {
        "colab": {
          "base_uri": "https://localhost:8080/"
        },
        "id": "cffQ7vg8kBkE",
        "outputId": "12dcf078-bde4-4a12-d139-f21a2c49a949"
      },
      "execution_count": null,
      "outputs": [
        {
          "output_type": "stream",
          "name": "stdout",
          "text": [
            "Epoch : 0 | Train loss :  0.693012 , Train accuracy : 49.812500 | Test loss :  0.692786 , Test accuracy :  50.750000\n",
            "Epoch : 100 | Train loss :  0.690943 , Train accuracy : 52.625000 | Test loss :  0.691041 , Test accuracy :  52.500000\n",
            "Epoch : 200 | Train loss :  0.689292 , Train accuracy : 53.000000 | Test loss :  0.689550 , Test accuracy :  53.000000\n",
            "Epoch : 300 | Train loss :  0.687025 , Train accuracy : 53.250000 | Test loss :  0.687399 , Test accuracy :  52.750000\n",
            "Epoch : 400 | Train loss :  0.683252 , Train accuracy : 53.625000 | Test loss :  0.684111 , Test accuracy :  52.750000\n",
            "Epoch : 500 | Train loss :  0.677607 , Train accuracy : 54.437500 | Test loss :  0.679499 , Test accuracy :  53.000000\n",
            "Epoch : 600 | Train loss :  0.668652 , Train accuracy : 56.812500 | Test loss :  0.672323 , Test accuracy :  55.000000\n",
            "Epoch : 700 | Train loss :  0.656308 , Train accuracy : 63.875000 | Test loss :  0.662549 , Test accuracy :  60.500000\n",
            "Epoch : 800 | Train loss :  0.635584 , Train accuracy : 69.000000 | Test loss :  0.644536 , Test accuracy :  66.250000\n",
            "Epoch : 900 | Train loss :  0.594759 , Train accuracy : 78.937500 | Test loss :  0.603976 , Test accuracy :  76.000000\n",
            "Epoch : 1000 | Train loss :  0.522446 , Train accuracy : 88.750000 | Test loss :  0.528129 , Test accuracy :  87.500000\n",
            "Epoch : 1100 | Train loss :  0.421757 , Train accuracy : 94.500000 | Test loss :  0.426884 , Test accuracy :  94.250000\n",
            "Epoch : 1200 | Train loss :  0.302812 , Train accuracy : 98.750000 | Test loss :  0.307459 , Test accuracy :  98.750000\n",
            "Epoch : 1300 | Train loss :  0.203080 , Train accuracy : 99.687500 | Test loss :  0.210068 , Test accuracy :  99.000000\n",
            "Epoch : 1400 | Train loss :  0.141157 , Train accuracy : 99.875000 | Test loss :  0.149958 , Test accuracy :  98.750000\n",
            "Epoch : 1500 | Train loss :  0.104600 , Train accuracy : 99.875000 | Test loss :  0.112888 , Test accuracy :  98.500000\n",
            "Epoch : 1600 | Train loss :  0.081435 , Train accuracy : 99.937500 | Test loss :  0.089959 , Test accuracy :  99.000000\n",
            "Epoch : 1700 | Train loss :  0.066001 , Train accuracy : 99.937500 | Test loss :  0.074563 , Test accuracy :  99.500000\n",
            "Epoch : 1800 | Train loss :  0.055300 , Train accuracy : 99.937500 | Test loss :  0.063517 , Test accuracy :  99.750000\n",
            "Epoch : 1900 | Train loss :  0.047539 , Train accuracy : 99.937500 | Test loss :  0.055415 , Test accuracy :  99.750000\n",
            "Epoch : 2000 | Train loss :  0.041460 , Train accuracy : 99.875000 | Test loss :  0.049125 , Test accuracy :  99.750000\n",
            "Epoch : 2100 | Train loss :  0.036793 , Train accuracy : 99.875000 | Test loss :  0.044067 , Test accuracy :  99.750000\n",
            "Epoch : 2200 | Train loss :  0.032995 , Train accuracy : 99.875000 | Test loss :  0.039884 , Test accuracy :  99.750000\n",
            "Epoch : 2300 | Train loss :  0.029936 , Train accuracy : 99.875000 | Test loss :  0.036405 , Test accuracy :  99.500000\n",
            "Epoch : 2400 | Train loss :  0.027448 , Train accuracy : 99.875000 | Test loss :  0.033664 , Test accuracy :  99.750000\n"
          ]
        }
      ]
    },
    {
      "cell_type": "code",
      "source": [
        "import requests \n",
        "from pathlib import Path\n",
        "\n",
        "if Path(\"helper_functions.py\").is_file():\n",
        "    print(\"File exists\")\n",
        "else:\n",
        "    print(\"Downloaing the function\")\n",
        "    page = requests.get(\"https://raw.githubusercontent.com/mrdbourke/pytorch-deep-learning/main/helper_functions.py\")\n",
        "    with open(\"helper_functions.py\",\"wb\") as f:\n",
        "        f.write(page.content)\n",
        "from helper_functions import plot_decision_boundary,plot_predictions"
      ],
      "metadata": {
        "colab": {
          "base_uri": "https://localhost:8080/"
        },
        "id": "dHR_td9R2y-y",
        "outputId": "7ed2b649-77da-4a56-bac9-737b0e3de2ed"
      },
      "execution_count": null,
      "outputs": [
        {
          "output_type": "stream",
          "name": "stdout",
          "text": [
            "File exists\n"
          ]
        }
      ]
    },
    {
      "cell_type": "code",
      "source": [
        "with torch.inference_mode():\n",
        "    y_preds = torch.round(torch.sigmoid(model2(X_test).squeeze())).cpu()\n",
        "y_preds"
      ],
      "metadata": {
        "colab": {
          "base_uri": "https://localhost:8080/"
        },
        "id": "ZDMEGXHR56TJ",
        "outputId": "64c19c8c-8c45-4453-e5b8-e8851a0b7787"
      },
      "execution_count": null,
      "outputs": [
        {
          "output_type": "execute_result",
          "data": {
            "text/plain": [
              "tensor([1., 1., 0., 1., 0., 1., 0., 0., 1., 1., 1., 0., 0., 0., 1., 1., 0., 1.,\n",
              "        1., 1., 0., 1., 1., 0., 1., 1., 1., 1., 0., 0., 0., 1., 1., 1., 0., 0.,\n",
              "        0., 1., 0., 1., 0., 0., 0., 0., 1., 0., 0., 0., 1., 1., 0., 1., 1., 0.,\n",
              "        1., 1., 0., 0., 0., 0., 1., 0., 1., 0., 0., 0., 1., 0., 1., 0., 1., 1.,\n",
              "        1., 1., 0., 0., 1., 0., 1., 0., 1., 0., 0., 0., 0., 0., 0., 0., 1., 0.,\n",
              "        1., 0., 1., 1., 0., 1., 1., 0., 1., 0., 0., 1., 1., 0., 0., 1., 1., 0.,\n",
              "        0., 1., 1., 1., 1., 0., 1., 0., 1., 0., 1., 1., 1., 0., 1., 0., 0., 1.,\n",
              "        0., 0., 1., 1., 1., 1., 0., 1., 0., 0., 1., 1., 1., 0., 0., 1., 1., 0.,\n",
              "        1., 1., 1., 0., 1., 1., 1., 1., 1., 1., 1., 1., 0., 0., 0., 0., 0., 0.,\n",
              "        0., 1., 1., 0., 1., 1., 0., 0., 0., 1., 0., 1., 0., 1., 0., 0., 0., 0.,\n",
              "        0., 1., 0., 1., 1., 0., 0., 1., 1., 1., 0., 1., 1., 0., 1., 0., 1., 1.,\n",
              "        1., 0., 1., 0., 1., 0., 0., 0., 1., 1., 1., 1., 1., 1., 0., 1., 1., 1.,\n",
              "        0., 0., 0., 0., 1., 1., 1., 0., 1., 0., 0., 0., 0., 0., 0., 0., 1., 1.,\n",
              "        1., 0., 0., 0., 1., 0., 0., 1., 0., 1., 1., 0., 0., 0., 0., 1., 0., 1.,\n",
              "        0., 1., 0., 0., 1., 0., 0., 0., 0., 1., 0., 0., 0., 1., 0., 1., 0., 1.,\n",
              "        0., 1., 0., 1., 0., 0., 1., 1., 1., 0., 0., 1., 0., 0., 1., 0., 1., 0.,\n",
              "        1., 0., 0., 0., 1., 1., 0., 1., 0., 1., 1., 1., 1., 1., 0., 0., 0., 0.,\n",
              "        0., 0., 1., 0., 1., 1., 0., 1., 1., 1., 0., 0., 0., 0., 1., 1., 0., 1.,\n",
              "        0., 1., 0., 1., 1., 1., 0., 1., 1., 0., 1., 1., 0., 0., 1., 1., 1., 0.,\n",
              "        0., 0., 1., 0., 0., 0., 1., 1., 1., 0., 0., 0., 0., 0., 1., 1., 1., 1.,\n",
              "        1., 0., 1., 0., 1., 0., 0., 0., 0., 0., 1., 1., 1., 0., 1., 1., 1., 1.,\n",
              "        1., 1., 1., 1., 1., 1., 0., 1., 1., 1., 1., 0., 1., 0., 1., 0., 0., 1.,\n",
              "        0., 1., 1., 1.])"
            ]
          },
          "metadata": {},
          "execution_count": 249
        }
      ]
    },
    {
      "cell_type": "code",
      "source": [
        "plt.figure(figsize=(12, 6))\n",
        "plt.subplot(1, 2, 1)\n",
        "plt.title(\"Train\")\n",
        "plot_decision_boundary(model2, X_train, y_train) # model_1 = no non-linearity\n",
        "plt.subplot(1, 2, 2)\n",
        "plt.title(\"Test\")\n",
        "plot_decision_boundary(model2, X_test, y_test) # model_3 = has non-linearity"
      ],
      "metadata": {
        "colab": {
          "base_uri": "https://localhost:8080/",
          "height": 390
        },
        "id": "nMtWJmRZ6K7i",
        "outputId": "cc9bcfb1-ed46-4709-dff0-cab7e6595f82"
      },
      "execution_count": null,
      "outputs": [
        {
          "output_type": "display_data",
          "data": {
            "text/plain": [
              "<Figure size 864x432 with 2 Axes>"
            ],
            "image/png": "[encoded data removed]"
          },
          "metadata": {
            "needs_background": "light"
          }
        }
      ]
    },
    {
      "cell_type": "markdown",
      "source": [
        "\n",
        "\n",
        "Multi class classification"
      ],
      "metadata": {
        "id": "gsMSf_RowtQK"
      }
    },
    {
      "cell_type": "code",
      "source": [
        "from sklearn.datasets import make_blobs\n",
        "import torch\n",
        "import matplotlib.pyplot as plt\n",
        "import pandas as pd \n",
        "\n",
        "\n",
        "N_SAMPLES = 2000\n",
        "NUM_CLASSES = 4\n",
        "NUM_FEATURES = 2\n",
        "RANDOM_SEED = 42\n",
        "\n",
        "X,y = make_blobs(n_samples=N_SAMPLES, \n",
        "                 n_features=NUM_FEATURES,\n",
        "                 centers=NUM_CLASSES, \n",
        "                 cluster_std=1.5,  \n",
        "                 shuffle=True, \n",
        "                 random_state=RANDOM_SEED)\n",
        "\n",
        "X.shape,y.shape"
      ],
      "metadata": {
        "colab": {
          "base_uri": "https://localhost:8080/"
        },
        "id": "mr54f_rles3g",
        "outputId": "f28931e5-9e4f-4c0a-cc4f-9c679e709c13"
      },
      "execution_count": 68,
      "outputs": [
        {
          "output_type": "execute_result",
          "data": {
            "text/plain": [
              "((2000, 2), (2000,))"
            ]
          },
          "metadata": {},
          "execution_count": 68
        }
      ]
    },
    {
      "cell_type": "code",
      "source": [
        "### coverting to torch tensors  \n",
        "\n",
        "X = torch.from_numpy(X).type(torch.float)\n",
        "y = torch.from_numpy(y).type(torch.float)"
      ],
      "metadata": {
        "id": "B-hHhnKqqlOy"
      },
      "execution_count": 69,
      "outputs": []
    },
    {
      "cell_type": "code",
      "source": [
        "### train test split \n",
        "from sklearn.model_selection import train_test_split \n",
        "X_train,X_test,y_train,y_test = train_test_split(X,y,\n",
        "                                                 test_size=0.2,\n",
        "                                                 random_state=42)\n",
        "len(X_train),len(y_train),len(X_test),len(y_test)"
      ],
      "metadata": {
        "colab": {
          "base_uri": "https://localhost:8080/"
        },
        "id": "zHNmH2WPrHqx",
        "outputId": "20d4784b-917f-44e9-c01c-54569e9a0dfc"
      },
      "execution_count": 70,
      "outputs": [
        {
          "output_type": "execute_result",
          "data": {
            "text/plain": [
              "(1600, 1600, 400, 400)"
            ]
          },
          "metadata": {},
          "execution_count": 70
        }
      ]
    },
    {
      "cell_type": "code",
      "source": [
        "X_train[:5]"
      ],
      "metadata": {
        "colab": {
          "base_uri": "https://localhost:8080/"
        },
        "id": "IsolFM1fsSMD",
        "outputId": "c8384b6a-3e78-44a5-a718-76d3607ff94b"
      },
      "execution_count": 71,
      "outputs": [
        {
          "output_type": "execute_result",
          "data": {
            "text/plain": [
              "tensor([[-11.5653,   8.4631],\n",
              "        [  5.7022,   2.3230],\n",
              "        [-10.8976,   7.8507],\n",
              "        [ -9.0975,   8.4814],\n",
              "        [ -3.4791,   7.3920]])"
            ]
          },
          "metadata": {},
          "execution_count": 71
        }
      ]
    },
    {
      "cell_type": "code",
      "source": [
        "torch.unique(y_train)"
      ],
      "metadata": {
        "colab": {
          "base_uri": "https://localhost:8080/"
        },
        "id": "qOFWLNoPsuzz",
        "outputId": "a6449bdb-c6ff-4639-a6ed-50e790f8031f"
      },
      "execution_count": 72,
      "outputs": [
        {
          "output_type": "execute_result",
          "data": {
            "text/plain": [
              "tensor([0., 1., 2., 3.])"
            ]
          },
          "metadata": {},
          "execution_count": 72
        }
      ]
    },
    {
      "cell_type": "code",
      "source": [
        "plt.figure(figsize=(15,6))\n",
        "plt.scatter(x=X_train[:,0].cpu().numpy(),\n",
        "            y=X_train[:,1].cpu().numpy(),\n",
        "            c=y_train.cpu().numpy())\n",
        "plt.show();"
      ],
      "metadata": {
        "colab": {
          "base_uri": "https://localhost:8080/",
          "height": 374
        },
        "id": "NtglWJRmskBl",
        "outputId": "377fbd8b-ee40-4752-dd55-12b38a7432e5"
      },
      "execution_count": 73,
      "outputs": [
        {
          "output_type": "display_data",
          "data": {
            "text/plain": [
              "<Figure size 1080x432 with 1 Axes>"
            ],
            "image/png": "[encoded data removed]"
          },
          "metadata": {
            "needs_background": "light"
          }
        }
      ]
    },
    {
      "cell_type": "code",
      "source": [
        "device = \"cuda\" if torch.cuda.is_available() else \"cpu\" \n",
        "device"
      ],
      "metadata": {
        "colab": {
          "base_uri": "https://localhost:8080/",
          "height": 35
        },
        "id": "X_sOIq3xuShc",
        "outputId": "674f18e8-5e77-4ee6-f6a6-79c5a7990877"
      },
      "execution_count": 74,
      "outputs": [
        {
          "output_type": "execute_result",
          "data": {
            "text/plain": [
              "'cpu'"
            ],
            "application/vnd.google.colaboratory.intrinsic+json": {
              "type": "string"
            }
          },
          "metadata": {},
          "execution_count": 74
        }
      ]
    },
    {
      "cell_type": "code",
      "source": [
        "### Multi class classification model \n",
        "import torch.nn as nn\n",
        "class MultiClassModelV1(nn.Module):\n",
        "    def __init__(self,input_features: int,output_features: int) -> None:\n",
        "        super().__init__()\n",
        "        self.model_layer_stack = nn.Sequential(\n",
        "            nn.Linear(in_features=input_features,out_features=16),\n",
        "            nn.ReLU(),\n",
        "            nn.Linear(in_features=16,out_features=8),\n",
        "            nn.ReLU(),\n",
        "            nn.Linear(in_features=8,out_features=output_features)\n",
        "        )\n",
        "    def forward(self, x: torch.Tensor) -> torch.Tensor: \n",
        "        return self.model_layer_stack(x)\n",
        "\n",
        "torch.manual_seed(42)\n",
        "multimodel = MultiClassModelV1(input_features=2,\n",
        "                               output_features=4).to(device)\n",
        "multimodel"
      ],
      "metadata": {
        "id": "wkL1bet5tGHn",
        "colab": {
          "base_uri": "https://localhost:8080/"
        },
        "outputId": "2f91a3dc-1787-4836-a417-42af7784ff92"
      },
      "execution_count": 75,
      "outputs": [
        {
          "output_type": "execute_result",
          "data": {
            "text/plain": [
              "MultiClassModelV1(\n",
              "  (model_layer_stack): Sequential(\n",
              "    (0): Linear(in_features=2, out_features=16, bias=True)\n",
              "    (1): ReLU()\n",
              "    (2): Linear(in_features=16, out_features=8, bias=True)\n",
              "    (3): ReLU()\n",
              "    (4): Linear(in_features=8, out_features=4, bias=True)\n",
              "  )\n",
              ")"
            ]
          },
          "metadata": {},
          "execution_count": 75
        }
      ]
    },
    {
      "cell_type": "code",
      "source": [
        "# list(multimodel.parameters())\n",
        "multimodel.state_dict()"
      ],
      "metadata": {
        "colab": {
          "base_uri": "https://localhost:8080/"
        },
        "id": "2ady_gFzw-RA",
        "outputId": "984d73f3-01cb-4d01-fd45-cd11b4bcb646"
      },
      "execution_count": 76,
      "outputs": [
        {
          "output_type": "execute_result",
          "data": {
            "text/plain": [
              "OrderedDict([('model_layer_stack.0.weight', tensor([[ 0.5406,  0.5869],\n",
              "                      [-0.1657,  0.6496],\n",
              "                      [-0.1549,  0.1427],\n",
              "                      [-0.3443,  0.4153],\n",
              "                      [ 0.6233, -0.5188],\n",
              "                      [ 0.6146,  0.1323],\n",
              "                      [ 0.5224,  0.0958],\n",
              "                      [ 0.3410, -0.0998],\n",
              "                      [ 0.5451,  0.1045],\n",
              "                      [-0.3301,  0.1802],\n",
              "                      [-0.3258, -0.0829],\n",
              "                      [-0.2872,  0.4691],\n",
              "                      [-0.5582, -0.3260],\n",
              "                      [-0.1997, -0.4252],\n",
              "                      [ 0.0667, -0.6984],\n",
              "                      [ 0.6386, -0.6007]])),\n",
              "             ('model_layer_stack.0.bias',\n",
              "              tensor([ 0.5459,  0.1177, -0.2296,  0.4370,  0.1102,  0.5713,  0.0773, -0.2230,\n",
              "                       0.1900, -0.1918,  0.2976,  0.6313,  0.4087, -0.3091,  0.4082,  0.1265])),\n",
              "             ('model_layer_stack.2.weight',\n",
              "              tensor([[ 0.1270, -0.1524, -0.2475, -0.0966, -0.1918,  0.2051,  0.0720,  0.1036,\n",
              "                        0.0791, -0.0043,  0.1957, -0.1776,  0.0157, -0.1706,  0.0771, -0.0861],\n",
              "                      [ 0.0766, -0.0521,  0.2073, -0.1482, -0.1491, -0.1491,  0.2249,  0.0833,\n",
              "                        0.2406, -0.2063, -0.2480, -0.1956, -0.1682,  0.1013,  0.0895,  0.2077],\n",
              "                      [-0.1291, -0.1704,  0.1326, -0.1011,  0.1517, -0.0593,  0.1430, -0.1942,\n",
              "                       -0.1262,  0.0762,  0.0529, -0.0637,  0.1490,  0.1700, -0.1813, -0.1335],\n",
              "                      [ 0.2289, -0.0844, -0.0886, -0.2419, -0.1432,  0.0625, -0.0330, -0.1815,\n",
              "                        0.0059, -0.1708, -0.2121, -0.1377, -0.2188, -0.1592,  0.2499,  0.0472],\n",
              "                      [ 0.0770, -0.2332, -0.1642, -0.0832,  0.0391, -0.2200, -0.1077, -0.1497,\n",
              "                        0.0007, -0.0930, -0.0173, -0.1694, -0.1716, -0.1459, -0.0856, -0.1973],\n",
              "                      [ 0.2096, -0.0496,  0.2151,  0.0779, -0.2117,  0.1730, -0.0688, -0.0958,\n",
              "                       -0.2075, -0.2485,  0.0715, -0.0546,  0.0973, -0.2052,  0.1856, -0.1835],\n",
              "                      [-0.0432,  0.0522,  0.1291,  0.2018,  0.2277, -0.1982,  0.0629, -0.1075,\n",
              "                       -0.0274, -0.1871,  0.2277, -0.1835,  0.1336,  0.0879,  0.0812, -0.1352],\n",
              "                      [ 0.2272,  0.0549,  0.0322, -0.2203,  0.1049, -0.0375, -0.1145,  0.2147,\n",
              "                        0.0557, -0.1383, -0.1265, -0.0119,  0.1396, -0.0639, -0.1426, -0.0856]])),\n",
              "             ('model_layer_stack.2.bias',\n",
              "              tensor([-0.1868,  0.0892,  0.1935, -0.2354,  0.0581,  0.1291,  0.0453, -0.0890])),\n",
              "             ('model_layer_stack.4.weight',\n",
              "              tensor([[ 0.1845,  0.1858,  0.1322, -0.0621, -0.0936,  0.0378, -0.0625, -0.1054],\n",
              "                      [ 0.2260,  0.3038, -0.0350, -0.0792,  0.0052, -0.0211,  0.0850,  0.0991],\n",
              "                      [-0.3211, -0.1305,  0.2977,  0.1377, -0.0176, -0.2132, -0.2163, -0.3167],\n",
              "                      [-0.1152,  0.1194,  0.2254,  0.1632, -0.3125, -0.2126, -0.0558,  0.3420]])),\n",
              "             ('model_layer_stack.4.bias',\n",
              "              tensor([ 0.0511, -0.0916,  0.1463, -0.1347]))])"
            ]
          },
          "metadata": {},
          "execution_count": 76
        }
      ]
    },
    {
      "cell_type": "code",
      "source": [
        "### making predcitions \n",
        "with torch.inference_mode():    \n",
        "    preds = multimodel(X_test)\n",
        "preds"
      ],
      "metadata": {
        "colab": {
          "base_uri": "https://localhost:8080/"
        },
        "id": "hbDsB-bYxpv-",
        "outputId": "345016bd-47c1-4ef2-f881-18f3d28e699a"
      },
      "execution_count": 77,
      "outputs": [
        {
          "output_type": "execute_result",
          "data": {
            "text/plain": [
              "tensor([[ 0.0840, -0.1099, -0.0386, -0.3191],\n",
              "        [ 0.1475,  0.0859, -0.1922, -0.1579],\n",
              "        [-0.0127, -0.0046, -0.0749, -0.1917],\n",
              "        ...,\n",
              "        [ 0.0447, -0.0741,  0.0255, -0.2109],\n",
              "        [ 0.0719, -0.1023,  0.0195, -0.2583],\n",
              "        [ 0.2593,  0.3764, -0.3454,  0.1556]])"
            ]
          },
          "metadata": {},
          "execution_count": 77
        }
      ]
    },
    {
      "cell_type": "code",
      "source": [
        "preds.shape"
      ],
      "metadata": {
        "colab": {
          "base_uri": "https://localhost:8080/"
        },
        "id": "4Rn-OMVB8Ke-",
        "outputId": "e9eb6e2d-c1f7-47c0-b1cc-658a1f9bcf66"
      },
      "execution_count": 78,
      "outputs": [
        {
          "output_type": "execute_result",
          "data": {
            "text/plain": [
              "torch.Size([400, 4])"
            ]
          },
          "metadata": {},
          "execution_count": 78
        }
      ]
    },
    {
      "cell_type": "code",
      "source": [
        "torch.argmax(torch.softmax(preds,dim=1),dim=1)[:10]"
      ],
      "metadata": {
        "colab": {
          "base_uri": "https://localhost:8080/"
        },
        "id": "4RTENQa6ydh5",
        "outputId": "e3593bc5-bfc9-4a49-8bd4-080aa237caf7"
      },
      "execution_count": 79,
      "outputs": [
        {
          "output_type": "execute_result",
          "data": {
            "text/plain": [
              "tensor([0, 0, 1, 0, 1, 0, 1, 1, 1, 0])"
            ]
          },
          "metadata": {},
          "execution_count": 79
        }
      ]
    },
    {
      "cell_type": "code",
      "source": [
        "y_test[:10]"
      ],
      "metadata": {
        "colab": {
          "base_uri": "https://localhost:8080/"
        },
        "id": "LWF_avPWz4vl",
        "outputId": "29ddf351-07b3-45a4-accb-b9ec5a24908f"
      },
      "execution_count": 80,
      "outputs": [
        {
          "output_type": "execute_result",
          "data": {
            "text/plain": [
              "tensor([0., 2., 3., 2., 3., 3., 1., 1., 3., 0.])"
            ]
          },
          "metadata": {},
          "execution_count": 80
        }
      ]
    },
    {
      "cell_type": "code",
      "source": [
        "### define loss and optimiser fucntions\n",
        "\n",
        "loss_fn = nn.CrossEntropyLoss()\n",
        "optimiser = torch.optim.Adam(params=multimodel.parameters(),\n",
        "                          lr=0.01)"
      ],
      "metadata": {
        "id": "rm8-BWzP0arQ"
      },
      "execution_count": 81,
      "outputs": []
    },
    {
      "cell_type": "code",
      "source": [
        "### Training and testing loops\n",
        "from sklearn.metrics import accuracy_score\n",
        "\n",
        "torch.manual_seed(42)\n",
        "torch.cuda.manual_seed(42)\n",
        "\n",
        "### moving data to device\n",
        "\n",
        "X_train,y_train = X_train.to(device),y_train.type(torch.long).to(device) ### converting the labels to int64 as pytorch requires the categorical outputs in int64form\n",
        "X_test,y_test = X_test.to(device),y_test.type(torch.long).to(device)\n",
        "\n",
        "EPOCHS = 2000 \n",
        "\n",
        "for epoch in range(EPOCHS):\n",
        "    multimodel.train() ### setting the training mode\n",
        "\n",
        "    ### calculate the predictions by a forward pass\n",
        "    y_train_raw = multimodel(X_train)\n",
        "    y_train_preds = torch.argmax(torch.softmax(y_train_raw,dim=1),dim=1)\n",
        "\n",
        "    ### calculate the loss \n",
        "    train_loss = loss_fn(y_train_raw,y_train)\n",
        "    train_acc = accuracy_score(y_train,y_train_preds)\n",
        "    \n",
        "    ### reset the grds\n",
        "    optimiser.zero_grad()\n",
        "\n",
        "    ### backpropagation to calculate gradients \n",
        "    train_loss.backward()\n",
        "\n",
        "    ### update the parameters \n",
        "    optimiser.step()\n",
        "\n",
        "    multimodel.eval()\n",
        "    with torch.inference_mode():\n",
        "        y_test_raw = multimodel(X_test)\n",
        "        y_test_preds = torch.argmax(torch.softmax(y_test_raw,dim=1),dim=1)\n",
        "\n",
        "        ### calculate the loss \n",
        "        test_loss = loss_fn(y_test_raw,y_test)\n",
        "        test_acc = accuracy_score(y_test,y_test_preds) \n",
        "\n",
        "        if epoch % 100 == 0:\n",
        "            print(f\"Epoch : {epoch} | Train loss : {train_loss:5f} , Train acc : {train_acc:2f} | Test loss : {test_loss:5f} , Test acc : {test_acc:2f}\")"
      ],
      "metadata": {
        "colab": {
          "base_uri": "https://localhost:8080/"
        },
        "id": "URD_URrJ2zfQ",
        "outputId": "bbb2b476-034a-4553-9a0d-e9b41c858006"
      },
      "execution_count": 82,
      "outputs": [
        {
          "output_type": "stream",
          "name": "stdout",
          "text": [
            "Epoch : 0 | Train loss : 1.338762 , Train acc : 0.492500 | Test loss : 1.243021 , Test acc : 0.660000\n",
            "Epoch : 100 | Train loss : 0.028126 , Train acc : 0.990625 | Test loss : 0.020124 , Test acc : 0.995000\n",
            "Epoch : 200 | Train loss : 0.026196 , Train acc : 0.990625 | Test loss : 0.017132 , Test acc : 0.995000\n",
            "Epoch : 300 | Train loss : 0.024832 , Train acc : 0.991250 | Test loss : 0.014680 , Test acc : 0.995000\n",
            "Epoch : 400 | Train loss : 0.023928 , Train acc : 0.990625 | Test loss : 0.012776 , Test acc : 0.995000\n",
            "Epoch : 500 | Train loss : 0.023423 , Train acc : 0.990625 | Test loss : 0.011484 , Test acc : 0.995000\n",
            "Epoch : 600 | Train loss : 0.023173 , Train acc : 0.990625 | Test loss : 0.010752 , Test acc : 0.997500\n",
            "Epoch : 700 | Train loss : 0.023021 , Train acc : 0.990625 | Test loss : 0.010382 , Test acc : 0.995000\n",
            "Epoch : 800 | Train loss : 0.022902 , Train acc : 0.990625 | Test loss : 0.010196 , Test acc : 0.995000\n",
            "Epoch : 900 | Train loss : 0.022789 , Train acc : 0.990625 | Test loss : 0.010102 , Test acc : 0.995000\n",
            "Epoch : 1000 | Train loss : 0.022683 , Train acc : 0.990625 | Test loss : 0.010051 , Test acc : 0.995000\n",
            "Epoch : 1100 | Train loss : 0.022579 , Train acc : 0.990625 | Test loss : 0.010011 , Test acc : 0.995000\n",
            "Epoch : 1200 | Train loss : 0.022475 , Train acc : 0.990625 | Test loss : 0.009974 , Test acc : 0.995000\n",
            "Epoch : 1300 | Train loss : 0.022371 , Train acc : 0.990625 | Test loss : 0.009963 , Test acc : 0.995000\n",
            "Epoch : 1400 | Train loss : 0.022266 , Train acc : 0.990625 | Test loss : 0.009888 , Test acc : 0.997500\n",
            "Epoch : 1500 | Train loss : 0.022175 , Train acc : 0.990625 | Test loss : 0.009871 , Test acc : 0.997500\n",
            "Epoch : 1600 | Train loss : 0.022065 , Train acc : 0.990625 | Test loss : 0.009802 , Test acc : 0.997500\n",
            "Epoch : 1700 | Train loss : 0.021913 , Train acc : 0.990625 | Test loss : 0.009816 , Test acc : 0.997500\n",
            "Epoch : 1800 | Train loss : 0.021886 , Train acc : 0.990625 | Test loss : 0.009994 , Test acc : 0.995000\n",
            "Epoch : 1900 | Train loss : 0.021747 , Train acc : 0.990625 | Test loss : 0.010207 , Test acc : 0.995000\n"
          ]
        }
      ]
    },
    {
      "cell_type": "code",
      "source": [
        "import requests \n",
        "from pathlib import Path\n",
        "\n",
        "if Path(\"helper_functions.py\").is_file():\n",
        "    print(\"File exists\")\n",
        "else:\n",
        "    print(\"Downloaing the function\")\n",
        "    page = requests.get(\"https://raw.githubusercontent.com/mrdbourke/pytorch-deep-learning/main/helper_functions.py\")\n",
        "    with open(\"helper_functions.py\",\"wb\") as f:\n",
        "        f.write(page.content)\n",
        "from helper_functions import plot_decision_boundary,plot_predictions    \n"
      ],
      "metadata": {
        "colab": {
          "base_uri": "https://localhost:8080/"
        },
        "id": "sg1glQF03r9X",
        "outputId": "6f89017c-ca40-4a20-cd81-0141e43ec95c"
      },
      "execution_count": 83,
      "outputs": [
        {
          "output_type": "stream",
          "name": "stdout",
          "text": [
            "Downloaing the function\n"
          ]
        }
      ]
    },
    {
      "cell_type": "code",
      "source": [
        "plt.figure(figsize=(12, 6))\n",
        "plt.subplot(1, 2, 1)\n",
        "plt.title(\"Train\")\n",
        "plot_decision_boundary(multimodel, X_train, y_train) # model_1 = no non-linearity\n",
        "plt.subplot(1, 2, 2)\n",
        "plt.title(\"Test\")\n",
        "plot_decision_boundary(multimodel, X_test, y_test) # model_3 = has non-linearity"
      ],
      "metadata": {
        "colab": {
          "base_uri": "https://localhost:8080/",
          "height": 390
        },
        "id": "uN__pml6IknS",
        "outputId": "dfc9c09e-d228-4321-dce0-2db8d325d34a"
      },
      "execution_count": 84,
      "outputs": [
        {
          "output_type": "display_data",
          "data": {
            "text/plain": [
              "<Figure size 864x432 with 2 Axes>"
            ],
            "image/png": "[encoded data removed]"
          },
          "metadata": {
            "needs_background": "light"
          }
        }
      ]
    },
    {
      "cell_type": "code",
      "source": [],
      "metadata": {
        "id": "0HWrPnm9ItMw"
      },
      "execution_count": null,
      "outputs": []
    }
  ]
}